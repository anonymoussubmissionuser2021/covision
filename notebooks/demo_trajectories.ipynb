{
 "cells": [
  {
   "cell_type": "markdown",
   "metadata": {},
   "source": [
    "## Visualizing Trajectories"
   ]
  },
  {
   "cell_type": "code",
   "execution_count": 1,
   "metadata": {},
   "outputs": [
    {
     "name": "stdout",
     "output_type": "stream",
     "text": [
      "INFO: Pandarallel will run on 8 workers.\n",
      "INFO: Pandarallel will use standard multiprocessing data transfer (pipe) to transfer data between the main process and workers.\n"
     ]
    },
    {
     "name": "stderr",
     "output_type": "stream",
     "text": [
      "/Users/mednet_machine/mypy/lib/python3.7/site-packages/urllib3/_collections.py:2: DeprecationWarning: Using or importing the ABCs from 'collections' instead of from 'collections.abc' is deprecated, and in 3.8 it will stop working\n",
      "/Users/mednet_machine/mypy/lib/python3.7/site-packages/scipy/sparse/sparsetools.py:21: DeprecationWarning: `scipy.sparse.sparsetools` is deprecated!\n",
      "scipy.sparse.sparsetools is a private module for scipy.sparse, and should not be used.\n"
     ]
    },
    {
     "name": "stdout",
     "output_type": "stream",
     "text": [
      "INFO: Pandarallel will run on 8 workers.\n",
      "INFO: Pandarallel will use standard multiprocessing data transfer (pipe) to transfer data between the main process and workers.\n"
     ]
    }
   ],
   "source": [
    "import os, sys\n",
    "from datetime import datetime, date\n",
    "import pandas\n",
    "import pickle\n",
    "import plotly\n",
    "import plotly.express as px\n",
    "import plotly.graph_objects as go\n",
    "sys.path.append('..')\n",
    "from covid_and_bigdata.presentation.topic_modeling import plot_perplexity_of_train_and_test\n",
    "from covid_and_bigdata.processing.dataframes import get_dataframe_and_prepare\n",
    "from covid_and_bigdata.meta import important_events\n",
    "from covid_and_bigdata.presentation.trajectories import get_go_figure"
   ]
  },
  {
   "cell_type": "code",
   "execution_count": null,
   "metadata": {},
   "outputs": [],
   "source": [
    "df = get_dataframe_and_prepare(filepath='../resources/data/files/df_with_symptoms_and_hate_score.csv')"
   ]
  },
  {
   "cell_type": "code",
   "execution_count": null,
   "metadata": {},
   "outputs": [],
   "source": [
    "df.character_length.max()"
   ]
  },
  {
   "cell_type": "raw",
   "metadata": {},
   "source": [
    "tmp_dfs = {\n",
    "    'per_state_mean':  df.copy().groupby(['date', 'state']).mean().reset_index(),\n",
    "    'per_state_max': df.copy().groupby(['date', 'state']).max().reset_index(),\n",
    "    'per_state_min': df.copy().groupby(['date', 'state']).min().reset_index(),\n",
    "    'per_state_median': df.copy().groupby(['date', 'state']).median().reset_index(),\n",
    "    'per_country_mean': df.copy().groupby(['date']).mean().reset_index(),\n",
    "    'per_country_max': df.copy().groupby(['date']).max().reset_index(),\n",
    "    'per_country_min': df.copy().groupby(['date']).min().reset_index(),\n",
    "    'per_country_median': df.copy().groupby(['date']).median().reset_index(),\n",
    "}\n",
    "with open('../resources/data/files/location_aggregates.pkl', 'wb') as handle:\n",
    "    pickle.dump(tmp_dfs, handle)"
   ]
  },
  {
   "cell_type": "code",
   "execution_count": null,
   "metadata": {},
   "outputs": [],
   "source": [
    "with open('../resources/data/files/location_aggregates.pkl', 'rb') as handle:\n",
    "    tmp_dfs = pickle.load(handle)"
   ]
  },
  {
   "cell_type": "code",
   "execution_count": null,
   "metadata": {},
   "outputs": [],
   "source": [
    "tmp_dfs['per_state_mean'].columns"
   ]
  },
  {
   "cell_type": "code",
   "execution_count": 6,
   "metadata": {},
   "outputs": [
    {
     "data": {
      "text/plain": [
       "[{'date': '2020-01-21',\n",
       "  'title': 'Announcing First COVID-19 Case',\n",
       "  'description': 'On January 21, the US announced its first case of the coronavirus that has swept China. So far, China has reported more than 300 cases and 9 deaths. The US citizen recently traveled from China, and has been treated at a hospital in Seattle. On January 24, a second case was confirmed in the US. The woman was traveling back to Chicago from China. The US is considering evacuating other citizens in Wuhan. (BBC)'},\n",
       " {'date': '2020-02-08',\n",
       "  'title': 'First American Death due to COVID-19',\n",
       "  'description': '\\n    On February 8, the first American citizen died of the coronavirus in Wuhan. The death was announced hours after two flights evacuated US citizens from Wuhan. This is the first American to die from the virus that has killed hundreds in China. (CNN)\\n    '},\n",
       " {'date': '2020-03-23',\n",
       "  'title': 'Stimulus Package #1 Approved by Senate',\n",
       "  'description': '\\n    On March 23, the Senate finally passed a stimulus package intended to offer economic relief during the coronavirus. The package is $1.8 trillion, and offers help to small businesses and reportedly $1,200 to most adults. The bill must still be voted on by the House and the Senate before being signed by President Trump. On March 29, President Trump officially signed the stimulus package. (BBC)\\n    '},\n",
       " {'date': '2020-03-10',\n",
       "  'title': 'US State of Emergency',\n",
       "  'description': '\\nOn March 10, sixteen US universities completely shut down in an attempt to control the spread of coronavirus. Students are in a frenzy to move out of campus housing in such a short time. On March 11, it was announced that Coachella (a music festival) would be postponed for the time being in an attempt to slow the spread of COVID-19. On March 12, it was announced that various K-12 schools across the country will be closing for a few weeks or more. Disneyland, the NBA, March Madness, and the NHL are among events that have closed for the foreseeable future. As of March 13, Washington, New York, California, Massachusetts, and Colorado have the most cases. On March 13, President Trump called a national emergency, signing a bill that allows for $50 billion of federal aid to be freed up. He said he may possibly get tested himself after potentially being exposed. (CNN/Reuters)\\n        '},\n",
       " {'date': '2020-04-16',\n",
       "  'title': 'New Jersey Nursing Homes Incident',\n",
       "  'description': '\\nOn April 16, Andover Police received a tip that there was a body in a New Jersey nursing home shed. When police arrived, a body was not found in the shed, but 17 were found in the morgue. Police are unsure whether the deaths of the people are due to coronavirus or another disease, but they have stated that the nursing home staff was short and overwhelmed. Police also mentioned that the morgue was only built for up to 4 people. Police are investigating the situation. (CNN)\\n\\n        '},\n",
       " {'date': '2020-05-26',\n",
       "  'title': 'BLM Protests Begin',\n",
       "  'description': '\\nOn May 26, hundreds of people in Minneapolis gathered at the intersection where George Floyd died. Floyd was being arrested after police were called for a potential forgery in progress. During the arrest, an officer placed his knee on Floyd’s neck, not moving it after Floyd said he couldn’t breathe. Floyd died later at the hospital. Four officers have been fired due to the incident. Protesters have gathered around Minneapolis, highlighting the #blacklivesmatter movement. By May 31, protests erupted in cities all around America. Curfews have been placed in cities and the National Guard has been deployed, but protests have continued. Various peaceful protests have led to clashes with the police, resulting in riots and looting. Various buildings have been caught on fire, as well. On May 30, in Detroit’s protest, an unknown suspect shot at the crowd, killing a 21-year-old male protester. (CNN)\\n        '},\n",
       " {'date': '2020-06-27',\n",
       "  'title': 'Coronavirus Worsens across US',\n",
       "  'description': '\\nOn June 27, an estimated 85 people contracted coronavirus at a bar in Michigan. As of June 29, US coronavirus cases continue to rise, causing many countries to reinforce travel restrictions. As of now, US citizens cannot travel to Canada for leisure and there’s talk of an EU block once the countries open up July 1. On June 29, it was revealed that cases in Texas have reached up to 5,000 a day as the governor urges residents to wear a mask. The total number of cases in the US has surpassed 2.5 million. On June 30, over 200 gym members in West Virigina were told to quarantine after a client tested positive. (CNN)\\n        '},\n",
       " {'date': '2020-06-27',\n",
       "  'title': 'Black Lives Matter Leads to Reforms',\n",
       "  'description': '\\nOn June 27, Colorado protesters shut down Highway 225 to protest the death of Elijah McClain, which occurred last August. McClain died after suffering from a heart attack that is allegedly correlated to the chokehold he was placed in by an officer. The case has been opened for investigation. On June 29, Mississippi’s legislature passed a bill to remove the Confederate Flag symbol from the state flag. Mississippi’s governor has stated he will sign the bill into law. (CNN)\\n        '},\n",
       " {'date': '2020-08-12',\n",
       "  'title': 'Joe Biden Announces Running Mate',\n",
       "  'description': '\\nOn August 12, Joe Biden announced that he has chosen Kamala Harris as his running mate. Harris is a strong advocate for diversity and equality. (BBC)\\n        '},\n",
       " {'date': '2020-09-25',\n",
       "  'title': 'President Trump to Appoint Amy Coney Barrett',\n",
       "  'description': '\\nOn September 25, it was reported that President Trump plans to nominate Judge Coney Barrett to take the late RBG’s Supreme Court spot. The nomination could lead to Senate tension, as Republicans attempt to fill the seat before the November election. If Barrett is selected, Republicans will hold a 6-3 advantage on the Supreme Court. (BBC)\\n        '}]"
      ]
     },
     "execution_count": 6,
     "metadata": {},
     "output_type": "execute_result"
    }
   ],
   "source": [
    "important_events"
   ]
  },
  {
   "cell_type": "markdown",
   "metadata": {},
   "source": [
    "## Avg Hate Prob as COVID-19 is getting worse in US"
   ]
  },
  {
   "cell_type": "code",
   "execution_count": 21,
   "metadata": {},
   "outputs": [
    {
     "data": {
      "application/vnd.plotly.v1+json": {
       "config": {
        "plotlyServerURL": "https://plot.ly"
       },
       "data": [
        {
         "hovertemplate": "state=CA<br>date=%{x}<br>hate_prob=%{y}<extra></extra>",
         "legendgroup": "CA",
         "line": {
          "dash": "dash"
         },
         "marker": {
          "color": "#636efa",
          "symbol": "circle"
         },
         "mode": "markers+lines",
         "name": "CA",
         "orientation": "v",
         "showlegend": true,
         "type": "scatter",
         "x": [
          "2020-06-12",
          "2020-06-13",
          "2020-06-14",
          "2020-06-15",
          "2020-06-16",
          "2020-06-17",
          "2020-06-18",
          "2020-06-19",
          "2020-06-20",
          "2020-06-21",
          "2020-06-22",
          "2020-06-23",
          "2020-06-24",
          "2020-06-25",
          "2020-06-26",
          "2020-06-27",
          "2020-06-28",
          "2020-06-29",
          "2020-06-30",
          "2020-07-01",
          "2020-07-02",
          "2020-07-03",
          "2020-07-04",
          "2020-07-05",
          "2020-07-06",
          "2020-07-07",
          "2020-07-08",
          "2020-07-09",
          "2020-07-10",
          "2020-07-11",
          "2020-07-12"
         ],
         "xaxis": "x",
         "y": [
          0.006124352283696084,
          0.010048700450201092,
          0.007259316156740065,
          0.010427407467160666,
          0.015408292716137452,
          0.008907883365897888,
          0.009075644124885344,
          0.007486697813984791,
          0.006660658980746942,
          0.008760669762968479,
          0.010126099587417779,
          0.010931105806807239,
          0.010420093872934171,
          0.010059003234415716,
          0.009348945513580492,
          0.008925316515555039,
          0.007908736149470935,
          0.010336383780639427,
          0.013275188999931896,
          0.015697662608910652,
          0.010859826700579495,
          0.009211822202252083,
          0.00846792763114782,
          0.011309307747643675,
          0.034471912165327086,
          0.01496673153821657,
          0.00916349785963251,
          0.009131141159444292,
          0.006668783869495365,
          0.010061139710204923,
          0.01014106474049525
         ],
         "yaxis": "y"
        },
        {
         "hovertemplate": "state=NY<br>date=%{x}<br>hate_prob=%{y}<extra></extra>",
         "legendgroup": "NY",
         "line": {
          "dash": "dash"
         },
         "marker": {
          "color": "#EF553B",
          "symbol": "circle"
         },
         "mode": "markers+lines",
         "name": "NY",
         "orientation": "v",
         "showlegend": true,
         "type": "scatter",
         "x": [
          "2020-06-12",
          "2020-06-13",
          "2020-06-14",
          "2020-06-15",
          "2020-06-16",
          "2020-06-17",
          "2020-06-18",
          "2020-06-19",
          "2020-06-20",
          "2020-06-21",
          "2020-06-22",
          "2020-06-23",
          "2020-06-24",
          "2020-06-25",
          "2020-06-26",
          "2020-06-27",
          "2020-06-28",
          "2020-06-29",
          "2020-06-30",
          "2020-07-01",
          "2020-07-02",
          "2020-07-03",
          "2020-07-04",
          "2020-07-05",
          "2020-07-06",
          "2020-07-07",
          "2020-07-08",
          "2020-07-09",
          "2020-07-10",
          "2020-07-11",
          "2020-07-12"
         ],
         "xaxis": "x",
         "y": [
          0.006774629767143699,
          0.013095360457324968,
          0.006139918540985777,
          0.007302543484018518,
          0.0046787096828247695,
          0.0040300719453942825,
          0.007947579391026532,
          0.0027023309874148254,
          0.010682990653279927,
          0.01351707967314614,
          0.0038030916000132953,
          0.010008935789348717,
          0.009328058870536457,
          0.009979128106443483,
          0.005143317458928069,
          0.005977856576771464,
          0.009626504500767878,
          0.012496037630418858,
          0.011118746789101906,
          0.005583211673050886,
          0.005452581076989567,
          0.006213499719234417,
          0.008162778443029243,
          0.00876099017605038,
          0.014863047079425378,
          0.009557976536601634,
          0.009430800496840903,
          0.007248216245574989,
          0.010628253791503423,
          0.006975222023076175,
          0.005163261254359105
         ],
         "yaxis": "y"
        },
        {
         "marker": {
          "color": "#636efa",
          "size": 6,
          "symbol": "triangle-up"
         },
         "mode": "markers+lines",
         "name": "CA_smooth",
         "type": "scatter",
         "x": [
          "2020-06-12",
          "2020-06-13",
          "2020-06-14",
          "2020-06-15",
          "2020-06-16",
          "2020-06-17",
          "2020-06-18",
          "2020-06-19",
          "2020-06-20",
          "2020-06-21",
          "2020-06-22",
          "2020-06-23",
          "2020-06-24",
          "2020-06-25",
          "2020-06-26",
          "2020-06-27",
          "2020-06-28",
          "2020-06-29",
          "2020-06-30",
          "2020-07-01",
          "2020-07-02",
          "2020-07-03",
          "2020-07-04",
          "2020-07-05",
          "2020-07-06",
          "2020-07-07",
          "2020-07-08",
          "2020-07-09",
          "2020-07-10",
          "2020-07-11",
          "2020-07-12"
         ],
         "y": [
          0.006699547288097897,
          0.007879710766854786,
          0.009609485493952175,
          0.011212726863739239,
          0.011323994206086577,
          0.011198150960756405,
          0.009034652218280405,
          0.007083884671960762,
          0.007716003386592734,
          0.008490817838881184,
          0.009770676523562914,
          0.01067784340063144,
          0.010568308290658326,
          0.010120326402538453,
          0.009133335618438576,
          0.008562804804125107,
          0.008918591746540375,
          0.011090934776474774,
          0.012817238688160044,
          0.013361191564422864,
          0.011781602981319333,
          0.007903618578346362,
          0.01224136673432737,
          0.017585390719682733,
          0.01976990336292379,
          0.01893464307796435,
          0.013781567352007765,
          0.006893778020214153,
          0.008324441561113526,
          0.01024390708908832,
          0.009830417669691387
         ]
        },
        {
         "marker": {
          "color": "#EF553B",
          "size": 6,
          "symbol": "triangle-up"
         },
         "mode": "markers+lines",
         "name": "NY_smooth",
         "type": "scatter",
         "x": [
          "2020-06-12",
          "2020-06-13",
          "2020-06-14",
          "2020-06-15",
          "2020-06-16",
          "2020-06-17",
          "2020-06-18",
          "2020-06-19",
          "2020-06-20",
          "2020-06-21",
          "2020-06-22",
          "2020-06-23",
          "2020-06-24",
          "2020-06-25",
          "2020-06-26",
          "2020-06-27",
          "2020-06-28",
          "2020-06-29",
          "2020-06-30",
          "2020-07-01",
          "2020-07-02",
          "2020-07-03",
          "2020-07-04",
          "2020-07-05",
          "2020-07-06",
          "2020-07-07",
          "2020-07-08",
          "2020-07-09",
          "2020-07-10",
          "2020-07-11",
          "2020-07-12"
         ],
         "y": [
          0.007621605599036588,
          0.010236376657172738,
          0.009235736507397039,
          0.006569592982038585,
          0.005305417679181315,
          0.004777954432696975,
          0.004784444191810724,
          0.00792274235560418,
          0.008536733144759948,
          0.008815170239949861,
          0.009640379255180707,
          0.008937402879194882,
          0.008241626197404638,
          0.008465873315175707,
          0.006838041599341148,
          0.007475991127946968,
          0.009328114758743733,
          0.010735008515703935,
          0.009864822261228215,
          0.007574309289012892,
          0.005918040760766373,
          0.005535984426904908,
          0.008459566501088256,
          0.010334740475567988,
          0.011419639748661024,
          0.010624498857600955,
          0.010088297065975214,
          0.008601848498121688,
          0.008937111101522571,
          0.008147614694879787,
          0.004847611843826111
         ]
        },
        {
         "marker": {
          "color": "black",
          "size": 16,
          "symbol": "x"
         },
         "mode": "lines",
         "name": "Coronavirus Worsens across US",
         "showlegend": false,
         "type": "scatter",
         "x": [
          "2020-06-27",
          "2020-06-27",
          "2020-06-27",
          "2020-06-27",
          "2020-06-27",
          "2020-06-27",
          "2020-06-27",
          "2020-06-27",
          "2020-06-27",
          "2020-06-27",
          "2020-06-27",
          "2020-06-27",
          "2020-06-27",
          "2020-06-27",
          "2020-06-27",
          "2020-06-27",
          "2020-06-27",
          "2020-06-27",
          "2020-06-27",
          "2020-06-27",
          "2020-06-27",
          "2020-06-27",
          "2020-06-27",
          "2020-06-27",
          "2020-06-27",
          "2020-06-27",
          "2020-06-27",
          "2020-06-27",
          "2020-06-27",
          "2020-06-27",
          "2020-06-27",
          "2020-06-27",
          "2020-06-27",
          "2020-06-27",
          "2020-06-27",
          "2020-06-27",
          "2020-06-27",
          "2020-06-27",
          "2020-06-27",
          "2020-06-27",
          "2020-06-27",
          "2020-06-27",
          "2020-06-27",
          "2020-06-27",
          "2020-06-27",
          "2020-06-27",
          "2020-06-27",
          "2020-06-27",
          "2020-06-27",
          "2020-06-27"
         ],
         "y": [
          -0.0005268100107941394,
          0.00025335046215137463,
          0.0010335109350968887,
          0.0018136714080424026,
          0.0025938318809879167,
          0.003373992353933431,
          0.004154152826878945,
          0.00493431329982446,
          0.0057144737727699724,
          0.006494634245715487,
          0.007274794718661002,
          0.008054955191606516,
          0.008835115664552029,
          0.009615276137497544,
          0.010395436610443058,
          0.011175597083388571,
          0.011955757556334086,
          0.0127359180292796,
          0.013516078502225113,
          0.014296238975170628,
          0.015076399448116142,
          0.015856559921061657,
          0.01663672039400717,
          0.017416880866952682,
          0.018197041339898197,
          0.01897720181284371,
          0.019757362285789226,
          0.02053752275873474,
          0.021317683231680255,
          0.022097843704625766,
          0.02287800417757128,
          0.023658164650516796,
          0.02443832512346231,
          0.025218485596407825,
          0.02599864606935334,
          0.026778806542298854,
          0.027558967015244365,
          0.02833912748818988,
          0.029119287961135394,
          0.02989944843408091,
          0.030679608907026423,
          0.031459769379971934,
          0.03223992985291745,
          0.033020090325862964,
          0.03380025079880848,
          0.03458041127175399,
          0.035360571744699504,
          0.03614073221764502,
          0.03692089269059053,
          0.03770105316353605
         ]
        }
       ],
       "layout": {
        "annotations": [
         {
          "arrowhead": 1,
          "showarrow": true,
          "text": "Coronavirus Worsens across US",
          "x": "2020-06-27",
          "y": 0.0361941206977052
         }
        ],
        "autosize": true,
        "font": {
         "size": 15
        },
        "legend": {
         "title": {
          "text": "state"
         },
         "tracegroupgap": 0
        },
        "margin": {
         "t": 60
        },
        "template": {
         "data": {
          "bar": [
           {
            "error_x": {
             "color": "#2a3f5f"
            },
            "error_y": {
             "color": "#2a3f5f"
            },
            "marker": {
             "line": {
              "color": "white",
              "width": 0.5
             }
            },
            "type": "bar"
           }
          ],
          "barpolar": [
           {
            "marker": {
             "line": {
              "color": "white",
              "width": 0.5
             }
            },
            "type": "barpolar"
           }
          ],
          "carpet": [
           {
            "aaxis": {
             "endlinecolor": "#2a3f5f",
             "gridcolor": "#C8D4E3",
             "linecolor": "#C8D4E3",
             "minorgridcolor": "#C8D4E3",
             "startlinecolor": "#2a3f5f"
            },
            "baxis": {
             "endlinecolor": "#2a3f5f",
             "gridcolor": "#C8D4E3",
             "linecolor": "#C8D4E3",
             "minorgridcolor": "#C8D4E3",
             "startlinecolor": "#2a3f5f"
            },
            "type": "carpet"
           }
          ],
          "choropleth": [
           {
            "colorbar": {
             "outlinewidth": 0,
             "ticks": ""
            },
            "type": "choropleth"
           }
          ],
          "contour": [
           {
            "colorbar": {
             "outlinewidth": 0,
             "ticks": ""
            },
            "colorscale": [
             [
              0,
              "#0d0887"
             ],
             [
              0.1111111111111111,
              "#46039f"
             ],
             [
              0.2222222222222222,
              "#7201a8"
             ],
             [
              0.3333333333333333,
              "#9c179e"
             ],
             [
              0.4444444444444444,
              "#bd3786"
             ],
             [
              0.5555555555555556,
              "#d8576b"
             ],
             [
              0.6666666666666666,
              "#ed7953"
             ],
             [
              0.7777777777777778,
              "#fb9f3a"
             ],
             [
              0.8888888888888888,
              "#fdca26"
             ],
             [
              1,
              "#f0f921"
             ]
            ],
            "type": "contour"
           }
          ],
          "contourcarpet": [
           {
            "colorbar": {
             "outlinewidth": 0,
             "ticks": ""
            },
            "type": "contourcarpet"
           }
          ],
          "heatmap": [
           {
            "colorbar": {
             "outlinewidth": 0,
             "ticks": ""
            },
            "colorscale": [
             [
              0,
              "#0d0887"
             ],
             [
              0.1111111111111111,
              "#46039f"
             ],
             [
              0.2222222222222222,
              "#7201a8"
             ],
             [
              0.3333333333333333,
              "#9c179e"
             ],
             [
              0.4444444444444444,
              "#bd3786"
             ],
             [
              0.5555555555555556,
              "#d8576b"
             ],
             [
              0.6666666666666666,
              "#ed7953"
             ],
             [
              0.7777777777777778,
              "#fb9f3a"
             ],
             [
              0.8888888888888888,
              "#fdca26"
             ],
             [
              1,
              "#f0f921"
             ]
            ],
            "type": "heatmap"
           }
          ],
          "heatmapgl": [
           {
            "colorbar": {
             "outlinewidth": 0,
             "ticks": ""
            },
            "colorscale": [
             [
              0,
              "#0d0887"
             ],
             [
              0.1111111111111111,
              "#46039f"
             ],
             [
              0.2222222222222222,
              "#7201a8"
             ],
             [
              0.3333333333333333,
              "#9c179e"
             ],
             [
              0.4444444444444444,
              "#bd3786"
             ],
             [
              0.5555555555555556,
              "#d8576b"
             ],
             [
              0.6666666666666666,
              "#ed7953"
             ],
             [
              0.7777777777777778,
              "#fb9f3a"
             ],
             [
              0.8888888888888888,
              "#fdca26"
             ],
             [
              1,
              "#f0f921"
             ]
            ],
            "type": "heatmapgl"
           }
          ],
          "histogram": [
           {
            "marker": {
             "colorbar": {
              "outlinewidth": 0,
              "ticks": ""
             }
            },
            "type": "histogram"
           }
          ],
          "histogram2d": [
           {
            "colorbar": {
             "outlinewidth": 0,
             "ticks": ""
            },
            "colorscale": [
             [
              0,
              "#0d0887"
             ],
             [
              0.1111111111111111,
              "#46039f"
             ],
             [
              0.2222222222222222,
              "#7201a8"
             ],
             [
              0.3333333333333333,
              "#9c179e"
             ],
             [
              0.4444444444444444,
              "#bd3786"
             ],
             [
              0.5555555555555556,
              "#d8576b"
             ],
             [
              0.6666666666666666,
              "#ed7953"
             ],
             [
              0.7777777777777778,
              "#fb9f3a"
             ],
             [
              0.8888888888888888,
              "#fdca26"
             ],
             [
              1,
              "#f0f921"
             ]
            ],
            "type": "histogram2d"
           }
          ],
          "histogram2dcontour": [
           {
            "colorbar": {
             "outlinewidth": 0,
             "ticks": ""
            },
            "colorscale": [
             [
              0,
              "#0d0887"
             ],
             [
              0.1111111111111111,
              "#46039f"
             ],
             [
              0.2222222222222222,
              "#7201a8"
             ],
             [
              0.3333333333333333,
              "#9c179e"
             ],
             [
              0.4444444444444444,
              "#bd3786"
             ],
             [
              0.5555555555555556,
              "#d8576b"
             ],
             [
              0.6666666666666666,
              "#ed7953"
             ],
             [
              0.7777777777777778,
              "#fb9f3a"
             ],
             [
              0.8888888888888888,
              "#fdca26"
             ],
             [
              1,
              "#f0f921"
             ]
            ],
            "type": "histogram2dcontour"
           }
          ],
          "mesh3d": [
           {
            "colorbar": {
             "outlinewidth": 0,
             "ticks": ""
            },
            "type": "mesh3d"
           }
          ],
          "parcoords": [
           {
            "line": {
             "colorbar": {
              "outlinewidth": 0,
              "ticks": ""
             }
            },
            "type": "parcoords"
           }
          ],
          "pie": [
           {
            "automargin": true,
            "type": "pie"
           }
          ],
          "scatter": [
           {
            "marker": {
             "colorbar": {
              "outlinewidth": 0,
              "ticks": ""
             }
            },
            "type": "scatter"
           }
          ],
          "scatter3d": [
           {
            "line": {
             "colorbar": {
              "outlinewidth": 0,
              "ticks": ""
             }
            },
            "marker": {
             "colorbar": {
              "outlinewidth": 0,
              "ticks": ""
             }
            },
            "type": "scatter3d"
           }
          ],
          "scattercarpet": [
           {
            "marker": {
             "colorbar": {
              "outlinewidth": 0,
              "ticks": ""
             }
            },
            "type": "scattercarpet"
           }
          ],
          "scattergeo": [
           {
            "marker": {
             "colorbar": {
              "outlinewidth": 0,
              "ticks": ""
             }
            },
            "type": "scattergeo"
           }
          ],
          "scattergl": [
           {
            "marker": {
             "colorbar": {
              "outlinewidth": 0,
              "ticks": ""
             }
            },
            "type": "scattergl"
           }
          ],
          "scattermapbox": [
           {
            "marker": {
             "colorbar": {
              "outlinewidth": 0,
              "ticks": ""
             }
            },
            "type": "scattermapbox"
           }
          ],
          "scatterpolar": [
           {
            "marker": {
             "colorbar": {
              "outlinewidth": 0,
              "ticks": ""
             }
            },
            "type": "scatterpolar"
           }
          ],
          "scatterpolargl": [
           {
            "marker": {
             "colorbar": {
              "outlinewidth": 0,
              "ticks": ""
             }
            },
            "type": "scatterpolargl"
           }
          ],
          "scatterternary": [
           {
            "marker": {
             "colorbar": {
              "outlinewidth": 0,
              "ticks": ""
             }
            },
            "type": "scatterternary"
           }
          ],
          "surface": [
           {
            "colorbar": {
             "outlinewidth": 0,
             "ticks": ""
            },
            "colorscale": [
             [
              0,
              "#0d0887"
             ],
             [
              0.1111111111111111,
              "#46039f"
             ],
             [
              0.2222222222222222,
              "#7201a8"
             ],
             [
              0.3333333333333333,
              "#9c179e"
             ],
             [
              0.4444444444444444,
              "#bd3786"
             ],
             [
              0.5555555555555556,
              "#d8576b"
             ],
             [
              0.6666666666666666,
              "#ed7953"
             ],
             [
              0.7777777777777778,
              "#fb9f3a"
             ],
             [
              0.8888888888888888,
              "#fdca26"
             ],
             [
              1,
              "#f0f921"
             ]
            ],
            "type": "surface"
           }
          ],
          "table": [
           {
            "cells": {
             "fill": {
              "color": "#EBF0F8"
             },
             "line": {
              "color": "white"
             }
            },
            "header": {
             "fill": {
              "color": "#C8D4E3"
             },
             "line": {
              "color": "white"
             }
            },
            "type": "table"
           }
          ]
         },
         "layout": {
          "annotationdefaults": {
           "arrowcolor": "#2a3f5f",
           "arrowhead": 0,
           "arrowwidth": 1
          },
          "coloraxis": {
           "colorbar": {
            "outlinewidth": 0,
            "ticks": ""
           }
          },
          "colorscale": {
           "diverging": [
            [
             0,
             "#8e0152"
            ],
            [
             0.1,
             "#c51b7d"
            ],
            [
             0.2,
             "#de77ae"
            ],
            [
             0.3,
             "#f1b6da"
            ],
            [
             0.4,
             "#fde0ef"
            ],
            [
             0.5,
             "#f7f7f7"
            ],
            [
             0.6,
             "#e6f5d0"
            ],
            [
             0.7,
             "#b8e186"
            ],
            [
             0.8,
             "#7fbc41"
            ],
            [
             0.9,
             "#4d9221"
            ],
            [
             1,
             "#276419"
            ]
           ],
           "sequential": [
            [
             0,
             "#0d0887"
            ],
            [
             0.1111111111111111,
             "#46039f"
            ],
            [
             0.2222222222222222,
             "#7201a8"
            ],
            [
             0.3333333333333333,
             "#9c179e"
            ],
            [
             0.4444444444444444,
             "#bd3786"
            ],
            [
             0.5555555555555556,
             "#d8576b"
            ],
            [
             0.6666666666666666,
             "#ed7953"
            ],
            [
             0.7777777777777778,
             "#fb9f3a"
            ],
            [
             0.8888888888888888,
             "#fdca26"
            ],
            [
             1,
             "#f0f921"
            ]
           ],
           "sequentialminus": [
            [
             0,
             "#0d0887"
            ],
            [
             0.1111111111111111,
             "#46039f"
            ],
            [
             0.2222222222222222,
             "#7201a8"
            ],
            [
             0.3333333333333333,
             "#9c179e"
            ],
            [
             0.4444444444444444,
             "#bd3786"
            ],
            [
             0.5555555555555556,
             "#d8576b"
            ],
            [
             0.6666666666666666,
             "#ed7953"
            ],
            [
             0.7777777777777778,
             "#fb9f3a"
            ],
            [
             0.8888888888888888,
             "#fdca26"
            ],
            [
             1,
             "#f0f921"
            ]
           ]
          },
          "colorway": [
           "#636efa",
           "#EF553B",
           "#00cc96",
           "#ab63fa",
           "#FFA15A",
           "#19d3f3",
           "#FF6692",
           "#B6E880",
           "#FF97FF",
           "#FECB52"
          ],
          "font": {
           "color": "#2a3f5f"
          },
          "geo": {
           "bgcolor": "white",
           "lakecolor": "white",
           "landcolor": "white",
           "showlakes": true,
           "showland": true,
           "subunitcolor": "#C8D4E3"
          },
          "hoverlabel": {
           "align": "left"
          },
          "hovermode": "closest",
          "mapbox": {
           "style": "light"
          },
          "paper_bgcolor": "white",
          "plot_bgcolor": "white",
          "polar": {
           "angularaxis": {
            "gridcolor": "#EBF0F8",
            "linecolor": "#EBF0F8",
            "ticks": ""
           },
           "bgcolor": "white",
           "radialaxis": {
            "gridcolor": "#EBF0F8",
            "linecolor": "#EBF0F8",
            "ticks": ""
           }
          },
          "scene": {
           "xaxis": {
            "backgroundcolor": "white",
            "gridcolor": "#DFE8F3",
            "gridwidth": 2,
            "linecolor": "#EBF0F8",
            "showbackground": true,
            "ticks": "",
            "zerolinecolor": "#EBF0F8"
           },
           "yaxis": {
            "backgroundcolor": "white",
            "gridcolor": "#DFE8F3",
            "gridwidth": 2,
            "linecolor": "#EBF0F8",
            "showbackground": true,
            "ticks": "",
            "zerolinecolor": "#EBF0F8"
           },
           "zaxis": {
            "backgroundcolor": "white",
            "gridcolor": "#DFE8F3",
            "gridwidth": 2,
            "linecolor": "#EBF0F8",
            "showbackground": true,
            "ticks": "",
            "zerolinecolor": "#EBF0F8"
           }
          },
          "shapedefaults": {
           "line": {
            "color": "#2a3f5f"
           }
          },
          "ternary": {
           "aaxis": {
            "gridcolor": "#DFE8F3",
            "linecolor": "#A2B1C6",
            "ticks": ""
           },
           "baxis": {
            "gridcolor": "#DFE8F3",
            "linecolor": "#A2B1C6",
            "ticks": ""
           },
           "bgcolor": "white",
           "caxis": {
            "gridcolor": "#DFE8F3",
            "linecolor": "#A2B1C6",
            "ticks": ""
           }
          },
          "title": {
           "x": 0.05
          },
          "xaxis": {
           "automargin": true,
           "gridcolor": "#EBF0F8",
           "linecolor": "#EBF0F8",
           "ticks": "",
           "title": {
            "standoff": 15
           },
           "zerolinecolor": "#EBF0F8",
           "zerolinewidth": 2
          },
          "yaxis": {
           "automargin": true,
           "gridcolor": "#EBF0F8",
           "linecolor": "#EBF0F8",
           "ticks": "",
           "title": {
            "standoff": 15
           },
           "zerolinecolor": "#EBF0F8",
           "zerolinewidth": 2
          }
         }
        },
        "title": {
         "text": ""
        },
        "xaxis": {
         "anchor": "y",
         "autorange": true,
         "domain": [
          0,
          1
         ],
         "range": [
          "2020-06-10 04:54:04.1277",
          "2020-07-13 19:05:55.8723"
         ],
         "title": {
          "text": "Date"
         },
         "type": "date"
        },
        "yaxis": {
         "anchor": "x",
         "autorange": true,
         "domain": [
          0,
          1
         ],
         "range": [
          -0.0027720740186116533,
          0.042133206137738625
         ],
         "title": {
          "text": "CLAWS Task: Hate Probability"
         },
         "type": "linear"
        }
       }
      },
      "image/png": "[encoded data removed]",
      "text/html": [
       "<div>                            <div id=\"2e45bf26-34ec-4a3d-ba16-751bf56af8d4\" class=\"plotly-graph-div\" style=\"height:525px; width:100%;\"></div>            <script type=\"text/javascript\">                require([\"plotly\"], function(Plotly) {                    window.PLOTLYENV=window.PLOTLYENV || {};                                    if (document.getElementById(\"2e45bf26-34ec-4a3d-ba16-751bf56af8d4\")) {                    Plotly.newPlot(                        \"2e45bf26-34ec-4a3d-ba16-751bf56af8d4\",                        [{\"hovertemplate\": \"state=CA<br>date=%{x}<br>hate_prob=%{y}<extra></extra>\", \"legendgroup\": \"CA\", \"line\": {\"dash\": \"dash\"}, \"marker\": {\"color\": \"#636efa\", \"symbol\": \"circle\"}, \"mode\": \"markers+lines\", \"name\": \"CA\", \"orientation\": \"v\", \"showlegend\": true, \"type\": \"scatter\", \"x\": [\"2020-06-12\", \"2020-06-13\", \"2020-06-14\", \"2020-06-15\", \"2020-06-16\", \"2020-06-17\", \"2020-06-18\", \"2020-06-19\", \"2020-06-20\", \"2020-06-21\", \"2020-06-22\", \"2020-06-23\", \"2020-06-24\", \"2020-06-25\", \"2020-06-26\", \"2020-06-27\", \"2020-06-28\", \"2020-06-29\", \"2020-06-30\", \"2020-07-01\", \"2020-07-02\", \"2020-07-03\", \"2020-07-04\", \"2020-07-05\", \"2020-07-06\", \"2020-07-07\", \"2020-07-08\", \"2020-07-09\", \"2020-07-10\", \"2020-07-11\", \"2020-07-12\"], \"xaxis\": \"x\", \"y\": [0.006124352283696084, 0.010048700450201092, 0.007259316156740065, 0.010427407467160666, 0.015408292716137452, 0.008907883365897888, 0.009075644124885344, 0.007486697813984791, 0.006660658980746942, 0.008760669762968479, 0.010126099587417779, 0.010931105806807239, 0.010420093872934171, 0.010059003234415716, 0.009348945513580492, 0.008925316515555039, 0.007908736149470935, 0.010336383780639427, 0.013275188999931896, 0.015697662608910652, 0.010859826700579495, 0.009211822202252083, 0.00846792763114782, 0.011309307747643675, 0.034471912165327086, 0.01496673153821657, 0.00916349785963251, 0.009131141159444292, 0.006668783869495365, 0.010061139710204923, 0.01014106474049525], \"yaxis\": \"y\"}, {\"hovertemplate\": \"state=NY<br>date=%{x}<br>hate_prob=%{y}<extra></extra>\", \"legendgroup\": \"NY\", \"line\": {\"dash\": \"dash\"}, \"marker\": {\"color\": \"#EF553B\", \"symbol\": \"circle\"}, \"mode\": \"markers+lines\", \"name\": \"NY\", \"orientation\": \"v\", \"showlegend\": true, \"type\": \"scatter\", \"x\": [\"2020-06-12\", \"2020-06-13\", \"2020-06-14\", \"2020-06-15\", \"2020-06-16\", \"2020-06-17\", \"2020-06-18\", \"2020-06-19\", \"2020-06-20\", \"2020-06-21\", \"2020-06-22\", \"2020-06-23\", \"2020-06-24\", \"2020-06-25\", \"2020-06-26\", \"2020-06-27\", \"2020-06-28\", \"2020-06-29\", \"2020-06-30\", \"2020-07-01\", \"2020-07-02\", \"2020-07-03\", \"2020-07-04\", \"2020-07-05\", \"2020-07-06\", \"2020-07-07\", \"2020-07-08\", \"2020-07-09\", \"2020-07-10\", \"2020-07-11\", \"2020-07-12\"], \"xaxis\": \"x\", \"y\": [0.006774629767143699, 0.013095360457324968, 0.006139918540985777, 0.007302543484018518, 0.0046787096828247695, 0.0040300719453942825, 0.007947579391026532, 0.0027023309874148254, 0.010682990653279927, 0.01351707967314614, 0.0038030916000132953, 0.010008935789348717, 0.009328058870536457, 0.009979128106443483, 0.005143317458928069, 0.005977856576771464, 0.009626504500767878, 0.012496037630418858, 0.011118746789101906, 0.005583211673050886, 0.005452581076989567, 0.006213499719234417, 0.008162778443029243, 0.00876099017605038, 0.014863047079425378, 0.009557976536601634, 0.009430800496840903, 0.007248216245574989, 0.010628253791503423, 0.006975222023076175, 0.005163261254359105], \"yaxis\": \"y\"}, {\"marker\": {\"color\": \"#636efa\", \"size\": 6, \"symbol\": \"triangle-up\"}, \"mode\": \"markers+lines\", \"name\": \"CA_smooth\", \"type\": \"scatter\", \"x\": [\"2020-06-12\", \"2020-06-13\", \"2020-06-14\", \"2020-06-15\", \"2020-06-16\", \"2020-06-17\", \"2020-06-18\", \"2020-06-19\", \"2020-06-20\", \"2020-06-21\", \"2020-06-22\", \"2020-06-23\", \"2020-06-24\", \"2020-06-25\", \"2020-06-26\", \"2020-06-27\", \"2020-06-28\", \"2020-06-29\", \"2020-06-30\", \"2020-07-01\", \"2020-07-02\", \"2020-07-03\", \"2020-07-04\", \"2020-07-05\", \"2020-07-06\", \"2020-07-07\", \"2020-07-08\", \"2020-07-09\", \"2020-07-10\", \"2020-07-11\", \"2020-07-12\"], \"y\": [0.006699547288097897, 0.007879710766854786, 0.009609485493952175, 0.011212726863739239, 0.011323994206086577, 0.011198150960756405, 0.009034652218280405, 0.007083884671960762, 0.007716003386592734, 0.008490817838881184, 0.009770676523562914, 0.01067784340063144, 0.010568308290658326, 0.010120326402538453, 0.009133335618438576, 0.008562804804125107, 0.008918591746540375, 0.011090934776474774, 0.012817238688160044, 0.013361191564422864, 0.011781602981319333, 0.007903618578346362, 0.01224136673432737, 0.017585390719682733, 0.01976990336292379, 0.01893464307796435, 0.013781567352007765, 0.006893778020214153, 0.008324441561113526, 0.01024390708908832, 0.009830417669691387]}, {\"marker\": {\"color\": \"#EF553B\", \"size\": 6, \"symbol\": \"triangle-up\"}, \"mode\": \"markers+lines\", \"name\": \"NY_smooth\", \"type\": \"scatter\", \"x\": [\"2020-06-12\", \"2020-06-13\", \"2020-06-14\", \"2020-06-15\", \"2020-06-16\", \"2020-06-17\", \"2020-06-18\", \"2020-06-19\", \"2020-06-20\", \"2020-06-21\", \"2020-06-22\", \"2020-06-23\", \"2020-06-24\", \"2020-06-25\", \"2020-06-26\", \"2020-06-27\", \"2020-06-28\", \"2020-06-29\", \"2020-06-30\", \"2020-07-01\", \"2020-07-02\", \"2020-07-03\", \"2020-07-04\", \"2020-07-05\", \"2020-07-06\", \"2020-07-07\", \"2020-07-08\", \"2020-07-09\", \"2020-07-10\", \"2020-07-11\", \"2020-07-12\"], \"y\": [0.007621605599036588, 0.010236376657172738, 0.009235736507397039, 0.006569592982038585, 0.005305417679181315, 0.004777954432696975, 0.004784444191810724, 0.00792274235560418, 0.008536733144759948, 0.008815170239949861, 0.009640379255180707, 0.008937402879194882, 0.008241626197404638, 0.008465873315175707, 0.006838041599341148, 0.007475991127946968, 0.009328114758743733, 0.010735008515703935, 0.009864822261228215, 0.007574309289012892, 0.005918040760766373, 0.005535984426904908, 0.008459566501088256, 0.010334740475567988, 0.011419639748661024, 0.010624498857600955, 0.010088297065975214, 0.008601848498121688, 0.008937111101522571, 0.008147614694879787, 0.004847611843826111]}, {\"marker\": {\"color\": \"black\", \"size\": 16, \"symbol\": \"x\"}, \"mode\": \"lines\", \"name\": \"Coronavirus Worsens across US\", \"showlegend\": false, \"type\": \"scatter\", \"x\": [\"2020-06-27\", \"2020-06-27\", \"2020-06-27\", \"2020-06-27\", \"2020-06-27\", \"2020-06-27\", \"2020-06-27\", \"2020-06-27\", \"2020-06-27\", \"2020-06-27\", \"2020-06-27\", \"2020-06-27\", \"2020-06-27\", \"2020-06-27\", \"2020-06-27\", \"2020-06-27\", \"2020-06-27\", \"2020-06-27\", \"2020-06-27\", \"2020-06-27\", \"2020-06-27\", \"2020-06-27\", \"2020-06-27\", \"2020-06-27\", \"2020-06-27\", \"2020-06-27\", \"2020-06-27\", \"2020-06-27\", \"2020-06-27\", \"2020-06-27\", \"2020-06-27\", \"2020-06-27\", \"2020-06-27\", \"2020-06-27\", \"2020-06-27\", \"2020-06-27\", \"2020-06-27\", \"2020-06-27\", \"2020-06-27\", \"2020-06-27\", \"2020-06-27\", \"2020-06-27\", \"2020-06-27\", \"2020-06-27\", \"2020-06-27\", \"2020-06-27\", \"2020-06-27\", \"2020-06-27\", \"2020-06-27\", \"2020-06-27\"], \"y\": [-0.0005268100107941394, 0.00025335046215137463, 0.0010335109350968887, 0.0018136714080424026, 0.0025938318809879167, 0.003373992353933431, 0.004154152826878945, 0.00493431329982446, 0.0057144737727699724, 0.006494634245715487, 0.007274794718661002, 0.008054955191606516, 0.008835115664552029, 0.009615276137497544, 0.010395436610443058, 0.011175597083388571, 0.011955757556334086, 0.0127359180292796, 0.013516078502225113, 0.014296238975170628, 0.015076399448116142, 0.015856559921061657, 0.01663672039400717, 0.017416880866952682, 0.018197041339898197, 0.01897720181284371, 0.019757362285789226, 0.02053752275873474, 0.021317683231680255, 0.022097843704625766, 0.02287800417757128, 0.023658164650516796, 0.02443832512346231, 0.025218485596407825, 0.02599864606935334, 0.026778806542298854, 0.027558967015244365, 0.02833912748818988, 0.029119287961135394, 0.02989944843408091, 0.030679608907026423, 0.031459769379971934, 0.03223992985291745, 0.033020090325862964, 0.03380025079880848, 0.03458041127175399, 0.035360571744699504, 0.03614073221764502, 0.03692089269059053, 0.03770105316353605]}],                        {\"annotations\": [{\"arrowhead\": 1, \"showarrow\": true, \"text\": \"Coronavirus Worsens across US\", \"x\": \"2020-06-27\", \"y\": 0.0361941206977052}], \"font\": {\"size\": 15}, \"legend\": {\"title\": {\"text\": \"state\"}, \"tracegroupgap\": 0}, \"margin\": {\"t\": 60}, \"template\": {\"data\": {\"bar\": [{\"error_x\": {\"color\": \"#2a3f5f\"}, \"error_y\": {\"color\": \"#2a3f5f\"}, \"marker\": {\"line\": {\"color\": \"white\", \"width\": 0.5}}, \"type\": \"bar\"}], \"barpolar\": [{\"marker\": {\"line\": {\"color\": \"white\", \"width\": 0.5}}, \"type\": \"barpolar\"}], \"carpet\": [{\"aaxis\": {\"endlinecolor\": \"#2a3f5f\", \"gridcolor\": \"#C8D4E3\", \"linecolor\": \"#C8D4E3\", \"minorgridcolor\": \"#C8D4E3\", \"startlinecolor\": \"#2a3f5f\"}, \"baxis\": {\"endlinecolor\": \"#2a3f5f\", \"gridcolor\": \"#C8D4E3\", \"linecolor\": \"#C8D4E3\", \"minorgridcolor\": \"#C8D4E3\", \"startlinecolor\": \"#2a3f5f\"}, \"type\": \"carpet\"}], \"choropleth\": [{\"colorbar\": {\"outlinewidth\": 0, \"ticks\": \"\"}, \"type\": \"choropleth\"}], \"contour\": [{\"colorbar\": {\"outlinewidth\": 0, \"ticks\": \"\"}, \"colorscale\": [[0.0, \"#0d0887\"], [0.1111111111111111, \"#46039f\"], [0.2222222222222222, \"#7201a8\"], [0.3333333333333333, \"#9c179e\"], [0.4444444444444444, \"#bd3786\"], [0.5555555555555556, \"#d8576b\"], [0.6666666666666666, \"#ed7953\"], [0.7777777777777778, \"#fb9f3a\"], [0.8888888888888888, \"#fdca26\"], [1.0, \"#f0f921\"]], \"type\": \"contour\"}], \"contourcarpet\": [{\"colorbar\": {\"outlinewidth\": 0, \"ticks\": \"\"}, \"type\": \"contourcarpet\"}], \"heatmap\": [{\"colorbar\": {\"outlinewidth\": 0, \"ticks\": \"\"}, \"colorscale\": [[0.0, \"#0d0887\"], [0.1111111111111111, \"#46039f\"], [0.2222222222222222, \"#7201a8\"], [0.3333333333333333, \"#9c179e\"], [0.4444444444444444, \"#bd3786\"], [0.5555555555555556, \"#d8576b\"], [0.6666666666666666, \"#ed7953\"], [0.7777777777777778, \"#fb9f3a\"], [0.8888888888888888, \"#fdca26\"], [1.0, \"#f0f921\"]], \"type\": \"heatmap\"}], \"heatmapgl\": [{\"colorbar\": {\"outlinewidth\": 0, \"ticks\": \"\"}, \"colorscale\": [[0.0, \"#0d0887\"], [0.1111111111111111, \"#46039f\"], [0.2222222222222222, \"#7201a8\"], [0.3333333333333333, \"#9c179e\"], [0.4444444444444444, \"#bd3786\"], [0.5555555555555556, \"#d8576b\"], [0.6666666666666666, \"#ed7953\"], [0.7777777777777778, \"#fb9f3a\"], [0.8888888888888888, \"#fdca26\"], [1.0, \"#f0f921\"]], \"type\": \"heatmapgl\"}], \"histogram\": [{\"marker\": {\"colorbar\": {\"outlinewidth\": 0, \"ticks\": \"\"}}, \"type\": \"histogram\"}], \"histogram2d\": [{\"colorbar\": {\"outlinewidth\": 0, \"ticks\": \"\"}, \"colorscale\": [[0.0, \"#0d0887\"], [0.1111111111111111, \"#46039f\"], [0.2222222222222222, \"#7201a8\"], [0.3333333333333333, \"#9c179e\"], [0.4444444444444444, \"#bd3786\"], [0.5555555555555556, \"#d8576b\"], [0.6666666666666666, \"#ed7953\"], [0.7777777777777778, \"#fb9f3a\"], [0.8888888888888888, \"#fdca26\"], [1.0, \"#f0f921\"]], \"type\": \"histogram2d\"}], \"histogram2dcontour\": [{\"colorbar\": {\"outlinewidth\": 0, \"ticks\": \"\"}, \"colorscale\": [[0.0, \"#0d0887\"], [0.1111111111111111, \"#46039f\"], [0.2222222222222222, \"#7201a8\"], [0.3333333333333333, \"#9c179e\"], [0.4444444444444444, \"#bd3786\"], [0.5555555555555556, \"#d8576b\"], [0.6666666666666666, \"#ed7953\"], [0.7777777777777778, \"#fb9f3a\"], [0.8888888888888888, \"#fdca26\"], [1.0, \"#f0f921\"]], \"type\": \"histogram2dcontour\"}], \"mesh3d\": [{\"colorbar\": {\"outlinewidth\": 0, \"ticks\": \"\"}, \"type\": \"mesh3d\"}], \"parcoords\": [{\"line\": {\"colorbar\": {\"outlinewidth\": 0, \"ticks\": \"\"}}, \"type\": \"parcoords\"}], \"pie\": [{\"automargin\": true, \"type\": \"pie\"}], \"scatter\": [{\"marker\": {\"colorbar\": {\"outlinewidth\": 0, \"ticks\": \"\"}}, \"type\": \"scatter\"}], \"scatter3d\": [{\"line\": {\"colorbar\": {\"outlinewidth\": 0, \"ticks\": \"\"}}, \"marker\": {\"colorbar\": {\"outlinewidth\": 0, \"ticks\": \"\"}}, \"type\": \"scatter3d\"}], \"scattercarpet\": [{\"marker\": {\"colorbar\": {\"outlinewidth\": 0, \"ticks\": \"\"}}, \"type\": \"scattercarpet\"}], \"scattergeo\": [{\"marker\": {\"colorbar\": {\"outlinewidth\": 0, \"ticks\": \"\"}}, \"type\": \"scattergeo\"}], \"scattergl\": [{\"marker\": {\"colorbar\": {\"outlinewidth\": 0, \"ticks\": \"\"}}, \"type\": \"scattergl\"}], \"scattermapbox\": [{\"marker\": {\"colorbar\": {\"outlinewidth\": 0, \"ticks\": \"\"}}, \"type\": \"scattermapbox\"}], \"scatterpolar\": [{\"marker\": {\"colorbar\": {\"outlinewidth\": 0, \"ticks\": \"\"}}, \"type\": \"scatterpolar\"}], \"scatterpolargl\": [{\"marker\": {\"colorbar\": {\"outlinewidth\": 0, \"ticks\": \"\"}}, \"type\": \"scatterpolargl\"}], \"scatterternary\": [{\"marker\": {\"colorbar\": {\"outlinewidth\": 0, \"ticks\": \"\"}}, \"type\": \"scatterternary\"}], \"surface\": [{\"colorbar\": {\"outlinewidth\": 0, \"ticks\": \"\"}, \"colorscale\": [[0.0, \"#0d0887\"], [0.1111111111111111, \"#46039f\"], [0.2222222222222222, \"#7201a8\"], [0.3333333333333333, \"#9c179e\"], [0.4444444444444444, \"#bd3786\"], [0.5555555555555556, \"#d8576b\"], [0.6666666666666666, \"#ed7953\"], [0.7777777777777778, \"#fb9f3a\"], [0.8888888888888888, \"#fdca26\"], [1.0, \"#f0f921\"]], \"type\": \"surface\"}], \"table\": [{\"cells\": {\"fill\": {\"color\": \"#EBF0F8\"}, \"line\": {\"color\": \"white\"}}, \"header\": {\"fill\": {\"color\": \"#C8D4E3\"}, \"line\": {\"color\": \"white\"}}, \"type\": \"table\"}]}, \"layout\": {\"annotationdefaults\": {\"arrowcolor\": \"#2a3f5f\", \"arrowhead\": 0, \"arrowwidth\": 1}, \"coloraxis\": {\"colorbar\": {\"outlinewidth\": 0, \"ticks\": \"\"}}, \"colorscale\": {\"diverging\": [[0, \"#8e0152\"], [0.1, \"#c51b7d\"], [0.2, \"#de77ae\"], [0.3, \"#f1b6da\"], [0.4, \"#fde0ef\"], [0.5, \"#f7f7f7\"], [0.6, \"#e6f5d0\"], [0.7, \"#b8e186\"], [0.8, \"#7fbc41\"], [0.9, \"#4d9221\"], [1, \"#276419\"]], \"sequential\": [[0.0, \"#0d0887\"], [0.1111111111111111, \"#46039f\"], [0.2222222222222222, \"#7201a8\"], [0.3333333333333333, \"#9c179e\"], [0.4444444444444444, \"#bd3786\"], [0.5555555555555556, \"#d8576b\"], [0.6666666666666666, \"#ed7953\"], [0.7777777777777778, \"#fb9f3a\"], [0.8888888888888888, \"#fdca26\"], [1.0, \"#f0f921\"]], \"sequentialminus\": [[0.0, \"#0d0887\"], [0.1111111111111111, \"#46039f\"], [0.2222222222222222, \"#7201a8\"], [0.3333333333333333, \"#9c179e\"], [0.4444444444444444, \"#bd3786\"], [0.5555555555555556, \"#d8576b\"], [0.6666666666666666, \"#ed7953\"], [0.7777777777777778, \"#fb9f3a\"], [0.8888888888888888, \"#fdca26\"], [1.0, \"#f0f921\"]]}, \"colorway\": [\"#636efa\", \"#EF553B\", \"#00cc96\", \"#ab63fa\", \"#FFA15A\", \"#19d3f3\", \"#FF6692\", \"#B6E880\", \"#FF97FF\", \"#FECB52\"], \"font\": {\"color\": \"#2a3f5f\"}, \"geo\": {\"bgcolor\": \"white\", \"lakecolor\": \"white\", \"landcolor\": \"white\", \"showlakes\": true, \"showland\": true, \"subunitcolor\": \"#C8D4E3\"}, \"hoverlabel\": {\"align\": \"left\"}, \"hovermode\": \"closest\", \"mapbox\": {\"style\": \"light\"}, \"paper_bgcolor\": \"white\", \"plot_bgcolor\": \"white\", \"polar\": {\"angularaxis\": {\"gridcolor\": \"#EBF0F8\", \"linecolor\": \"#EBF0F8\", \"ticks\": \"\"}, \"bgcolor\": \"white\", \"radialaxis\": {\"gridcolor\": \"#EBF0F8\", \"linecolor\": \"#EBF0F8\", \"ticks\": \"\"}}, \"scene\": {\"xaxis\": {\"backgroundcolor\": \"white\", \"gridcolor\": \"#DFE8F3\", \"gridwidth\": 2, \"linecolor\": \"#EBF0F8\", \"showbackground\": true, \"ticks\": \"\", \"zerolinecolor\": \"#EBF0F8\"}, \"yaxis\": {\"backgroundcolor\": \"white\", \"gridcolor\": \"#DFE8F3\", \"gridwidth\": 2, \"linecolor\": \"#EBF0F8\", \"showbackground\": true, \"ticks\": \"\", \"zerolinecolor\": \"#EBF0F8\"}, \"zaxis\": {\"backgroundcolor\": \"white\", \"gridcolor\": \"#DFE8F3\", \"gridwidth\": 2, \"linecolor\": \"#EBF0F8\", \"showbackground\": true, \"ticks\": \"\", \"zerolinecolor\": \"#EBF0F8\"}}, \"shapedefaults\": {\"line\": {\"color\": \"#2a3f5f\"}}, \"ternary\": {\"aaxis\": {\"gridcolor\": \"#DFE8F3\", \"linecolor\": \"#A2B1C6\", \"ticks\": \"\"}, \"baxis\": {\"gridcolor\": \"#DFE8F3\", \"linecolor\": \"#A2B1C6\", \"ticks\": \"\"}, \"bgcolor\": \"white\", \"caxis\": {\"gridcolor\": \"#DFE8F3\", \"linecolor\": \"#A2B1C6\", \"ticks\": \"\"}}, \"title\": {\"x\": 0.05}, \"xaxis\": {\"automargin\": true, \"gridcolor\": \"#EBF0F8\", \"linecolor\": \"#EBF0F8\", \"ticks\": \"\", \"title\": {\"standoff\": 15}, \"zerolinecolor\": \"#EBF0F8\", \"zerolinewidth\": 2}, \"yaxis\": {\"automargin\": true, \"gridcolor\": \"#EBF0F8\", \"linecolor\": \"#EBF0F8\", \"ticks\": \"\", \"title\": {\"standoff\": 15}, \"zerolinecolor\": \"#EBF0F8\", \"zerolinewidth\": 2}}}, \"title\": {\"text\": \"\"}, \"xaxis\": {\"anchor\": \"y\", \"domain\": [0.0, 1.0], \"title\": {\"text\": \"Date\"}}, \"yaxis\": {\"anchor\": \"x\", \"domain\": [0.0, 1.0], \"title\": {\"text\": \"CLAWS Task: Hate Probability\"}}},                        {\"responsive\": true}                    ).then(function(){\n",
       "                            \n",
       "var gd = document.getElementById('2e45bf26-34ec-4a3d-ba16-751bf56af8d4');\n",
       "var x = new MutationObserver(function (mutations, observer) {{\n",
       "        var display = window.getComputedStyle(gd).display;\n",
       "        if (!display || display === 'none') {{\n",
       "            console.log([gd, 'removed!']);\n",
       "            Plotly.purge(gd);\n",
       "            observer.disconnect();\n",
       "        }}\n",
       "}});\n",
       "\n",
       "// Listen for the removal of the full notebook cells\n",
       "var notebookContainer = gd.closest('#notebook-container');\n",
       "if (notebookContainer) {{\n",
       "    x.observe(notebookContainer, {childList: true});\n",
       "}}\n",
       "\n",
       "// Listen for the clearing of the current output cell\n",
       "var outputEl = gd.closest('.output');\n",
       "if (outputEl) {{\n",
       "    x.observe(outputEl, {childList: true});\n",
       "}}\n",
       "\n",
       "                        })                };                });            </script>        </div>"
      ]
     },
     "metadata": {},
     "output_type": "display_data"
    }
   ],
   "source": [
    "tmp_df = tmp_dfs['per_state_mean'].copy()\n",
    "tmp_df = tmp_df[tmp_df.state.isin(['CA', 'NY'])]\n",
    "event = important_events[6]\n",
    "fig = get_go_figure(\n",
    "    tmp_df=tmp_df, \n",
    "    events=[important_events[6]],\n",
    "    half_window_days=15,\n",
    "    y='hate_prob', \n",
    "    title='', \n",
    "    resolution='state',\n",
    "    mode='markers+lines', \n",
    "    line= (dict(dash='dash'), dict()),\n",
    "    font_size=50\n",
    ")\n",
    "fig.layout.font.size=15\n",
    "fig.show()"
   ]
  },
  {
   "cell_type": "code",
   "execution_count": 22,
   "metadata": {},
   "outputs": [],
   "source": [
    "fig.write_image('trajectories/ca_ny_covidworsensevent_hateprob.pdf', width=1000, height=350)"
   ]
  },
  {
   "cell_type": "markdown",
   "metadata": {},
   "source": [
    "## Avg Counter-hate Prob as BLM protests begin: CA and NY"
   ]
  },
  {
   "cell_type": "code",
   "execution_count": 29,
   "metadata": {},
   "outputs": [
    {
     "data": {
      "application/vnd.plotly.v1+json": {
       "config": {
        "plotlyServerURL": "https://plot.ly"
       },
       "data": [
        {
         "hovertemplate": "state=CA<br>date=%{x}<br>counterhate_prob=%{y}<extra></extra>",
         "legendgroup": "CA",
         "line": {
          "dash": "dash"
         },
         "marker": {
          "color": "#636efa",
          "symbol": "circle"
         },
         "mode": "markers+lines",
         "name": "CA",
         "orientation": "v",
         "showlegend": true,
         "type": "scatter",
         "x": [
          "2020-04-26",
          "2020-04-27",
          "2020-04-28",
          "2020-04-29",
          "2020-04-30",
          "2020-05-01",
          "2020-05-02",
          "2020-05-03",
          "2020-05-04",
          "2020-05-05",
          "2020-05-06",
          "2020-05-07",
          "2020-05-08",
          "2020-05-09",
          "2020-05-10",
          "2020-05-11",
          "2020-05-12",
          "2020-05-13",
          "2020-05-14",
          "2020-05-15",
          "2020-05-16",
          "2020-05-17",
          "2020-05-18",
          "2020-05-19",
          "2020-05-20",
          "2020-05-21",
          "2020-05-22",
          "2020-05-23",
          "2020-05-24",
          "2020-05-25",
          "2020-05-26",
          "2020-05-27",
          "2020-05-28",
          "2020-05-29",
          "2020-05-30",
          "2020-05-31",
          "2020-06-01",
          "2020-06-02",
          "2020-06-03",
          "2020-06-04",
          "2020-06-05",
          "2020-06-06",
          "2020-06-07",
          "2020-06-08",
          "2020-06-09",
          "2020-06-10",
          "2020-06-11",
          "2020-06-12",
          "2020-06-13",
          "2020-06-14",
          "2020-06-15",
          "2020-06-16",
          "2020-06-17",
          "2020-06-18",
          "2020-06-19",
          "2020-06-20",
          "2020-06-21",
          "2020-06-22",
          "2020-06-23",
          "2020-06-24",
          "2020-06-25"
         ],
         "xaxis": "x",
         "y": [
          0.008980335733717286,
          0.006818565276307846,
          0.00876836063895423,
          0.008512870695714235,
          0.006623356949008737,
          0.007399690040579377,
          0.008067458309899909,
          0.0068411641644330005,
          0.008668157823237467,
          0.007636079194726892,
          0.007415296339808246,
          0.007737324600655684,
          0.007666198254064096,
          0.008074513710896273,
          0.007177586915600104,
          0.006073190779176635,
          0.007077935812674573,
          0.006326346177905683,
          0.007650004079363357,
          0.006553559627738845,
          0.005376290438544887,
          0.005475896727988833,
          0.007090190015341104,
          0.0067590340932321006,
          0.007852227964271928,
          0.007190473018580774,
          0.006328641073010181,
          0.004563351744510264,
          0.008771705000647603,
          0.007054220362806163,
          0.0077169278766104545,
          0.01011949882099523,
          0.011473301033372636,
          0.012151811689754894,
          0.013933989940203966,
          0.011301931257024242,
          0.012751505194478395,
          0.012054788931699112,
          0.0116962080336758,
          0.014381670035285359,
          0.01057319264899216,
          0.006741693419543764,
          0.012621923094149102,
          0.012979998852161495,
          0.010057761299482682,
          0.008364806751674173,
          0.00711537114143134,
          0.012127109207047335,
          0.010236051365004703,
          0.010914755992018545,
          0.007862211120231407,
          0.00789747156386809,
          0.007987986381513263,
          0.006852859170343134,
          0.01610732622138468,
          0.006184886477673435,
          0.014392009857757411,
          0.01744239795000128,
          0.013311329021602956,
          0.011276630136987922,
          0.008864396507673407
         ],
         "yaxis": "y"
        },
        {
         "hovertemplate": "state=NY<br>date=%{x}<br>counterhate_prob=%{y}<extra></extra>",
         "legendgroup": "NY",
         "line": {
          "dash": "dash"
         },
         "marker": {
          "color": "#EF553B",
          "symbol": "circle"
         },
         "mode": "markers+lines",
         "name": "NY",
         "orientation": "v",
         "showlegend": true,
         "type": "scatter",
         "x": [
          "2020-04-26",
          "2020-04-27",
          "2020-04-28",
          "2020-04-29",
          "2020-04-30",
          "2020-05-01",
          "2020-05-02",
          "2020-05-03",
          "2020-05-04",
          "2020-05-05",
          "2020-05-06",
          "2020-05-07",
          "2020-05-08",
          "2020-05-09",
          "2020-05-10",
          "2020-05-11",
          "2020-05-12",
          "2020-05-13",
          "2020-05-14",
          "2020-05-15",
          "2020-05-16",
          "2020-05-17",
          "2020-05-18",
          "2020-05-19",
          "2020-05-20",
          "2020-05-21",
          "2020-05-22",
          "2020-05-23",
          "2020-05-24",
          "2020-05-25",
          "2020-05-26",
          "2020-05-27",
          "2020-05-28",
          "2020-05-29",
          "2020-05-30",
          "2020-05-31",
          "2020-06-01",
          "2020-06-02",
          "2020-06-03",
          "2020-06-04",
          "2020-06-05",
          "2020-06-06",
          "2020-06-07",
          "2020-06-08",
          "2020-06-09",
          "2020-06-10",
          "2020-06-11",
          "2020-06-12",
          "2020-06-13",
          "2020-06-14",
          "2020-06-15",
          "2020-06-16",
          "2020-06-17",
          "2020-06-18",
          "2020-06-19",
          "2020-06-20",
          "2020-06-21",
          "2020-06-22",
          "2020-06-23",
          "2020-06-24",
          "2020-06-25"
         ],
         "xaxis": "x",
         "y": [
          0.006230951424969479,
          0.006070487909535271,
          0.005508003752952815,
          0.0070537509595476645,
          0.0057488516593806405,
          0.006688504892814843,
          0.004586977622845484,
          0.00831336380761487,
          0.005836739396556499,
          0.005759563230944493,
          0.00683532814798794,
          0.006366596646826709,
          0.008807496436096093,
          0.008959471137732213,
          0.005097843223326609,
          0.00461486084967092,
          0.004559172377898546,
          0.005918029838061926,
          0.0071239771119594505,
          0.007285453110058495,
          0.003191713052736671,
          0.005419077036689748,
          0.004342081677800002,
          0.005836545008646724,
          0.006844401713842288,
          0.007063123031031458,
          0.00596440592328135,
          0.006533829706724787,
          0.0024447705739049103,
          0.006863962095974822,
          0.005351736099011318,
          0.008445184425891983,
          0.007786326557100075,
          0.005151999773958755,
          0.011271150847675219,
          0.014454835171981385,
          0.009092692975894951,
          0.011967855853936598,
          0.013164815658642151,
          0.008159580138354819,
          0.012284752566325455,
          0.004847933977115047,
          0.0118638153459358,
          0.0027485412106953845,
          0.005305249250543959,
          0.008501073837769447,
          0.0043595516654296035,
          0.004124619968092882,
          0.011898498127134496,
          0.010769935623253938,
          0.008737996367160385,
          0.006177128549454946,
          0.007713941335316459,
          0.005241887196081437,
          0.010093551098560662,
          0.0047594342475480705,
          0.013072461236640583,
          0.006564916725944713,
          0.015339163366068777,
          0.015455798714429196,
          0.006623595308641917
         ],
         "yaxis": "y"
        },
        {
         "marker": {
          "color": "#636efa",
          "size": 6,
          "symbol": "triangle-up"
         },
         "mode": "markers+lines",
         "name": "CA_smooth",
         "type": "scatter",
         "x": [
          "2020-04-26",
          "2020-04-27",
          "2020-04-28",
          "2020-04-29",
          "2020-04-30",
          "2020-05-01",
          "2020-05-02",
          "2020-05-03",
          "2020-05-04",
          "2020-05-05",
          "2020-05-06",
          "2020-05-07",
          "2020-05-08",
          "2020-05-09",
          "2020-05-10",
          "2020-05-11",
          "2020-05-12",
          "2020-05-13",
          "2020-05-14",
          "2020-05-15",
          "2020-05-16",
          "2020-05-17",
          "2020-05-18",
          "2020-05-19",
          "2020-05-20",
          "2020-05-21",
          "2020-05-22",
          "2020-05-23",
          "2020-05-24",
          "2020-05-25",
          "2020-05-26",
          "2020-05-27",
          "2020-05-28",
          "2020-05-29",
          "2020-05-30",
          "2020-05-31",
          "2020-06-01",
          "2020-06-02",
          "2020-06-03",
          "2020-06-04",
          "2020-06-05",
          "2020-06-06",
          "2020-06-07",
          "2020-06-08",
          "2020-06-09",
          "2020-06-10",
          "2020-06-11",
          "2020-06-12",
          "2020-06-13",
          "2020-06-14",
          "2020-06-15",
          "2020-06-16",
          "2020-06-17",
          "2020-06-18",
          "2020-06-19",
          "2020-06-20",
          "2020-06-21",
          "2020-06-22",
          "2020-06-23",
          "2020-06-24",
          "2020-06-25"
         ],
         "y": [
          0.008552572854462976,
          0.008148195607112201,
          0.00786387305982648,
          0.0076819737754430925,
          0.007584866316799324,
          0.007554919246732457,
          0.007574501128079773,
          0.007625980523678596,
          0.007821342676570468,
          0.0076412255162858055,
          0.007698020954531693,
          0.007643319592733478,
          0.007502011570836881,
          0.007446884222891331,
          0.007363871561168835,
          0.006959336999630587,
          0.006817450447347921,
          0.006560602604526631,
          0.006427197468052531,
          0.006448650426947655,
          0.006610408159811583,
          0.006460622489074905,
          0.006543901135760165,
          0.006487171711651774,
          0.0064148009441179835,
          0.006361375100226441,
          0.006656199165657018,
          0.006981429550704094,
          0.0076172201266456,
          0.008140076418557858,
          0.008950532524767244,
          0.009772700662631993,
          0.010497429855922284,
          0.011537502795167664,
          0.012532819300803973,
          0.012350461548671806,
          0.012413714727373223,
          0.01240548424686411,
          0.012226467619512,
          0.012010472366989055,
          0.01127577293648276,
          0.010842257031018336,
          0.010616382780576594,
          0.010444682099503999,
          0.010319637260288637,
          0.010084877831328283,
          0.009869397211873665,
          0.009303743448653413,
          0.009637205338707745,
          0.008694611851542609,
          0.008412423187779986,
          0.009095486118756116,
          0.00988254038254863,
          0.010622969769799723,
          0.0114722989690544,
          0.012206543477200679,
          0.012716131134790436,
          0.012891489782375622,
          0.012623047260508172,
          0.01180123140974003,
          0.010316470070623144
         ]
        },
        {
         "marker": {
          "color": "#EF553B",
          "size": 6,
          "symbol": "triangle-up"
         },
         "mode": "markers+lines",
         "name": "NY_smooth",
         "type": "scatter",
         "x": [
          "2020-04-26",
          "2020-04-27",
          "2020-04-28",
          "2020-04-29",
          "2020-04-30",
          "2020-05-01",
          "2020-05-02",
          "2020-05-03",
          "2020-05-04",
          "2020-05-05",
          "2020-05-06",
          "2020-05-07",
          "2020-05-08",
          "2020-05-09",
          "2020-05-10",
          "2020-05-11",
          "2020-05-12",
          "2020-05-13",
          "2020-05-14",
          "2020-05-15",
          "2020-05-16",
          "2020-05-17",
          "2020-05-18",
          "2020-05-19",
          "2020-05-20",
          "2020-05-21",
          "2020-05-22",
          "2020-05-23",
          "2020-05-24",
          "2020-05-25",
          "2020-05-26",
          "2020-05-27",
          "2020-05-28",
          "2020-05-29",
          "2020-05-30",
          "2020-05-31",
          "2020-06-01",
          "2020-06-02",
          "2020-06-03",
          "2020-06-04",
          "2020-06-05",
          "2020-06-06",
          "2020-06-07",
          "2020-06-08",
          "2020-06-09",
          "2020-06-10",
          "2020-06-11",
          "2020-06-12",
          "2020-06-13",
          "2020-06-14",
          "2020-06-15",
          "2020-06-16",
          "2020-06-17",
          "2020-06-18",
          "2020-06-19",
          "2020-06-20",
          "2020-06-21",
          "2020-06-22",
          "2020-06-23",
          "2020-06-24",
          "2020-06-25"
         ],
         "y": [
          0.006440691330040253,
          0.006100358311835059,
          0.00591510603393918,
          0.005860338738381434,
          0.0059114606671906355,
          0.006043876062395602,
          0.0062329891660251515,
          0.006454204220108132,
          0.0067818781847085,
          0.006956385006138288,
          0.006821216101129806,
          0.006729415931232687,
          0.006546138042592201,
          0.0067910210124046775,
          0.006414349613854745,
          0.006457325246695446,
          0.006095316901223636,
          0.005628243818359954,
          0.005324798488195422,
          0.005149922778510091,
          0.005285989412824226,
          0.00596980116426708,
          0.005836779681674576,
          0.005795286427551409,
          0.005437288813154104,
          0.005394530982828201,
          0.0058158892433456955,
          0.0058597490536700676,
          0.005534353312429919,
          0.006154469427532103,
          0.006435100746905117,
          0.006903792828399576,
          0.008047327979971394,
          0.008828724545777936,
          0.010129288368225048,
          0.010590571032666396,
          0.01117282617996731,
          0.011331243890733011,
          0.01068702020522656,
          0.010481564838992145,
          0.00988540619402708,
          0.008032163216700094,
          0.007050047539108886,
          0.006939641305140095,
          0.006684921201083147,
          0.006625813455438837,
          0.007150882656366488,
          0.00686955081070616,
          0.007737099125623623,
          0.007175356113610018,
          0.008216663881414836,
          0.007631219486661551,
          0.007509180096643135,
          0.008660309977467296,
          0.008861871151744862,
          0.009098126445067125,
          0.00939642833456621,
          0.009784129297374275,
          0.010288581810623487,
          0.010937138351446002,
          0.011757151396973985
         ]
        },
        {
         "marker": {
          "color": "black",
          "size": 16,
          "symbol": "x"
         },
         "mode": "lines",
         "name": "BLM Protests Begin",
         "showlegend": false,
         "type": "scatter",
         "x": [
          "2020-05-26",
          "2020-05-26",
          "2020-05-26",
          "2020-05-26",
          "2020-05-26",
          "2020-05-26",
          "2020-05-26",
          "2020-05-26",
          "2020-05-26",
          "2020-05-26",
          "2020-05-26",
          "2020-05-26",
          "2020-05-26",
          "2020-05-26",
          "2020-05-26",
          "2020-05-26",
          "2020-05-26",
          "2020-05-26",
          "2020-05-26",
          "2020-05-26",
          "2020-05-26",
          "2020-05-26",
          "2020-05-26",
          "2020-05-26",
          "2020-05-26",
          "2020-05-26",
          "2020-05-26",
          "2020-05-26",
          "2020-05-26",
          "2020-05-26",
          "2020-05-26",
          "2020-05-26",
          "2020-05-26",
          "2020-05-26",
          "2020-05-26",
          "2020-05-26",
          "2020-05-26",
          "2020-05-26",
          "2020-05-26",
          "2020-05-26",
          "2020-05-26",
          "2020-05-26",
          "2020-05-26",
          "2020-05-26",
          "2020-05-26",
          "2020-05-26",
          "2020-05-26",
          "2020-05-26",
          "2020-05-26",
          "2020-05-26"
         ],
         "y": [
          0.00015673954390561448,
          0.0005562025936218381,
          0.0009556656433380618,
          0.0013551286930542856,
          0.0017545917427705092,
          0.002154054792486733,
          0.0025535178422029566,
          0.00295298089191918,
          0.003352443941635404,
          0.0037519069913516277,
          0.004151370041067851,
          0.0045508330907840745,
          0.004950296140500299,
          0.005349759190216522,
          0.0057492222399327456,
          0.00614868528964897,
          0.006548148339365193,
          0.006947611389081417,
          0.007347074438797641,
          0.007746537488513864,
          0.008146000538230088,
          0.008545463587946311,
          0.008944926637662534,
          0.00934438968737876,
          0.009743852737094983,
          0.010143315786811206,
          0.01054277883652743,
          0.010942241886243653,
          0.011341704935959877,
          0.011741167985676102,
          0.012140631035392325,
          0.012540094085108549,
          0.012939557134824772,
          0.013339020184540995,
          0.013738483234257219,
          0.014137946283973442,
          0.014537409333689667,
          0.01493687238340589,
          0.015336335433122114,
          0.015735798482838338,
          0.01613526153255456,
          0.016534724582270784,
          0.016934187631987008,
          0.01733365068170323,
          0.017733113731419455,
          0.01813257678113568,
          0.018532039830851905,
          0.018931502880568128,
          0.01933096593028435,
          0.019730428980000575
         ]
        }
       ],
       "layout": {
        "annotations": [
         {
          "arrowhead": 1,
          "showarrow": true,
          "text": "BLM Protests Begin",
          "x": "2020-05-26",
          "y": 0.018662681166000904
         }
        ],
        "autosize": true,
        "font": {
         "size": 15
        },
        "legend": {
         "title": {
          "text": "state"
         },
         "tracegroupgap": 0
        },
        "margin": {
         "t": 60
        },
        "template": {
         "data": {
          "bar": [
           {
            "error_x": {
             "color": "#2a3f5f"
            },
            "error_y": {
             "color": "#2a3f5f"
            },
            "marker": {
             "line": {
              "color": "white",
              "width": 0.5
             }
            },
            "type": "bar"
           }
          ],
          "barpolar": [
           {
            "marker": {
             "line": {
              "color": "white",
              "width": 0.5
             }
            },
            "type": "barpolar"
           }
          ],
          "carpet": [
           {
            "aaxis": {
             "endlinecolor": "#2a3f5f",
             "gridcolor": "#C8D4E3",
             "linecolor": "#C8D4E3",
             "minorgridcolor": "#C8D4E3",
             "startlinecolor": "#2a3f5f"
            },
            "baxis": {
             "endlinecolor": "#2a3f5f",
             "gridcolor": "#C8D4E3",
             "linecolor": "#C8D4E3",
             "minorgridcolor": "#C8D4E3",
             "startlinecolor": "#2a3f5f"
            },
            "type": "carpet"
           }
          ],
          "choropleth": [
           {
            "colorbar": {
             "outlinewidth": 0,
             "ticks": ""
            },
            "type": "choropleth"
           }
          ],
          "contour": [
           {
            "colorbar": {
             "outlinewidth": 0,
             "ticks": ""
            },
            "colorscale": [
             [
              0,
              "#0d0887"
             ],
             [
              0.1111111111111111,
              "#46039f"
             ],
             [
              0.2222222222222222,
              "#7201a8"
             ],
             [
              0.3333333333333333,
              "#9c179e"
             ],
             [
              0.4444444444444444,
              "#bd3786"
             ],
             [
              0.5555555555555556,
              "#d8576b"
             ],
             [
              0.6666666666666666,
              "#ed7953"
             ],
             [
              0.7777777777777778,
              "#fb9f3a"
             ],
             [
              0.8888888888888888,
              "#fdca26"
             ],
             [
              1,
              "#f0f921"
             ]
            ],
            "type": "contour"
           }
          ],
          "contourcarpet": [
           {
            "colorbar": {
             "outlinewidth": 0,
             "ticks": ""
            },
            "type": "contourcarpet"
           }
          ],
          "heatmap": [
           {
            "colorbar": {
             "outlinewidth": 0,
             "ticks": ""
            },
            "colorscale": [
             [
              0,
              "#0d0887"
             ],
             [
              0.1111111111111111,
              "#46039f"
             ],
             [
              0.2222222222222222,
              "#7201a8"
             ],
             [
              0.3333333333333333,
              "#9c179e"
             ],
             [
              0.4444444444444444,
              "#bd3786"
             ],
             [
              0.5555555555555556,
              "#d8576b"
             ],
             [
              0.6666666666666666,
              "#ed7953"
             ],
             [
              0.7777777777777778,
              "#fb9f3a"
             ],
             [
              0.8888888888888888,
              "#fdca26"
             ],
             [
              1,
              "#f0f921"
             ]
            ],
            "type": "heatmap"
           }
          ],
          "heatmapgl": [
           {
            "colorbar": {
             "outlinewidth": 0,
             "ticks": ""
            },
            "colorscale": [
             [
              0,
              "#0d0887"
             ],
             [
              0.1111111111111111,
              "#46039f"
             ],
             [
              0.2222222222222222,
              "#7201a8"
             ],
             [
              0.3333333333333333,
              "#9c179e"
             ],
             [
              0.4444444444444444,
              "#bd3786"
             ],
             [
              0.5555555555555556,
              "#d8576b"
             ],
             [
              0.6666666666666666,
              "#ed7953"
             ],
             [
              0.7777777777777778,
              "#fb9f3a"
             ],
             [
              0.8888888888888888,
              "#fdca26"
             ],
             [
              1,
              "#f0f921"
             ]
            ],
            "type": "heatmapgl"
           }
          ],
          "histogram": [
           {
            "marker": {
             "colorbar": {
              "outlinewidth": 0,
              "ticks": ""
             }
            },
            "type": "histogram"
           }
          ],
          "histogram2d": [
           {
            "colorbar": {
             "outlinewidth": 0,
             "ticks": ""
            },
            "colorscale": [
             [
              0,
              "#0d0887"
             ],
             [
              0.1111111111111111,
              "#46039f"
             ],
             [
              0.2222222222222222,
              "#7201a8"
             ],
             [
              0.3333333333333333,
              "#9c179e"
             ],
             [
              0.4444444444444444,
              "#bd3786"
             ],
             [
              0.5555555555555556,
              "#d8576b"
             ],
             [
              0.6666666666666666,
              "#ed7953"
             ],
             [
              0.7777777777777778,
              "#fb9f3a"
             ],
             [
              0.8888888888888888,
              "#fdca26"
             ],
             [
              1,
              "#f0f921"
             ]
            ],
            "type": "histogram2d"
           }
          ],
          "histogram2dcontour": [
           {
            "colorbar": {
             "outlinewidth": 0,
             "ticks": ""
            },
            "colorscale": [
             [
              0,
              "#0d0887"
             ],
             [
              0.1111111111111111,
              "#46039f"
             ],
             [
              0.2222222222222222,
              "#7201a8"
             ],
             [
              0.3333333333333333,
              "#9c179e"
             ],
             [
              0.4444444444444444,
              "#bd3786"
             ],
             [
              0.5555555555555556,
              "#d8576b"
             ],
             [
              0.6666666666666666,
              "#ed7953"
             ],
             [
              0.7777777777777778,
              "#fb9f3a"
             ],
             [
              0.8888888888888888,
              "#fdca26"
             ],
             [
              1,
              "#f0f921"
             ]
            ],
            "type": "histogram2dcontour"
           }
          ],
          "mesh3d": [
           {
            "colorbar": {
             "outlinewidth": 0,
             "ticks": ""
            },
            "type": "mesh3d"
           }
          ],
          "parcoords": [
           {
            "line": {
             "colorbar": {
              "outlinewidth": 0,
              "ticks": ""
             }
            },
            "type": "parcoords"
           }
          ],
          "pie": [
           {
            "automargin": true,
            "type": "pie"
           }
          ],
          "scatter": [
           {
            "marker": {
             "colorbar": {
              "outlinewidth": 0,
              "ticks": ""
             }
            },
            "type": "scatter"
           }
          ],
          "scatter3d": [
           {
            "line": {
             "colorbar": {
              "outlinewidth": 0,
              "ticks": ""
             }
            },
            "marker": {
             "colorbar": {
              "outlinewidth": 0,
              "ticks": ""
             }
            },
            "type": "scatter3d"
           }
          ],
          "scattercarpet": [
           {
            "marker": {
             "colorbar": {
              "outlinewidth": 0,
              "ticks": ""
             }
            },
            "type": "scattercarpet"
           }
          ],
          "scattergeo": [
           {
            "marker": {
             "colorbar": {
              "outlinewidth": 0,
              "ticks": ""
             }
            },
            "type": "scattergeo"
           }
          ],
          "scattergl": [
           {
            "marker": {
             "colorbar": {
              "outlinewidth": 0,
              "ticks": ""
             }
            },
            "type": "scattergl"
           }
          ],
          "scattermapbox": [
           {
            "marker": {
             "colorbar": {
              "outlinewidth": 0,
              "ticks": ""
             }
            },
            "type": "scattermapbox"
           }
          ],
          "scatterpolar": [
           {
            "marker": {
             "colorbar": {
              "outlinewidth": 0,
              "ticks": ""
             }
            },
            "type": "scatterpolar"
           }
          ],
          "scatterpolargl": [
           {
            "marker": {
             "colorbar": {
              "outlinewidth": 0,
              "ticks": ""
             }
            },
            "type": "scatterpolargl"
           }
          ],
          "scatterternary": [
           {
            "marker": {
             "colorbar": {
              "outlinewidth": 0,
              "ticks": ""
             }
            },
            "type": "scatterternary"
           }
          ],
          "surface": [
           {
            "colorbar": {
             "outlinewidth": 0,
             "ticks": ""
            },
            "colorscale": [
             [
              0,
              "#0d0887"
             ],
             [
              0.1111111111111111,
              "#46039f"
             ],
             [
              0.2222222222222222,
              "#7201a8"
             ],
             [
              0.3333333333333333,
              "#9c179e"
             ],
             [
              0.4444444444444444,
              "#bd3786"
             ],
             [
              0.5555555555555556,
              "#d8576b"
             ],
             [
              0.6666666666666666,
              "#ed7953"
             ],
             [
              0.7777777777777778,
              "#fb9f3a"
             ],
             [
              0.8888888888888888,
              "#fdca26"
             ],
             [
              1,
              "#f0f921"
             ]
            ],
            "type": "surface"
           }
          ],
          "table": [
           {
            "cells": {
             "fill": {
              "color": "#EBF0F8"
             },
             "line": {
              "color": "white"
             }
            },
            "header": {
             "fill": {
              "color": "#C8D4E3"
             },
             "line": {
              "color": "white"
             }
            },
            "type": "table"
           }
          ]
         },
         "layout": {
          "annotationdefaults": {
           "arrowcolor": "#2a3f5f",
           "arrowhead": 0,
           "arrowwidth": 1
          },
          "coloraxis": {
           "colorbar": {
            "outlinewidth": 0,
            "ticks": ""
           }
          },
          "colorscale": {
           "diverging": [
            [
             0,
             "#8e0152"
            ],
            [
             0.1,
             "#c51b7d"
            ],
            [
             0.2,
             "#de77ae"
            ],
            [
             0.3,
             "#f1b6da"
            ],
            [
             0.4,
             "#fde0ef"
            ],
            [
             0.5,
             "#f7f7f7"
            ],
            [
             0.6,
             "#e6f5d0"
            ],
            [
             0.7,
             "#b8e186"
            ],
            [
             0.8,
             "#7fbc41"
            ],
            [
             0.9,
             "#4d9221"
            ],
            [
             1,
             "#276419"
            ]
           ],
           "sequential": [
            [
             0,
             "#0d0887"
            ],
            [
             0.1111111111111111,
             "#46039f"
            ],
            [
             0.2222222222222222,
             "#7201a8"
            ],
            [
             0.3333333333333333,
             "#9c179e"
            ],
            [
             0.4444444444444444,
             "#bd3786"
            ],
            [
             0.5555555555555556,
             "#d8576b"
            ],
            [
             0.6666666666666666,
             "#ed7953"
            ],
            [
             0.7777777777777778,
             "#fb9f3a"
            ],
            [
             0.8888888888888888,
             "#fdca26"
            ],
            [
             1,
             "#f0f921"
            ]
           ],
           "sequentialminus": [
            [
             0,
             "#0d0887"
            ],
            [
             0.1111111111111111,
             "#46039f"
            ],
            [
             0.2222222222222222,
             "#7201a8"
            ],
            [
             0.3333333333333333,
             "#9c179e"
            ],
            [
             0.4444444444444444,
             "#bd3786"
            ],
            [
             0.5555555555555556,
             "#d8576b"
            ],
            [
             0.6666666666666666,
             "#ed7953"
            ],
            [
             0.7777777777777778,
             "#fb9f3a"
            ],
            [
             0.8888888888888888,
             "#fdca26"
            ],
            [
             1,
             "#f0f921"
            ]
           ]
          },
          "colorway": [
           "#636efa",
           "#EF553B",
           "#00cc96",
           "#ab63fa",
           "#FFA15A",
           "#19d3f3",
           "#FF6692",
           "#B6E880",
           "#FF97FF",
           "#FECB52"
          ],
          "font": {
           "color": "#2a3f5f"
          },
          "geo": {
           "bgcolor": "white",
           "lakecolor": "white",
           "landcolor": "white",
           "showlakes": true,
           "showland": true,
           "subunitcolor": "#C8D4E3"
          },
          "hoverlabel": {
           "align": "left"
          },
          "hovermode": "closest",
          "mapbox": {
           "style": "light"
          },
          "paper_bgcolor": "white",
          "plot_bgcolor": "white",
          "polar": {
           "angularaxis": {
            "gridcolor": "#EBF0F8",
            "linecolor": "#EBF0F8",
            "ticks": ""
           },
           "bgcolor": "white",
           "radialaxis": {
            "gridcolor": "#EBF0F8",
            "linecolor": "#EBF0F8",
            "ticks": ""
           }
          },
          "scene": {
           "xaxis": {
            "backgroundcolor": "white",
            "gridcolor": "#DFE8F3",
            "gridwidth": 2,
            "linecolor": "#EBF0F8",
            "showbackground": true,
            "ticks": "",
            "zerolinecolor": "#EBF0F8"
           },
           "yaxis": {
            "backgroundcolor": "white",
            "gridcolor": "#DFE8F3",
            "gridwidth": 2,
            "linecolor": "#EBF0F8",
            "showbackground": true,
            "ticks": "",
            "zerolinecolor": "#EBF0F8"
           },
           "zaxis": {
            "backgroundcolor": "white",
            "gridcolor": "#DFE8F3",
            "gridwidth": 2,
            "linecolor": "#EBF0F8",
            "showbackground": true,
            "ticks": "",
            "zerolinecolor": "#EBF0F8"
           }
          },
          "shapedefaults": {
           "line": {
            "color": "#2a3f5f"
           }
          },
          "ternary": {
           "aaxis": {
            "gridcolor": "#DFE8F3",
            "linecolor": "#A2B1C6",
            "ticks": ""
           },
           "baxis": {
            "gridcolor": "#DFE8F3",
            "linecolor": "#A2B1C6",
            "ticks": ""
           },
           "bgcolor": "white",
           "caxis": {
            "gridcolor": "#DFE8F3",
            "linecolor": "#A2B1C6",
            "ticks": ""
           }
          },
          "title": {
           "x": 0.05
          },
          "xaxis": {
           "automargin": true,
           "gridcolor": "#EBF0F8",
           "linecolor": "#EBF0F8",
           "ticks": "",
           "title": {
            "standoff": 15
           },
           "zerolinecolor": "#EBF0F8",
           "zerolinewidth": 2
          },
          "yaxis": {
           "automargin": true,
           "gridcolor": "#EBF0F8",
           "linecolor": "#EBF0F8",
           "ticks": "",
           "title": {
            "standoff": 15
           },
           "zerolinecolor": "#EBF0F8",
           "zerolinewidth": 2
          }
         }
        },
        "title": {
         "text": ""
        },
        "xaxis": {
         "anchor": "y",
         "autorange": true,
         "domain": [
          0,
          1
         ],
         "range": [
          "2020-04-22 09:46:44.9767",
          "2020-06-28 14:13:15.0233"
         ],
         "title": {
          "text": "Date"
         },
         "type": "date"
        },
        "yaxis": {
         "anchor": "x",
         "autorange": true,
         "domain": [
          0,
          1
         ],
         "range": [
          -0.0009747874586288115,
          0.02165575259205971
         ],
         "title": {
          "text": "CLAWS Task: Counter-hate Probability"
         },
         "type": "linear"
        }
       }
      },
      "image/png": "[encoded data removed]",
      "text/html": [
       "<div>                            <div id=\"ffffa40e-c781-4ca2-ae46-e987b02cca0c\" class=\"plotly-graph-div\" style=\"height:525px; width:100%;\"></div>            <script type=\"text/javascript\">                require([\"plotly\"], function(Plotly) {                    window.PLOTLYENV=window.PLOTLYENV || {};                                    if (document.getElementById(\"ffffa40e-c781-4ca2-ae46-e987b02cca0c\")) {                    Plotly.newPlot(                        \"ffffa40e-c781-4ca2-ae46-e987b02cca0c\",                        [{\"hovertemplate\": \"state=CA<br>date=%{x}<br>counterhate_prob=%{y}<extra></extra>\", \"legendgroup\": \"CA\", \"line\": {\"dash\": \"dash\"}, \"marker\": {\"color\": \"#636efa\", \"symbol\": \"circle\"}, \"mode\": \"markers+lines\", \"name\": \"CA\", \"orientation\": \"v\", \"showlegend\": true, \"type\": \"scatter\", \"x\": [\"2020-04-26\", \"2020-04-27\", \"2020-04-28\", \"2020-04-29\", \"2020-04-30\", \"2020-05-01\", \"2020-05-02\", \"2020-05-03\", \"2020-05-04\", \"2020-05-05\", \"2020-05-06\", \"2020-05-07\", \"2020-05-08\", \"2020-05-09\", \"2020-05-10\", \"2020-05-11\", \"2020-05-12\", \"2020-05-13\", \"2020-05-14\", \"2020-05-15\", \"2020-05-16\", \"2020-05-17\", \"2020-05-18\", \"2020-05-19\", \"2020-05-20\", \"2020-05-21\", \"2020-05-22\", \"2020-05-23\", \"2020-05-24\", \"2020-05-25\", \"2020-05-26\", \"2020-05-27\", \"2020-05-28\", \"2020-05-29\", \"2020-05-30\", \"2020-05-31\", \"2020-06-01\", \"2020-06-02\", \"2020-06-03\", \"2020-06-04\", \"2020-06-05\", \"2020-06-06\", \"2020-06-07\", \"2020-06-08\", \"2020-06-09\", \"2020-06-10\", \"2020-06-11\", \"2020-06-12\", \"2020-06-13\", \"2020-06-14\", \"2020-06-15\", \"2020-06-16\", \"2020-06-17\", \"2020-06-18\", \"2020-06-19\", \"2020-06-20\", \"2020-06-21\", \"2020-06-22\", \"2020-06-23\", \"2020-06-24\", \"2020-06-25\"], \"xaxis\": \"x\", \"y\": [0.008980335733717286, 0.006818565276307846, 0.00876836063895423, 0.008512870695714235, 0.006623356949008737, 0.007399690040579377, 0.008067458309899909, 0.0068411641644330005, 0.008668157823237467, 0.007636079194726892, 0.007415296339808246, 0.007737324600655684, 0.007666198254064096, 0.008074513710896273, 0.007177586915600104, 0.006073190779176635, 0.007077935812674573, 0.006326346177905683, 0.007650004079363357, 0.006553559627738845, 0.005376290438544887, 0.005475896727988833, 0.007090190015341104, 0.0067590340932321006, 0.007852227964271928, 0.007190473018580774, 0.006328641073010181, 0.004563351744510264, 0.008771705000647603, 0.007054220362806163, 0.0077169278766104545, 0.01011949882099523, 0.011473301033372636, 0.012151811689754894, 0.013933989940203966, 0.011301931257024242, 0.012751505194478395, 0.012054788931699112, 0.0116962080336758, 0.014381670035285359, 0.01057319264899216, 0.006741693419543764, 0.012621923094149102, 0.012979998852161495, 0.010057761299482682, 0.008364806751674173, 0.00711537114143134, 0.012127109207047335, 0.010236051365004703, 0.010914755992018545, 0.007862211120231407, 0.00789747156386809, 0.007987986381513263, 0.006852859170343134, 0.01610732622138468, 0.006184886477673435, 0.014392009857757411, 0.01744239795000128, 0.013311329021602956, 0.011276630136987922, 0.008864396507673407], \"yaxis\": \"y\"}, {\"hovertemplate\": \"state=NY<br>date=%{x}<br>counterhate_prob=%{y}<extra></extra>\", \"legendgroup\": \"NY\", \"line\": {\"dash\": \"dash\"}, \"marker\": {\"color\": \"#EF553B\", \"symbol\": \"circle\"}, \"mode\": \"markers+lines\", \"name\": \"NY\", \"orientation\": \"v\", \"showlegend\": true, \"type\": \"scatter\", \"x\": [\"2020-04-26\", \"2020-04-27\", \"2020-04-28\", \"2020-04-29\", \"2020-04-30\", \"2020-05-01\", \"2020-05-02\", \"2020-05-03\", \"2020-05-04\", \"2020-05-05\", \"2020-05-06\", \"2020-05-07\", \"2020-05-08\", \"2020-05-09\", \"2020-05-10\", \"2020-05-11\", \"2020-05-12\", \"2020-05-13\", \"2020-05-14\", \"2020-05-15\", \"2020-05-16\", \"2020-05-17\", \"2020-05-18\", \"2020-05-19\", \"2020-05-20\", \"2020-05-21\", \"2020-05-22\", \"2020-05-23\", \"2020-05-24\", \"2020-05-25\", \"2020-05-26\", \"2020-05-27\", \"2020-05-28\", \"2020-05-29\", \"2020-05-30\", \"2020-05-31\", \"2020-06-01\", \"2020-06-02\", \"2020-06-03\", \"2020-06-04\", \"2020-06-05\", \"2020-06-06\", \"2020-06-07\", \"2020-06-08\", \"2020-06-09\", \"2020-06-10\", \"2020-06-11\", \"2020-06-12\", \"2020-06-13\", \"2020-06-14\", \"2020-06-15\", \"2020-06-16\", \"2020-06-17\", \"2020-06-18\", \"2020-06-19\", \"2020-06-20\", \"2020-06-21\", \"2020-06-22\", \"2020-06-23\", \"2020-06-24\", \"2020-06-25\"], \"xaxis\": \"x\", \"y\": [0.006230951424969479, 0.006070487909535271, 0.005508003752952815, 0.0070537509595476645, 0.0057488516593806405, 0.006688504892814843, 0.004586977622845484, 0.00831336380761487, 0.005836739396556499, 0.005759563230944493, 0.00683532814798794, 0.006366596646826709, 0.008807496436096093, 0.008959471137732213, 0.005097843223326609, 0.00461486084967092, 0.004559172377898546, 0.005918029838061926, 0.0071239771119594505, 0.007285453110058495, 0.003191713052736671, 0.005419077036689748, 0.004342081677800002, 0.005836545008646724, 0.006844401713842288, 0.007063123031031458, 0.00596440592328135, 0.006533829706724787, 0.0024447705739049103, 0.006863962095974822, 0.005351736099011318, 0.008445184425891983, 0.007786326557100075, 0.005151999773958755, 0.011271150847675219, 0.014454835171981385, 0.009092692975894951, 0.011967855853936598, 0.013164815658642151, 0.008159580138354819, 0.012284752566325455, 0.004847933977115047, 0.0118638153459358, 0.0027485412106953845, 0.005305249250543959, 0.008501073837769447, 0.0043595516654296035, 0.004124619968092882, 0.011898498127134496, 0.010769935623253938, 0.008737996367160385, 0.006177128549454946, 0.007713941335316459, 0.005241887196081437, 0.010093551098560662, 0.0047594342475480705, 0.013072461236640583, 0.006564916725944713, 0.015339163366068777, 0.015455798714429196, 0.006623595308641917], \"yaxis\": \"y\"}, {\"marker\": {\"color\": \"#636efa\", \"size\": 6, \"symbol\": \"triangle-up\"}, \"mode\": \"markers+lines\", \"name\": \"CA_smooth\", \"type\": \"scatter\", \"x\": [\"2020-04-26\", \"2020-04-27\", \"2020-04-28\", \"2020-04-29\", \"2020-04-30\", \"2020-05-01\", \"2020-05-02\", \"2020-05-03\", \"2020-05-04\", \"2020-05-05\", \"2020-05-06\", \"2020-05-07\", \"2020-05-08\", \"2020-05-09\", \"2020-05-10\", \"2020-05-11\", \"2020-05-12\", \"2020-05-13\", \"2020-05-14\", \"2020-05-15\", \"2020-05-16\", \"2020-05-17\", \"2020-05-18\", \"2020-05-19\", \"2020-05-20\", \"2020-05-21\", \"2020-05-22\", \"2020-05-23\", \"2020-05-24\", \"2020-05-25\", \"2020-05-26\", \"2020-05-27\", \"2020-05-28\", \"2020-05-29\", \"2020-05-30\", \"2020-05-31\", \"2020-06-01\", \"2020-06-02\", \"2020-06-03\", \"2020-06-04\", \"2020-06-05\", \"2020-06-06\", \"2020-06-07\", \"2020-06-08\", \"2020-06-09\", \"2020-06-10\", \"2020-06-11\", \"2020-06-12\", \"2020-06-13\", \"2020-06-14\", \"2020-06-15\", \"2020-06-16\", \"2020-06-17\", \"2020-06-18\", \"2020-06-19\", \"2020-06-20\", \"2020-06-21\", \"2020-06-22\", \"2020-06-23\", \"2020-06-24\", \"2020-06-25\"], \"y\": [0.008552572854462976, 0.008148195607112201, 0.00786387305982648, 0.0076819737754430925, 0.007584866316799324, 0.007554919246732457, 0.007574501128079773, 0.007625980523678596, 0.007821342676570468, 0.0076412255162858055, 0.007698020954531693, 0.007643319592733478, 0.007502011570836881, 0.007446884222891331, 0.007363871561168835, 0.006959336999630587, 0.006817450447347921, 0.006560602604526631, 0.006427197468052531, 0.006448650426947655, 0.006610408159811583, 0.006460622489074905, 0.006543901135760165, 0.006487171711651774, 0.0064148009441179835, 0.006361375100226441, 0.006656199165657018, 0.006981429550704094, 0.0076172201266456, 0.008140076418557858, 0.008950532524767244, 0.009772700662631993, 0.010497429855922284, 0.011537502795167664, 0.012532819300803973, 0.012350461548671806, 0.012413714727373223, 0.01240548424686411, 0.012226467619512, 0.012010472366989055, 0.01127577293648276, 0.010842257031018336, 0.010616382780576594, 0.010444682099503999, 0.010319637260288637, 0.010084877831328283, 0.009869397211873665, 0.009303743448653413, 0.009637205338707745, 0.008694611851542609, 0.008412423187779986, 0.009095486118756116, 0.00988254038254863, 0.010622969769799723, 0.0114722989690544, 0.012206543477200679, 0.012716131134790436, 0.012891489782375622, 0.012623047260508172, 0.01180123140974003, 0.010316470070623144]}, {\"marker\": {\"color\": \"#EF553B\", \"size\": 6, \"symbol\": \"triangle-up\"}, \"mode\": \"markers+lines\", \"name\": \"NY_smooth\", \"type\": \"scatter\", \"x\": [\"2020-04-26\", \"2020-04-27\", \"2020-04-28\", \"2020-04-29\", \"2020-04-30\", \"2020-05-01\", \"2020-05-02\", \"2020-05-03\", \"2020-05-04\", \"2020-05-05\", \"2020-05-06\", \"2020-05-07\", \"2020-05-08\", \"2020-05-09\", \"2020-05-10\", \"2020-05-11\", \"2020-05-12\", \"2020-05-13\", \"2020-05-14\", \"2020-05-15\", \"2020-05-16\", \"2020-05-17\", \"2020-05-18\", \"2020-05-19\", \"2020-05-20\", \"2020-05-21\", \"2020-05-22\", \"2020-05-23\", \"2020-05-24\", \"2020-05-25\", \"2020-05-26\", \"2020-05-27\", \"2020-05-28\", \"2020-05-29\", \"2020-05-30\", \"2020-05-31\", \"2020-06-01\", \"2020-06-02\", \"2020-06-03\", \"2020-06-04\", \"2020-06-05\", \"2020-06-06\", \"2020-06-07\", \"2020-06-08\", \"2020-06-09\", \"2020-06-10\", \"2020-06-11\", \"2020-06-12\", \"2020-06-13\", \"2020-06-14\", \"2020-06-15\", \"2020-06-16\", \"2020-06-17\", \"2020-06-18\", \"2020-06-19\", \"2020-06-20\", \"2020-06-21\", \"2020-06-22\", \"2020-06-23\", \"2020-06-24\", \"2020-06-25\"], \"y\": [0.006440691330040253, 0.006100358311835059, 0.00591510603393918, 0.005860338738381434, 0.0059114606671906355, 0.006043876062395602, 0.0062329891660251515, 0.006454204220108132, 0.0067818781847085, 0.006956385006138288, 0.006821216101129806, 0.006729415931232687, 0.006546138042592201, 0.0067910210124046775, 0.006414349613854745, 0.006457325246695446, 0.006095316901223636, 0.005628243818359954, 0.005324798488195422, 0.005149922778510091, 0.005285989412824226, 0.00596980116426708, 0.005836779681674576, 0.005795286427551409, 0.005437288813154104, 0.005394530982828201, 0.0058158892433456955, 0.0058597490536700676, 0.005534353312429919, 0.006154469427532103, 0.006435100746905117, 0.006903792828399576, 0.008047327979971394, 0.008828724545777936, 0.010129288368225048, 0.010590571032666396, 0.01117282617996731, 0.011331243890733011, 0.01068702020522656, 0.010481564838992145, 0.00988540619402708, 0.008032163216700094, 0.007050047539108886, 0.006939641305140095, 0.006684921201083147, 0.006625813455438837, 0.007150882656366488, 0.00686955081070616, 0.007737099125623623, 0.007175356113610018, 0.008216663881414836, 0.007631219486661551, 0.007509180096643135, 0.008660309977467296, 0.008861871151744862, 0.009098126445067125, 0.00939642833456621, 0.009784129297374275, 0.010288581810623487, 0.010937138351446002, 0.011757151396973985]}, {\"marker\": {\"color\": \"black\", \"size\": 16, \"symbol\": \"x\"}, \"mode\": \"lines\", \"name\": \"BLM Protests Begin\", \"showlegend\": false, \"type\": \"scatter\", \"x\": [\"2020-05-26\", \"2020-05-26\", \"2020-05-26\", \"2020-05-26\", \"2020-05-26\", \"2020-05-26\", \"2020-05-26\", \"2020-05-26\", \"2020-05-26\", \"2020-05-26\", \"2020-05-26\", \"2020-05-26\", \"2020-05-26\", \"2020-05-26\", \"2020-05-26\", \"2020-05-26\", \"2020-05-26\", \"2020-05-26\", \"2020-05-26\", \"2020-05-26\", \"2020-05-26\", \"2020-05-26\", \"2020-05-26\", \"2020-05-26\", \"2020-05-26\", \"2020-05-26\", \"2020-05-26\", \"2020-05-26\", \"2020-05-26\", \"2020-05-26\", \"2020-05-26\", \"2020-05-26\", \"2020-05-26\", \"2020-05-26\", \"2020-05-26\", \"2020-05-26\", \"2020-05-26\", \"2020-05-26\", \"2020-05-26\", \"2020-05-26\", \"2020-05-26\", \"2020-05-26\", \"2020-05-26\", \"2020-05-26\", \"2020-05-26\", \"2020-05-26\", \"2020-05-26\", \"2020-05-26\", \"2020-05-26\", \"2020-05-26\"], \"y\": [0.00015673954390561448, 0.0005562025936218381, 0.0009556656433380618, 0.0013551286930542856, 0.0017545917427705092, 0.002154054792486733, 0.0025535178422029566, 0.00295298089191918, 0.003352443941635404, 0.0037519069913516277, 0.004151370041067851, 0.0045508330907840745, 0.004950296140500299, 0.005349759190216522, 0.0057492222399327456, 0.00614868528964897, 0.006548148339365193, 0.006947611389081417, 0.007347074438797641, 0.007746537488513864, 0.008146000538230088, 0.008545463587946311, 0.008944926637662534, 0.00934438968737876, 0.009743852737094983, 0.010143315786811206, 0.01054277883652743, 0.010942241886243653, 0.011341704935959877, 0.011741167985676102, 0.012140631035392325, 0.012540094085108549, 0.012939557134824772, 0.013339020184540995, 0.013738483234257219, 0.014137946283973442, 0.014537409333689667, 0.01493687238340589, 0.015336335433122114, 0.015735798482838338, 0.01613526153255456, 0.016534724582270784, 0.016934187631987008, 0.01733365068170323, 0.017733113731419455, 0.01813257678113568, 0.018532039830851905, 0.018931502880568128, 0.01933096593028435, 0.019730428980000575]}],                        {\"annotations\": [{\"arrowhead\": 1, \"showarrow\": true, \"text\": \"BLM Protests Begin\", \"x\": \"2020-05-26\", \"y\": 0.018662681166000904}], \"font\": {\"size\": 15}, \"legend\": {\"title\": {\"text\": \"state\"}, \"tracegroupgap\": 0}, \"margin\": {\"t\": 60}, \"template\": {\"data\": {\"bar\": [{\"error_x\": {\"color\": \"#2a3f5f\"}, \"error_y\": {\"color\": \"#2a3f5f\"}, \"marker\": {\"line\": {\"color\": \"white\", \"width\": 0.5}}, \"type\": \"bar\"}], \"barpolar\": [{\"marker\": {\"line\": {\"color\": \"white\", \"width\": 0.5}}, \"type\": \"barpolar\"}], \"carpet\": [{\"aaxis\": {\"endlinecolor\": \"#2a3f5f\", \"gridcolor\": \"#C8D4E3\", \"linecolor\": \"#C8D4E3\", \"minorgridcolor\": \"#C8D4E3\", \"startlinecolor\": \"#2a3f5f\"}, \"baxis\": {\"endlinecolor\": \"#2a3f5f\", \"gridcolor\": \"#C8D4E3\", \"linecolor\": \"#C8D4E3\", \"minorgridcolor\": \"#C8D4E3\", \"startlinecolor\": \"#2a3f5f\"}, \"type\": \"carpet\"}], \"choropleth\": [{\"colorbar\": {\"outlinewidth\": 0, \"ticks\": \"\"}, \"type\": \"choropleth\"}], \"contour\": [{\"colorbar\": {\"outlinewidth\": 0, \"ticks\": \"\"}, \"colorscale\": [[0.0, \"#0d0887\"], [0.1111111111111111, \"#46039f\"], [0.2222222222222222, \"#7201a8\"], [0.3333333333333333, \"#9c179e\"], [0.4444444444444444, \"#bd3786\"], [0.5555555555555556, \"#d8576b\"], [0.6666666666666666, \"#ed7953\"], [0.7777777777777778, \"#fb9f3a\"], [0.8888888888888888, \"#fdca26\"], [1.0, \"#f0f921\"]], \"type\": \"contour\"}], \"contourcarpet\": [{\"colorbar\": {\"outlinewidth\": 0, \"ticks\": \"\"}, \"type\": \"contourcarpet\"}], \"heatmap\": [{\"colorbar\": {\"outlinewidth\": 0, \"ticks\": \"\"}, \"colorscale\": [[0.0, \"#0d0887\"], [0.1111111111111111, \"#46039f\"], [0.2222222222222222, \"#7201a8\"], [0.3333333333333333, \"#9c179e\"], [0.4444444444444444, \"#bd3786\"], [0.5555555555555556, \"#d8576b\"], [0.6666666666666666, \"#ed7953\"], [0.7777777777777778, \"#fb9f3a\"], [0.8888888888888888, \"#fdca26\"], [1.0, \"#f0f921\"]], \"type\": \"heatmap\"}], \"heatmapgl\": [{\"colorbar\": {\"outlinewidth\": 0, \"ticks\": \"\"}, \"colorscale\": [[0.0, \"#0d0887\"], [0.1111111111111111, \"#46039f\"], [0.2222222222222222, \"#7201a8\"], [0.3333333333333333, \"#9c179e\"], [0.4444444444444444, \"#bd3786\"], [0.5555555555555556, \"#d8576b\"], [0.6666666666666666, \"#ed7953\"], [0.7777777777777778, \"#fb9f3a\"], [0.8888888888888888, \"#fdca26\"], [1.0, \"#f0f921\"]], \"type\": \"heatmapgl\"}], \"histogram\": [{\"marker\": {\"colorbar\": {\"outlinewidth\": 0, \"ticks\": \"\"}}, \"type\": \"histogram\"}], \"histogram2d\": [{\"colorbar\": {\"outlinewidth\": 0, \"ticks\": \"\"}, \"colorscale\": [[0.0, \"#0d0887\"], [0.1111111111111111, \"#46039f\"], [0.2222222222222222, \"#7201a8\"], [0.3333333333333333, \"#9c179e\"], [0.4444444444444444, \"#bd3786\"], [0.5555555555555556, \"#d8576b\"], [0.6666666666666666, \"#ed7953\"], [0.7777777777777778, \"#fb9f3a\"], [0.8888888888888888, \"#fdca26\"], [1.0, \"#f0f921\"]], \"type\": \"histogram2d\"}], \"histogram2dcontour\": [{\"colorbar\": {\"outlinewidth\": 0, \"ticks\": \"\"}, \"colorscale\": [[0.0, \"#0d0887\"], [0.1111111111111111, \"#46039f\"], [0.2222222222222222, \"#7201a8\"], [0.3333333333333333, \"#9c179e\"], [0.4444444444444444, \"#bd3786\"], [0.5555555555555556, \"#d8576b\"], [0.6666666666666666, \"#ed7953\"], [0.7777777777777778, \"#fb9f3a\"], [0.8888888888888888, \"#fdca26\"], [1.0, \"#f0f921\"]], \"type\": \"histogram2dcontour\"}], \"mesh3d\": [{\"colorbar\": {\"outlinewidth\": 0, \"ticks\": \"\"}, \"type\": \"mesh3d\"}], \"parcoords\": [{\"line\": {\"colorbar\": {\"outlinewidth\": 0, \"ticks\": \"\"}}, \"type\": \"parcoords\"}], \"pie\": [{\"automargin\": true, \"type\": \"pie\"}], \"scatter\": [{\"marker\": {\"colorbar\": {\"outlinewidth\": 0, \"ticks\": \"\"}}, \"type\": \"scatter\"}], \"scatter3d\": [{\"line\": {\"colorbar\": {\"outlinewidth\": 0, \"ticks\": \"\"}}, \"marker\": {\"colorbar\": {\"outlinewidth\": 0, \"ticks\": \"\"}}, \"type\": \"scatter3d\"}], \"scattercarpet\": [{\"marker\": {\"colorbar\": {\"outlinewidth\": 0, \"ticks\": \"\"}}, \"type\": \"scattercarpet\"}], \"scattergeo\": [{\"marker\": {\"colorbar\": {\"outlinewidth\": 0, \"ticks\": \"\"}}, \"type\": \"scattergeo\"}], \"scattergl\": [{\"marker\": {\"colorbar\": {\"outlinewidth\": 0, \"ticks\": \"\"}}, \"type\": \"scattergl\"}], \"scattermapbox\": [{\"marker\": {\"colorbar\": {\"outlinewidth\": 0, \"ticks\": \"\"}}, \"type\": \"scattermapbox\"}], \"scatterpolar\": [{\"marker\": {\"colorbar\": {\"outlinewidth\": 0, \"ticks\": \"\"}}, \"type\": \"scatterpolar\"}], \"scatterpolargl\": [{\"marker\": {\"colorbar\": {\"outlinewidth\": 0, \"ticks\": \"\"}}, \"type\": \"scatterpolargl\"}], \"scatterternary\": [{\"marker\": {\"colorbar\": {\"outlinewidth\": 0, \"ticks\": \"\"}}, \"type\": \"scatterternary\"}], \"surface\": [{\"colorbar\": {\"outlinewidth\": 0, \"ticks\": \"\"}, \"colorscale\": [[0.0, \"#0d0887\"], [0.1111111111111111, \"#46039f\"], [0.2222222222222222, \"#7201a8\"], [0.3333333333333333, \"#9c179e\"], [0.4444444444444444, \"#bd3786\"], [0.5555555555555556, \"#d8576b\"], [0.6666666666666666, \"#ed7953\"], [0.7777777777777778, \"#fb9f3a\"], [0.8888888888888888, \"#fdca26\"], [1.0, \"#f0f921\"]], \"type\": \"surface\"}], \"table\": [{\"cells\": {\"fill\": {\"color\": \"#EBF0F8\"}, \"line\": {\"color\": \"white\"}}, \"header\": {\"fill\": {\"color\": \"#C8D4E3\"}, \"line\": {\"color\": \"white\"}}, \"type\": \"table\"}]}, \"layout\": {\"annotationdefaults\": {\"arrowcolor\": \"#2a3f5f\", \"arrowhead\": 0, \"arrowwidth\": 1}, \"coloraxis\": {\"colorbar\": {\"outlinewidth\": 0, \"ticks\": \"\"}}, \"colorscale\": {\"diverging\": [[0, \"#8e0152\"], [0.1, \"#c51b7d\"], [0.2, \"#de77ae\"], [0.3, \"#f1b6da\"], [0.4, \"#fde0ef\"], [0.5, \"#f7f7f7\"], [0.6, \"#e6f5d0\"], [0.7, \"#b8e186\"], [0.8, \"#7fbc41\"], [0.9, \"#4d9221\"], [1, \"#276419\"]], \"sequential\": [[0.0, \"#0d0887\"], [0.1111111111111111, \"#46039f\"], [0.2222222222222222, \"#7201a8\"], [0.3333333333333333, \"#9c179e\"], [0.4444444444444444, \"#bd3786\"], [0.5555555555555556, \"#d8576b\"], [0.6666666666666666, \"#ed7953\"], [0.7777777777777778, \"#fb9f3a\"], [0.8888888888888888, \"#fdca26\"], [1.0, \"#f0f921\"]], \"sequentialminus\": [[0.0, \"#0d0887\"], [0.1111111111111111, \"#46039f\"], [0.2222222222222222, \"#7201a8\"], [0.3333333333333333, \"#9c179e\"], [0.4444444444444444, \"#bd3786\"], [0.5555555555555556, \"#d8576b\"], [0.6666666666666666, \"#ed7953\"], [0.7777777777777778, \"#fb9f3a\"], [0.8888888888888888, \"#fdca26\"], [1.0, \"#f0f921\"]]}, \"colorway\": [\"#636efa\", \"#EF553B\", \"#00cc96\", \"#ab63fa\", \"#FFA15A\", \"#19d3f3\", \"#FF6692\", \"#B6E880\", \"#FF97FF\", \"#FECB52\"], \"font\": {\"color\": \"#2a3f5f\"}, \"geo\": {\"bgcolor\": \"white\", \"lakecolor\": \"white\", \"landcolor\": \"white\", \"showlakes\": true, \"showland\": true, \"subunitcolor\": \"#C8D4E3\"}, \"hoverlabel\": {\"align\": \"left\"}, \"hovermode\": \"closest\", \"mapbox\": {\"style\": \"light\"}, \"paper_bgcolor\": \"white\", \"plot_bgcolor\": \"white\", \"polar\": {\"angularaxis\": {\"gridcolor\": \"#EBF0F8\", \"linecolor\": \"#EBF0F8\", \"ticks\": \"\"}, \"bgcolor\": \"white\", \"radialaxis\": {\"gridcolor\": \"#EBF0F8\", \"linecolor\": \"#EBF0F8\", \"ticks\": \"\"}}, \"scene\": {\"xaxis\": {\"backgroundcolor\": \"white\", \"gridcolor\": \"#DFE8F3\", \"gridwidth\": 2, \"linecolor\": \"#EBF0F8\", \"showbackground\": true, \"ticks\": \"\", \"zerolinecolor\": \"#EBF0F8\"}, \"yaxis\": {\"backgroundcolor\": \"white\", \"gridcolor\": \"#DFE8F3\", \"gridwidth\": 2, \"linecolor\": \"#EBF0F8\", \"showbackground\": true, \"ticks\": \"\", \"zerolinecolor\": \"#EBF0F8\"}, \"zaxis\": {\"backgroundcolor\": \"white\", \"gridcolor\": \"#DFE8F3\", \"gridwidth\": 2, \"linecolor\": \"#EBF0F8\", \"showbackground\": true, \"ticks\": \"\", \"zerolinecolor\": \"#EBF0F8\"}}, \"shapedefaults\": {\"line\": {\"color\": \"#2a3f5f\"}}, \"ternary\": {\"aaxis\": {\"gridcolor\": \"#DFE8F3\", \"linecolor\": \"#A2B1C6\", \"ticks\": \"\"}, \"baxis\": {\"gridcolor\": \"#DFE8F3\", \"linecolor\": \"#A2B1C6\", \"ticks\": \"\"}, \"bgcolor\": \"white\", \"caxis\": {\"gridcolor\": \"#DFE8F3\", \"linecolor\": \"#A2B1C6\", \"ticks\": \"\"}}, \"title\": {\"x\": 0.05}, \"xaxis\": {\"automargin\": true, \"gridcolor\": \"#EBF0F8\", \"linecolor\": \"#EBF0F8\", \"ticks\": \"\", \"title\": {\"standoff\": 15}, \"zerolinecolor\": \"#EBF0F8\", \"zerolinewidth\": 2}, \"yaxis\": {\"automargin\": true, \"gridcolor\": \"#EBF0F8\", \"linecolor\": \"#EBF0F8\", \"ticks\": \"\", \"title\": {\"standoff\": 15}, \"zerolinecolor\": \"#EBF0F8\", \"zerolinewidth\": 2}}}, \"title\": {\"text\": \"\"}, \"xaxis\": {\"anchor\": \"y\", \"domain\": [0.0, 1.0], \"title\": {\"text\": \"Date\"}}, \"yaxis\": {\"anchor\": \"x\", \"domain\": [0.0, 1.0], \"title\": {\"text\": \"CLAWS Task: Counter-hate Probability\"}}},                        {\"responsive\": true}                    ).then(function(){\n",
       "                            \n",
       "var gd = document.getElementById('ffffa40e-c781-4ca2-ae46-e987b02cca0c');\n",
       "var x = new MutationObserver(function (mutations, observer) {{\n",
       "        var display = window.getComputedStyle(gd).display;\n",
       "        if (!display || display === 'none') {{\n",
       "            console.log([gd, 'removed!']);\n",
       "            Plotly.purge(gd);\n",
       "            observer.disconnect();\n",
       "        }}\n",
       "}});\n",
       "\n",
       "// Listen for the removal of the full notebook cells\n",
       "var notebookContainer = gd.closest('#notebook-container');\n",
       "if (notebookContainer) {{\n",
       "    x.observe(notebookContainer, {childList: true});\n",
       "}}\n",
       "\n",
       "// Listen for the clearing of the current output cell\n",
       "var outputEl = gd.closest('.output');\n",
       "if (outputEl) {{\n",
       "    x.observe(outputEl, {childList: true});\n",
       "}}\n",
       "\n",
       "                        })                };                });            </script>        </div>"
      ]
     },
     "metadata": {},
     "output_type": "display_data"
    }
   ],
   "source": [
    "tmp_df = tmp_dfs['per_state_mean'].copy()\n",
    "tmp_df = tmp_df[tmp_df.state.isin(['CA', 'NY'])]\n",
    "event = important_events[5]\n",
    "fig = get_go_figure(\n",
    "    tmp_df=tmp_df, \n",
    "    events=[event],\n",
    "    half_window_days=30,\n",
    "    y='counterhate_prob', \n",
    "    title='', \n",
    "    resolution='state',\n",
    "    mode='markers+lines', \n",
    "    line= (dict(dash='dash'), dict())\n",
    ")\n",
    "fig.layout.font.size=15\n",
    "fig.show()"
   ]
  },
  {
   "cell_type": "code",
   "execution_count": 30,
   "metadata": {},
   "outputs": [],
   "source": [
    "fig.write_image('trajectories/ca_ny_more_counterhate_as_blm_begins.pdf', width=1000, height=500)"
   ]
  },
  {
   "cell_type": "markdown",
   "metadata": {},
   "source": [
    "## Potential COVID-19 Acquisition Reports through Time"
   ]
  },
  {
   "cell_type": "code",
   "execution_count": 37,
   "metadata": {},
   "outputs": [
    {
     "data": {
      "application/vnd.plotly.v1+json": {
       "config": {
        "plotlyServerURL": "https://plot.ly"
       },
       "data": [
        {
         "hovertemplate": "state=CA<br>date=%{x}<br><covid_report>_count=%{y}<extra></extra>",
         "legendgroup": "CA",
         "line": {
          "dash": "dash"
         },
         "marker": {
          "color": "#636efa",
          "symbol": "circle"
         },
         "mode": "markers+lines",
         "name": "CA",
         "orientation": "v",
         "showlegend": true,
         "type": "scatter",
         "x": [
          "2020-01-09",
          "2020-01-10",
          "2020-01-11",
          "2020-01-12",
          "2020-01-13",
          "2020-01-14",
          "2020-01-15",
          "2020-01-16",
          "2020-01-17",
          "2020-01-18",
          "2020-01-19",
          "2020-01-25",
          "2020-01-26",
          "2020-01-27",
          "2020-01-28",
          "2020-01-29",
          "2020-01-30",
          "2020-01-31",
          "2020-02-01",
          "2020-02-02",
          "2020-02-03",
          "2020-02-04",
          "2020-02-05",
          "2020-02-06",
          "2020-02-07",
          "2020-02-08",
          "2020-02-09",
          "2020-02-10",
          "2020-02-11",
          "2020-02-12",
          "2020-02-13",
          "2020-02-14",
          "2020-02-15",
          "2020-02-16",
          "2020-02-17",
          "2020-02-18",
          "2020-02-19",
          "2020-02-20",
          "2020-02-21",
          "2020-02-22",
          "2020-02-23",
          "2020-02-24",
          "2020-02-25",
          "2020-02-26",
          "2020-02-27",
          "2020-02-28",
          "2020-02-29",
          "2020-03-01",
          "2020-03-02",
          "2020-03-03",
          "2020-03-04",
          "2020-03-05",
          "2020-03-06",
          "2020-03-07",
          "2020-03-08",
          "2020-03-09"
         ],
         "xaxis": "x",
         "y": [
          1,
          1,
          0,
          0,
          0,
          0,
          0,
          0,
          0,
          0,
          0,
          1,
          14,
          11,
          26,
          26,
          21,
          20,
          11,
          14,
          12,
          3,
          12,
          6,
          6,
          4,
          6,
          8,
          6,
          3,
          6,
          6,
          4,
          6,
          9,
          8,
          7,
          7,
          14,
          11,
          5,
          12,
          24,
          37,
          61,
          81,
          77,
          45,
          55,
          63,
          89,
          116,
          168,
          148,
          89,
          158
         ],
         "yaxis": "y"
        },
        {
         "hovertemplate": "state=NY<br>date=%{x}<br><covid_report>_count=%{y}<extra></extra>",
         "legendgroup": "NY",
         "line": {
          "dash": "dash"
         },
         "marker": {
          "color": "#EF553B",
          "symbol": "circle"
         },
         "mode": "markers+lines",
         "name": "NY",
         "orientation": "v",
         "showlegend": true,
         "type": "scatter",
         "x": [
          "2020-01-09",
          "2020-01-10",
          "2020-01-11",
          "2020-01-12",
          "2020-01-13",
          "2020-01-14",
          "2020-01-15",
          "2020-01-16",
          "2020-01-17",
          "2020-01-18",
          "2020-01-19",
          "2020-01-25",
          "2020-01-26",
          "2020-01-27",
          "2020-01-28",
          "2020-01-29",
          "2020-01-30",
          "2020-01-31",
          "2020-02-01",
          "2020-02-02",
          "2020-02-03",
          "2020-02-04",
          "2020-02-05",
          "2020-02-06",
          "2020-02-07",
          "2020-02-08",
          "2020-02-09",
          "2020-02-10",
          "2020-02-11",
          "2020-02-12",
          "2020-02-13",
          "2020-02-14",
          "2020-02-15",
          "2020-02-16",
          "2020-02-17",
          "2020-02-18",
          "2020-02-19",
          "2020-02-20",
          "2020-02-21",
          "2020-02-22",
          "2020-02-23",
          "2020-02-24",
          "2020-02-25",
          "2020-02-26",
          "2020-02-27",
          "2020-02-28",
          "2020-02-29",
          "2020-03-01",
          "2020-03-02",
          "2020-03-03",
          "2020-03-04",
          "2020-03-05",
          "2020-03-06",
          "2020-03-07",
          "2020-03-08",
          "2020-03-09"
         ],
         "xaxis": "x",
         "y": [
          0,
          0,
          0,
          0,
          0,
          1,
          0,
          0,
          0,
          0,
          0,
          0,
          5,
          5,
          8,
          8,
          16,
          8,
          7,
          4,
          8,
          6,
          4,
          6,
          2,
          4,
          2,
          4,
          5,
          2,
          4,
          2,
          2,
          2,
          4,
          0,
          4,
          2,
          3,
          3,
          1,
          5,
          13,
          18,
          35,
          35,
          42,
          35,
          46,
          46,
          50,
          67,
          69,
          60,
          29,
          94
         ],
         "yaxis": "y"
        },
        {
         "hovertemplate": "state=WA<br>date=%{x}<br><covid_report>_count=%{y}<extra></extra>",
         "legendgroup": "WA",
         "line": {
          "dash": "dash"
         },
         "marker": {
          "color": "#00cc96",
          "symbol": "circle"
         },
         "mode": "markers+lines",
         "name": "WA",
         "orientation": "v",
         "showlegend": true,
         "type": "scatter",
         "x": [
          "2020-01-09",
          "2020-01-10",
          "2020-01-11",
          "2020-01-12",
          "2020-01-13",
          "2020-01-14",
          "2020-01-15",
          "2020-01-16",
          "2020-01-17",
          "2020-01-19",
          "2020-01-25",
          "2020-01-26",
          "2020-01-27",
          "2020-01-28",
          "2020-01-29",
          "2020-01-30",
          "2020-01-31",
          "2020-02-01",
          "2020-02-02",
          "2020-02-03",
          "2020-02-04",
          "2020-02-05",
          "2020-02-06",
          "2020-02-07",
          "2020-02-08",
          "2020-02-09",
          "2020-02-10",
          "2020-02-11",
          "2020-02-12",
          "2020-02-13",
          "2020-02-14",
          "2020-02-15",
          "2020-02-16",
          "2020-02-17",
          "2020-02-18",
          "2020-02-19",
          "2020-02-20",
          "2020-02-21",
          "2020-02-22",
          "2020-02-23",
          "2020-02-24",
          "2020-02-25",
          "2020-02-26",
          "2020-02-27",
          "2020-02-28",
          "2020-02-29",
          "2020-03-01",
          "2020-03-02",
          "2020-03-03",
          "2020-03-04",
          "2020-03-05",
          "2020-03-06",
          "2020-03-07",
          "2020-03-08",
          "2020-03-09"
         ],
         "xaxis": "x",
         "y": [
          0,
          0,
          0,
          0,
          0,
          0,
          0,
          0,
          0,
          0,
          0,
          0,
          4,
          1,
          2,
          4,
          1,
          2,
          0,
          2,
          2,
          2,
          0,
          1,
          2,
          1,
          0,
          1,
          0,
          2,
          3,
          0,
          1,
          2,
          1,
          0,
          0,
          1,
          1,
          2,
          3,
          3,
          6,
          14,
          8,
          37,
          25,
          34,
          30,
          31,
          28,
          29,
          26,
          26,
          28
         ],
         "yaxis": "y"
        },
        {
         "marker": {
          "color": "#636efa",
          "size": 6,
          "symbol": "triangle-up"
         },
         "mode": "markers+lines",
         "name": "CA_smooth",
         "type": "scatter",
         "x": [
          "2020-01-09",
          "2020-01-10",
          "2020-01-11",
          "2020-01-12",
          "2020-01-13",
          "2020-01-14",
          "2020-01-15",
          "2020-01-16",
          "2020-01-17",
          "2020-01-18",
          "2020-01-19",
          "2020-01-25",
          "2020-01-26",
          "2020-01-27",
          "2020-01-28",
          "2020-01-29",
          "2020-01-30",
          "2020-01-31",
          "2020-02-01",
          "2020-02-02",
          "2020-02-03",
          "2020-02-04",
          "2020-02-05",
          "2020-02-06",
          "2020-02-07",
          "2020-02-08",
          "2020-02-09",
          "2020-02-10",
          "2020-02-11",
          "2020-02-12",
          "2020-02-13",
          "2020-02-14",
          "2020-02-15",
          "2020-02-16",
          "2020-02-17",
          "2020-02-18",
          "2020-02-19",
          "2020-02-20",
          "2020-02-21",
          "2020-02-22",
          "2020-02-23",
          "2020-02-24",
          "2020-02-25",
          "2020-02-26",
          "2020-02-27",
          "2020-02-28",
          "2020-02-29",
          "2020-03-01",
          "2020-03-02",
          "2020-03-03",
          "2020-03-04",
          "2020-03-05",
          "2020-03-06",
          "2020-03-07",
          "2020-03-08",
          "2020-03-09"
         ],
         "y": [
          -0.18921568627446475,
          1.0481792717087046,
          1.4247145011850937,
          1.1737987502693321,
          0.5288407670760495,
          -0.2767507002801244,
          -1.0095669036845614,
          -1.4361990950226369,
          -0.5809954751131301,
          1.7447963800905038,
          4.6000000000000245,
          8.371040723981949,
          11.500452488687849,
          14.418099547511396,
          17.3737556561087,
          18.458823529411873,
          19.234389140271606,
          18.815384615384726,
          17.28868778280553,
          14.33846153846162,
          11.784615384615451,
          8.76651583710412,
          7.552941176470629,
          6.6660633484163245,
          6.009954751131254,
          6.076018099547545,
          5.415384615384645,
          5.18914027149324,
          5.439819004524916,
          5.030769230769258,
          5.668778280543018,
          5.438914027149351,
          5.873303167420847,
          6.657918552036236,
          6.8769230769231156,
          6.733936651583747,
          6.409954751131254,
          5.45610859728509,
          5.885972850678756,
          9.86063348416294,
          18.165610859728602,
          25.711312217194713,
          33.14841628959295,
          38.91040723981922,
          43.89049773755681,
          47.24072398190071,
          57.08506787330347,
          72.69683257918594,
          79.71131221719502,
          88.3234647705236,
          97.23528334410688,
          106.55121741004095,
          116.37571644042234,
          126.81322990734756,
          137.96820728291323,
          149.94509803921582
         ]
        },
        {
         "marker": {
          "color": "#EF553B",
          "size": 6,
          "symbol": "triangle-up"
         },
         "mode": "markers+lines",
         "name": "NY_smooth",
         "type": "scatter",
         "x": [
          "2020-01-09",
          "2020-01-10",
          "2020-01-11",
          "2020-01-12",
          "2020-01-13",
          "2020-01-14",
          "2020-01-15",
          "2020-01-16",
          "2020-01-17",
          "2020-01-18",
          "2020-01-19",
          "2020-01-25",
          "2020-01-26",
          "2020-01-27",
          "2020-01-28",
          "2020-01-29",
          "2020-01-30",
          "2020-01-31",
          "2020-02-01",
          "2020-02-02",
          "2020-02-03",
          "2020-02-04",
          "2020-02-05",
          "2020-02-06",
          "2020-02-07",
          "2020-02-08",
          "2020-02-09",
          "2020-02-10",
          "2020-02-11",
          "2020-02-12",
          "2020-02-13",
          "2020-02-14",
          "2020-02-15",
          "2020-02-16",
          "2020-02-17",
          "2020-02-18",
          "2020-02-19",
          "2020-02-20",
          "2020-02-21",
          "2020-02-22",
          "2020-02-23",
          "2020-02-24",
          "2020-02-25",
          "2020-02-26",
          "2020-02-27",
          "2020-02-28",
          "2020-02-29",
          "2020-03-01",
          "2020-03-02",
          "2020-03-03",
          "2020-03-04",
          "2020-03-05",
          "2020-03-06",
          "2020-03-07",
          "2020-03-08",
          "2020-03-09"
         ],
         "y": [
          -0.43758169934639135,
          0.16816059757236757,
          0.4387919270272206,
          0.4581483875601484,
          0.3100660777131313,
          0.0783810960281508,
          -0.15307045895281346,
          -0.3004524886877859,
          0.03529411764705764,
          0.10497737556560921,
          1.4361990950226313,
          2.919457013574677,
          4.564705882352968,
          5.776470588235328,
          6.9773755656109,
          8.047963800905025,
          8.533936651583762,
          8.940271493212723,
          8.553846153846203,
          7.756561085972896,
          6.804524886877866,
          5.560180995475144,
          4.789140271493239,
          3.7773755656108796,
          4.086877828054321,
          3.895022624434411,
          3.6823529411764913,
          3.0081447963801065,
          3.197285067873321,
          2.9266968325792018,
          2.7737556561086123,
          2.8271493212669845,
          2.5574660633484303,
          2.656108597285083,
          2.172850678733043,
          1.487782805429871,
          1.2714932126696876,
          0.41266968325791553,
          1.4552036199095044,
          3.206334841628971,
          6.908597285067907,
          10.517647058823583,
          15.435294117647143,
          20.304072398190158,
          24.8615384615386,
          30.19095022624451,
          36.87782805429885,
          45.2778280542989,
          45.99819004524913,
          48.56735617323853,
          51.08768225238815,
          53.83870573870577,
          57.09996408819943,
          61.15099475687717,
          66.27133520074706,
          72.74052287581712
         ]
        },
        {
         "marker": {
          "color": "#00cc96",
          "size": 6,
          "symbol": "triangle-up"
         },
         "mode": "markers+lines",
         "name": "WA_smooth",
         "type": "scatter",
         "x": [
          "2020-01-09",
          "2020-01-10",
          "2020-01-11",
          "2020-01-12",
          "2020-01-13",
          "2020-01-14",
          "2020-01-15",
          "2020-01-16",
          "2020-01-17",
          "2020-01-19",
          "2020-01-25",
          "2020-01-26",
          "2020-01-27",
          "2020-01-28",
          "2020-01-29",
          "2020-01-30",
          "2020-01-31",
          "2020-02-01",
          "2020-02-02",
          "2020-02-03",
          "2020-02-04",
          "2020-02-05",
          "2020-02-06",
          "2020-02-07",
          "2020-02-08",
          "2020-02-09",
          "2020-02-10",
          "2020-02-11",
          "2020-02-12",
          "2020-02-13",
          "2020-02-14",
          "2020-02-15",
          "2020-02-16",
          "2020-02-17",
          "2020-02-18",
          "2020-02-19",
          "2020-02-20",
          "2020-02-21",
          "2020-02-22",
          "2020-02-23",
          "2020-02-24",
          "2020-02-25",
          "2020-02-26",
          "2020-02-27",
          "2020-02-28",
          "2020-02-29",
          "2020-03-01",
          "2020-03-02",
          "2020-03-03",
          "2020-03-04",
          "2020-03-05",
          "2020-03-06",
          "2020-03-07",
          "2020-03-08",
          "2020-03-09"
         ],
         "y": [
          0.1006535947712423,
          0.025723622782446665,
          -0.040587517058105066,
          -0.09136680313150886,
          -0.11970121381886081,
          -0.11867772750125691,
          -0.08138332255979314,
          -0.0009049773755659685,
          0.047058823529411486,
          0.47873303167421066,
          0.7990950226244389,
          1.2696832579185595,
          1.4723981900452574,
          1.6660633484162992,
          1.8325791855203726,
          2.0950226244344012,
          2.105882352941189,
          1.9239819004524998,
          1.7402714932126797,
          1.4778280542986506,
          1.4814479638009133,
          1.2895927601810029,
          0.981900452488693,
          0.9710407239819056,
          1.0597285067873363,
          1.121266968325798,
          0.885067873303172,
          0.9601809954751184,
          1.1466063348416355,
          1.3239819004524966,
          1.1628959276018165,
          1.0723981900452548,
          1.0497737556561146,
          0.953846153846159,
          0.8371040723981944,
          0.669683257918555,
          0.047963800904975484,
          0.723981900452491,
          -0.23710407239819636,
          1.2334841628959299,
          2.9628959276018216,
          6.248868778280575,
          10.004524886877881,
          14.240723981900533,
          18.288687782805535,
          22.37466063348429,
          25.786425339366666,
          28.29502262443456,
          29.867905623787987,
          30.744871794871813,
          30.918756733462644,
          30.382396035337237,
          29.128625296272375,
          27.15028011204483,
          24.440196078431377
         ]
        },
        {
         "marker": {
          "color": "black",
          "size": 16,
          "symbol": "x"
         },
         "mode": "lines",
         "name": "First American Death due to COVID-19",
         "showlegend": false,
         "type": "scatter",
         "x": [
          "2020-02-08",
          "2020-02-08",
          "2020-02-08",
          "2020-02-08",
          "2020-02-08",
          "2020-02-08",
          "2020-02-08",
          "2020-02-08",
          "2020-02-08",
          "2020-02-08",
          "2020-02-08",
          "2020-02-08",
          "2020-02-08",
          "2020-02-08",
          "2020-02-08",
          "2020-02-08",
          "2020-02-08",
          "2020-02-08",
          "2020-02-08",
          "2020-02-08",
          "2020-02-08",
          "2020-02-08",
          "2020-02-08",
          "2020-02-08",
          "2020-02-08",
          "2020-02-08",
          "2020-02-08",
          "2020-02-08",
          "2020-02-08",
          "2020-02-08",
          "2020-02-08",
          "2020-02-08",
          "2020-02-08",
          "2020-02-08",
          "2020-02-08",
          "2020-02-08",
          "2020-02-08",
          "2020-02-08",
          "2020-02-08",
          "2020-02-08",
          "2020-02-08",
          "2020-02-08",
          "2020-02-08",
          "2020-02-08",
          "2020-02-08",
          "2020-02-08",
          "2020-02-08",
          "2020-02-08",
          "2020-02-08",
          "2020-02-08"
         ],
         "y": [
          -21.676584997850455,
          -17.363254997938192,
          -13.049924998025928,
          -8.736594998113663,
          -4.4232649982014,
          -0.10993499828913755,
          4.203395001623129,
          8.516725001535391,
          12.830055001447654,
          17.143385001359917,
          21.45671500127218,
          25.770045001184442,
          30.083375001096712,
          34.396705001008975,
          38.71003500092124,
          43.02336500083349,
          47.33669500074576,
          51.65002500065803,
          55.96335500057029,
          60.27668500048256,
          64.59001500039481,
          68.90334500030708,
          73.21667500021934,
          77.53000500013161,
          81.84333500004388,
          86.15666499995613,
          90.4699949998684,
          94.78332499978066,
          99.09665499969293,
          103.40998499960519,
          107.72331499951744,
          112.03664499942971,
          116.34997499934198,
          120.66330499925425,
          124.97663499916652,
          129.28996499907876,
          133.60329499899103,
          137.9166249989033,
          142.22995499881557,
          146.5432849987278,
          150.85661499864008,
          155.16994499855235,
          159.48327499846462,
          163.7966049983769,
          168.10993499828913,
          172.4232649982014,
          176.73659499811367,
          181.04992499802594,
          185.3632549979382,
          189.67658499785045
         ]
        },
        {
         "marker": {
          "color": "black",
          "size": 16,
          "symbol": "x"
         },
         "mode": "lines",
         "name": "Announcing First COVID-19 Case",
         "showlegend": false,
         "type": "scatter",
         "x": [
          "2020-01-21",
          "2020-01-21",
          "2020-01-21",
          "2020-01-21",
          "2020-01-21",
          "2020-01-21",
          "2020-01-21",
          "2020-01-21",
          "2020-01-21",
          "2020-01-21",
          "2020-01-21",
          "2020-01-21",
          "2020-01-21",
          "2020-01-21",
          "2020-01-21",
          "2020-01-21",
          "2020-01-21",
          "2020-01-21",
          "2020-01-21",
          "2020-01-21",
          "2020-01-21",
          "2020-01-21",
          "2020-01-21",
          "2020-01-21",
          "2020-01-21",
          "2020-01-21",
          "2020-01-21",
          "2020-01-21",
          "2020-01-21",
          "2020-01-21",
          "2020-01-21",
          "2020-01-21",
          "2020-01-21",
          "2020-01-21",
          "2020-01-21",
          "2020-01-21",
          "2020-01-21",
          "2020-01-21",
          "2020-01-21",
          "2020-01-21",
          "2020-01-21",
          "2020-01-21",
          "2020-01-21",
          "2020-01-21",
          "2020-01-21",
          "2020-01-21",
          "2020-01-21",
          "2020-01-21",
          "2020-01-21",
          "2020-01-21"
         ],
         "y": [
          -21.676584997850455,
          -17.363254997938192,
          -13.049924998025928,
          -8.736594998113663,
          -4.4232649982014,
          -0.10993499828913755,
          4.203395001623129,
          8.516725001535391,
          12.830055001447654,
          17.143385001359917,
          21.45671500127218,
          25.770045001184442,
          30.083375001096712,
          34.396705001008975,
          38.71003500092124,
          43.02336500083349,
          47.33669500074576,
          51.65002500065803,
          55.96335500057029,
          60.27668500048256,
          64.59001500039481,
          68.90334500030708,
          73.21667500021934,
          77.53000500013161,
          81.84333500004388,
          86.15666499995613,
          90.4699949998684,
          94.78332499978066,
          99.09665499969293,
          103.40998499960519,
          107.72331499951744,
          112.03664499942971,
          116.34997499934198,
          120.66330499925425,
          124.97663499916652,
          129.28996499907876,
          133.60329499899103,
          137.9166249989033,
          142.22995499881557,
          146.5432849987278,
          150.85661499864008,
          155.16994499855235,
          159.48327499846462,
          163.7966049983769,
          168.10993499828913,
          172.4232649982014,
          176.73659499811367,
          181.04992499802594,
          185.3632549979382,
          189.67658499785045
         ]
        }
       ],
       "layout": {
        "annotations": [
         {
          "arrowhead": 1,
          "showarrow": true,
          "text": "First American Death due to COVID-19",
          "x": "2020-02-08",
          "y": 179.56084533218691
         },
         {
          "arrowhead": 1,
          "showarrow": true,
          "text": "Announcing First COVID-19 Case",
          "x": "2020-01-21",
          "y": 179.56084533218691
         }
        ],
        "autosize": true,
        "font": {
         "size": 15
        },
        "legend": {
         "title": {
          "text": "state"
         },
         "tracegroupgap": 0
        },
        "margin": {
         "t": 60
        },
        "template": {
         "data": {
          "bar": [
           {
            "error_x": {
             "color": "#2a3f5f"
            },
            "error_y": {
             "color": "#2a3f5f"
            },
            "marker": {
             "line": {
              "color": "white",
              "width": 0.5
             }
            },
            "type": "bar"
           }
          ],
          "barpolar": [
           {
            "marker": {
             "line": {
              "color": "white",
              "width": 0.5
             }
            },
            "type": "barpolar"
           }
          ],
          "carpet": [
           {
            "aaxis": {
             "endlinecolor": "#2a3f5f",
             "gridcolor": "#C8D4E3",
             "linecolor": "#C8D4E3",
             "minorgridcolor": "#C8D4E3",
             "startlinecolor": "#2a3f5f"
            },
            "baxis": {
             "endlinecolor": "#2a3f5f",
             "gridcolor": "#C8D4E3",
             "linecolor": "#C8D4E3",
             "minorgridcolor": "#C8D4E3",
             "startlinecolor": "#2a3f5f"
            },
            "type": "carpet"
           }
          ],
          "choropleth": [
           {
            "colorbar": {
             "outlinewidth": 0,
             "ticks": ""
            },
            "type": "choropleth"
           }
          ],
          "contour": [
           {
            "colorbar": {
             "outlinewidth": 0,
             "ticks": ""
            },
            "colorscale": [
             [
              0,
              "#0d0887"
             ],
             [
              0.1111111111111111,
              "#46039f"
             ],
             [
              0.2222222222222222,
              "#7201a8"
             ],
             [
              0.3333333333333333,
              "#9c179e"
             ],
             [
              0.4444444444444444,
              "#bd3786"
             ],
             [
              0.5555555555555556,
              "#d8576b"
             ],
             [
              0.6666666666666666,
              "#ed7953"
             ],
             [
              0.7777777777777778,
              "#fb9f3a"
             ],
             [
              0.8888888888888888,
              "#fdca26"
             ],
             [
              1,
              "#f0f921"
             ]
            ],
            "type": "contour"
           }
          ],
          "contourcarpet": [
           {
            "colorbar": {
             "outlinewidth": 0,
             "ticks": ""
            },
            "type": "contourcarpet"
           }
          ],
          "heatmap": [
           {
            "colorbar": {
             "outlinewidth": 0,
             "ticks": ""
            },
            "colorscale": [
             [
              0,
              "#0d0887"
             ],
             [
              0.1111111111111111,
              "#46039f"
             ],
             [
              0.2222222222222222,
              "#7201a8"
             ],
             [
              0.3333333333333333,
              "#9c179e"
             ],
             [
              0.4444444444444444,
              "#bd3786"
             ],
             [
              0.5555555555555556,
              "#d8576b"
             ],
             [
              0.6666666666666666,
              "#ed7953"
             ],
             [
              0.7777777777777778,
              "#fb9f3a"
             ],
             [
              0.8888888888888888,
              "#fdca26"
             ],
             [
              1,
              "#f0f921"
             ]
            ],
            "type": "heatmap"
           }
          ],
          "heatmapgl": [
           {
            "colorbar": {
             "outlinewidth": 0,
             "ticks": ""
            },
            "colorscale": [
             [
              0,
              "#0d0887"
             ],
             [
              0.1111111111111111,
              "#46039f"
             ],
             [
              0.2222222222222222,
              "#7201a8"
             ],
             [
              0.3333333333333333,
              "#9c179e"
             ],
             [
              0.4444444444444444,
              "#bd3786"
             ],
             [
              0.5555555555555556,
              "#d8576b"
             ],
             [
              0.6666666666666666,
              "#ed7953"
             ],
             [
              0.7777777777777778,
              "#fb9f3a"
             ],
             [
              0.8888888888888888,
              "#fdca26"
             ],
             [
              1,
              "#f0f921"
             ]
            ],
            "type": "heatmapgl"
           }
          ],
          "histogram": [
           {
            "marker": {
             "colorbar": {
              "outlinewidth": 0,
              "ticks": ""
             }
            },
            "type": "histogram"
           }
          ],
          "histogram2d": [
           {
            "colorbar": {
             "outlinewidth": 0,
             "ticks": ""
            },
            "colorscale": [
             [
              0,
              "#0d0887"
             ],
             [
              0.1111111111111111,
              "#46039f"
             ],
             [
              0.2222222222222222,
              "#7201a8"
             ],
             [
              0.3333333333333333,
              "#9c179e"
             ],
             [
              0.4444444444444444,
              "#bd3786"
             ],
             [
              0.5555555555555556,
              "#d8576b"
             ],
             [
              0.6666666666666666,
              "#ed7953"
             ],
             [
              0.7777777777777778,
              "#fb9f3a"
             ],
             [
              0.8888888888888888,
              "#fdca26"
             ],
             [
              1,
              "#f0f921"
             ]
            ],
            "type": "histogram2d"
           }
          ],
          "histogram2dcontour": [
           {
            "colorbar": {
             "outlinewidth": 0,
             "ticks": ""
            },
            "colorscale": [
             [
              0,
              "#0d0887"
             ],
             [
              0.1111111111111111,
              "#46039f"
             ],
             [
              0.2222222222222222,
              "#7201a8"
             ],
             [
              0.3333333333333333,
              "#9c179e"
             ],
             [
              0.4444444444444444,
              "#bd3786"
             ],
             [
              0.5555555555555556,
              "#d8576b"
             ],
             [
              0.6666666666666666,
              "#ed7953"
             ],
             [
              0.7777777777777778,
              "#fb9f3a"
             ],
             [
              0.8888888888888888,
              "#fdca26"
             ],
             [
              1,
              "#f0f921"
             ]
            ],
            "type": "histogram2dcontour"
           }
          ],
          "mesh3d": [
           {
            "colorbar": {
             "outlinewidth": 0,
             "ticks": ""
            },
            "type": "mesh3d"
           }
          ],
          "parcoords": [
           {
            "line": {
             "colorbar": {
              "outlinewidth": 0,
              "ticks": ""
             }
            },
            "type": "parcoords"
           }
          ],
          "pie": [
           {
            "automargin": true,
            "type": "pie"
           }
          ],
          "scatter": [
           {
            "marker": {
             "colorbar": {
              "outlinewidth": 0,
              "ticks": ""
             }
            },
            "type": "scatter"
           }
          ],
          "scatter3d": [
           {
            "line": {
             "colorbar": {
              "outlinewidth": 0,
              "ticks": ""
             }
            },
            "marker": {
             "colorbar": {
              "outlinewidth": 0,
              "ticks": ""
             }
            },
            "type": "scatter3d"
           }
          ],
          "scattercarpet": [
           {
            "marker": {
             "colorbar": {
              "outlinewidth": 0,
              "ticks": ""
             }
            },
            "type": "scattercarpet"
           }
          ],
          "scattergeo": [
           {
            "marker": {
             "colorbar": {
              "outlinewidth": 0,
              "ticks": ""
             }
            },
            "type": "scattergeo"
           }
          ],
          "scattergl": [
           {
            "marker": {
             "colorbar": {
              "outlinewidth": 0,
              "ticks": ""
             }
            },
            "type": "scattergl"
           }
          ],
          "scattermapbox": [
           {
            "marker": {
             "colorbar": {
              "outlinewidth": 0,
              "ticks": ""
             }
            },
            "type": "scattermapbox"
           }
          ],
          "scatterpolar": [
           {
            "marker": {
             "colorbar": {
              "outlinewidth": 0,
              "ticks": ""
             }
            },
            "type": "scatterpolar"
           }
          ],
          "scatterpolargl": [
           {
            "marker": {
             "colorbar": {
              "outlinewidth": 0,
              "ticks": ""
             }
            },
            "type": "scatterpolargl"
           }
          ],
          "scatterternary": [
           {
            "marker": {
             "colorbar": {
              "outlinewidth": 0,
              "ticks": ""
             }
            },
            "type": "scatterternary"
           }
          ],
          "surface": [
           {
            "colorbar": {
             "outlinewidth": 0,
             "ticks": ""
            },
            "colorscale": [
             [
              0,
              "#0d0887"
             ],
             [
              0.1111111111111111,
              "#46039f"
             ],
             [
              0.2222222222222222,
              "#7201a8"
             ],
             [
              0.3333333333333333,
              "#9c179e"
             ],
             [
              0.4444444444444444,
              "#bd3786"
             ],
             [
              0.5555555555555556,
              "#d8576b"
             ],
             [
              0.6666666666666666,
              "#ed7953"
             ],
             [
              0.7777777777777778,
              "#fb9f3a"
             ],
             [
              0.8888888888888888,
              "#fdca26"
             ],
             [
              1,
              "#f0f921"
             ]
            ],
            "type": "surface"
           }
          ],
          "table": [
           {
            "cells": {
             "fill": {
              "color": "#EBF0F8"
             },
             "line": {
              "color": "white"
             }
            },
            "header": {
             "fill": {
              "color": "#C8D4E3"
             },
             "line": {
              "color": "white"
             }
            },
            "type": "table"
           }
          ]
         },
         "layout": {
          "annotationdefaults": {
           "arrowcolor": "#2a3f5f",
           "arrowhead": 0,
           "arrowwidth": 1
          },
          "coloraxis": {
           "colorbar": {
            "outlinewidth": 0,
            "ticks": ""
           }
          },
          "colorscale": {
           "diverging": [
            [
             0,
             "#8e0152"
            ],
            [
             0.1,
             "#c51b7d"
            ],
            [
             0.2,
             "#de77ae"
            ],
            [
             0.3,
             "#f1b6da"
            ],
            [
             0.4,
             "#fde0ef"
            ],
            [
             0.5,
             "#f7f7f7"
            ],
            [
             0.6,
             "#e6f5d0"
            ],
            [
             0.7,
             "#b8e186"
            ],
            [
             0.8,
             "#7fbc41"
            ],
            [
             0.9,
             "#4d9221"
            ],
            [
             1,
             "#276419"
            ]
           ],
           "sequential": [
            [
             0,
             "#0d0887"
            ],
            [
             0.1111111111111111,
             "#46039f"
            ],
            [
             0.2222222222222222,
             "#7201a8"
            ],
            [
             0.3333333333333333,
             "#9c179e"
            ],
            [
             0.4444444444444444,
             "#bd3786"
            ],
            [
             0.5555555555555556,
             "#d8576b"
            ],
            [
             0.6666666666666666,
             "#ed7953"
            ],
            [
             0.7777777777777778,
             "#fb9f3a"
            ],
            [
             0.8888888888888888,
             "#fdca26"
            ],
            [
             1,
             "#f0f921"
            ]
           ],
           "sequentialminus": [
            [
             0,
             "#0d0887"
            ],
            [
             0.1111111111111111,
             "#46039f"
            ],
            [
             0.2222222222222222,
             "#7201a8"
            ],
            [
             0.3333333333333333,
             "#9c179e"
            ],
            [
             0.4444444444444444,
             "#bd3786"
            ],
            [
             0.5555555555555556,
             "#d8576b"
            ],
            [
             0.6666666666666666,
             "#ed7953"
            ],
            [
             0.7777777777777778,
             "#fb9f3a"
            ],
            [
             0.8888888888888888,
             "#fdca26"
            ],
            [
             1,
             "#f0f921"
            ]
           ]
          },
          "colorway": [
           "#636efa",
           "#EF553B",
           "#00cc96",
           "#ab63fa",
           "#FFA15A",
           "#19d3f3",
           "#FF6692",
           "#B6E880",
           "#FF97FF",
           "#FECB52"
          ],
          "font": {
           "color": "#2a3f5f"
          },
          "geo": {
           "bgcolor": "white",
           "lakecolor": "white",
           "landcolor": "white",
           "showlakes": true,
           "showland": true,
           "subunitcolor": "#C8D4E3"
          },
          "hoverlabel": {
           "align": "left"
          },
          "hovermode": "closest",
          "mapbox": {
           "style": "light"
          },
          "paper_bgcolor": "white",
          "plot_bgcolor": "white",
          "polar": {
           "angularaxis": {
            "gridcolor": "#EBF0F8",
            "linecolor": "#EBF0F8",
            "ticks": ""
           },
           "bgcolor": "white",
           "radialaxis": {
            "gridcolor": "#EBF0F8",
            "linecolor": "#EBF0F8",
            "ticks": ""
           }
          },
          "scene": {
           "xaxis": {
            "backgroundcolor": "white",
            "gridcolor": "#DFE8F3",
            "gridwidth": 2,
            "linecolor": "#EBF0F8",
            "showbackground": true,
            "ticks": "",
            "zerolinecolor": "#EBF0F8"
           },
           "yaxis": {
            "backgroundcolor": "white",
            "gridcolor": "#DFE8F3",
            "gridwidth": 2,
            "linecolor": "#EBF0F8",
            "showbackground": true,
            "ticks": "",
            "zerolinecolor": "#EBF0F8"
           },
           "zaxis": {
            "backgroundcolor": "white",
            "gridcolor": "#DFE8F3",
            "gridwidth": 2,
            "linecolor": "#EBF0F8",
            "showbackground": true,
            "ticks": "",
            "zerolinecolor": "#EBF0F8"
           }
          },
          "shapedefaults": {
           "line": {
            "color": "#2a3f5f"
           }
          },
          "ternary": {
           "aaxis": {
            "gridcolor": "#DFE8F3",
            "linecolor": "#A2B1C6",
            "ticks": ""
           },
           "baxis": {
            "gridcolor": "#DFE8F3",
            "linecolor": "#A2B1C6",
            "ticks": ""
           },
           "bgcolor": "white",
           "caxis": {
            "gridcolor": "#DFE8F3",
            "linecolor": "#A2B1C6",
            "ticks": ""
           }
          },
          "title": {
           "x": 0.05
          },
          "xaxis": {
           "automargin": true,
           "gridcolor": "#EBF0F8",
           "linecolor": "#EBF0F8",
           "ticks": "",
           "title": {
            "standoff": 15
           },
           "zerolinecolor": "#EBF0F8",
           "zerolinewidth": 2
          },
          "yaxis": {
           "automargin": true,
           "gridcolor": "#EBF0F8",
           "linecolor": "#EBF0F8",
           "ticks": "",
           "title": {
            "standoff": 15
           },
           "zerolinecolor": "#EBF0F8",
           "zerolinewidth": 2
          }
         }
        },
        "title": {
         "text": ""
        },
        "xaxis": {
         "anchor": "y",
         "autorange": true,
         "domain": [
          0,
          1
         ],
         "range": [
          "2020-01-05 09:46:44.9767",
          "2020-03-12 14:13:15.0233"
         ],
         "title": {
          "text": "Date"
         },
         "type": "date"
        },
        "yaxis": {
         "anchor": "x",
         "autorange": true,
         "domain": [
          0,
          1
         ],
         "range": [
          -33.98104326260619,
          212.10812203250856
         ],
         "title": {
          "text": "Number of Potential Coronavirus Reports in Tweet"
         },
         "type": "linear"
        }
       }
      },
      "image/png": "[encoded data removed]",
      "text/html": [
       "<div>                            <div id=\"06fd59b7-ec4d-4939-96c7-84a308e23a55\" class=\"plotly-graph-div\" style=\"height:525px; width:100%;\"></div>            <script type=\"text/javascript\">                require([\"plotly\"], function(Plotly) {                    window.PLOTLYENV=window.PLOTLYENV || {};                                    if (document.getElementById(\"06fd59b7-ec4d-4939-96c7-84a308e23a55\")) {                    Plotly.newPlot(                        \"06fd59b7-ec4d-4939-96c7-84a308e23a55\",                        [{\"hovertemplate\": \"state=CA<br>date=%{x}<br><covid_report>_count=%{y}<extra></extra>\", \"legendgroup\": \"CA\", \"line\": {\"dash\": \"dash\"}, \"marker\": {\"color\": \"#636efa\", \"symbol\": \"circle\"}, \"mode\": \"markers+lines\", \"name\": \"CA\", \"orientation\": \"v\", \"showlegend\": true, \"type\": \"scatter\", \"x\": [\"2020-01-09\", \"2020-01-10\", \"2020-01-11\", \"2020-01-12\", \"2020-01-13\", \"2020-01-14\", \"2020-01-15\", \"2020-01-16\", \"2020-01-17\", \"2020-01-18\", \"2020-01-19\", \"2020-01-25\", \"2020-01-26\", \"2020-01-27\", \"2020-01-28\", \"2020-01-29\", \"2020-01-30\", \"2020-01-31\", \"2020-02-01\", \"2020-02-02\", \"2020-02-03\", \"2020-02-04\", \"2020-02-05\", \"2020-02-06\", \"2020-02-07\", \"2020-02-08\", \"2020-02-09\", \"2020-02-10\", \"2020-02-11\", \"2020-02-12\", \"2020-02-13\", \"2020-02-14\", \"2020-02-15\", \"2020-02-16\", \"2020-02-17\", \"2020-02-18\", \"2020-02-19\", \"2020-02-20\", \"2020-02-21\", \"2020-02-22\", \"2020-02-23\", \"2020-02-24\", \"2020-02-25\", \"2020-02-26\", \"2020-02-27\", \"2020-02-28\", \"2020-02-29\", \"2020-03-01\", \"2020-03-02\", \"2020-03-03\", \"2020-03-04\", \"2020-03-05\", \"2020-03-06\", \"2020-03-07\", \"2020-03-08\", \"2020-03-09\"], \"xaxis\": \"x\", \"y\": [1, 1, 0, 0, 0, 0, 0, 0, 0, 0, 0, 1, 14, 11, 26, 26, 21, 20, 11, 14, 12, 3, 12, 6, 6, 4, 6, 8, 6, 3, 6, 6, 4, 6, 9, 8, 7, 7, 14, 11, 5, 12, 24, 37, 61, 81, 77, 45, 55, 63, 89, 116, 168, 148, 89, 158], \"yaxis\": \"y\"}, {\"hovertemplate\": \"state=NY<br>date=%{x}<br><covid_report>_count=%{y}<extra></extra>\", \"legendgroup\": \"NY\", \"line\": {\"dash\": \"dash\"}, \"marker\": {\"color\": \"#EF553B\", \"symbol\": \"circle\"}, \"mode\": \"markers+lines\", \"name\": \"NY\", \"orientation\": \"v\", \"showlegend\": true, \"type\": \"scatter\", \"x\": [\"2020-01-09\", \"2020-01-10\", \"2020-01-11\", \"2020-01-12\", \"2020-01-13\", \"2020-01-14\", \"2020-01-15\", \"2020-01-16\", \"2020-01-17\", \"2020-01-18\", \"2020-01-19\", \"2020-01-25\", \"2020-01-26\", \"2020-01-27\", \"2020-01-28\", \"2020-01-29\", \"2020-01-30\", \"2020-01-31\", \"2020-02-01\", \"2020-02-02\", \"2020-02-03\", \"2020-02-04\", \"2020-02-05\", \"2020-02-06\", \"2020-02-07\", \"2020-02-08\", \"2020-02-09\", \"2020-02-10\", \"2020-02-11\", \"2020-02-12\", \"2020-02-13\", \"2020-02-14\", \"2020-02-15\", \"2020-02-16\", \"2020-02-17\", \"2020-02-18\", \"2020-02-19\", \"2020-02-20\", \"2020-02-21\", \"2020-02-22\", \"2020-02-23\", \"2020-02-24\", \"2020-02-25\", \"2020-02-26\", \"2020-02-27\", \"2020-02-28\", \"2020-02-29\", \"2020-03-01\", \"2020-03-02\", \"2020-03-03\", \"2020-03-04\", \"2020-03-05\", \"2020-03-06\", \"2020-03-07\", \"2020-03-08\", \"2020-03-09\"], \"xaxis\": \"x\", \"y\": [0, 0, 0, 0, 0, 1, 0, 0, 0, 0, 0, 0, 5, 5, 8, 8, 16, 8, 7, 4, 8, 6, 4, 6, 2, 4, 2, 4, 5, 2, 4, 2, 2, 2, 4, 0, 4, 2, 3, 3, 1, 5, 13, 18, 35, 35, 42, 35, 46, 46, 50, 67, 69, 60, 29, 94], \"yaxis\": \"y\"}, {\"hovertemplate\": \"state=WA<br>date=%{x}<br><covid_report>_count=%{y}<extra></extra>\", \"legendgroup\": \"WA\", \"line\": {\"dash\": \"dash\"}, \"marker\": {\"color\": \"#00cc96\", \"symbol\": \"circle\"}, \"mode\": \"markers+lines\", \"name\": \"WA\", \"orientation\": \"v\", \"showlegend\": true, \"type\": \"scatter\", \"x\": [\"2020-01-09\", \"2020-01-10\", \"2020-01-11\", \"2020-01-12\", \"2020-01-13\", \"2020-01-14\", \"2020-01-15\", \"2020-01-16\", \"2020-01-17\", \"2020-01-19\", \"2020-01-25\", \"2020-01-26\", \"2020-01-27\", \"2020-01-28\", \"2020-01-29\", \"2020-01-30\", \"2020-01-31\", \"2020-02-01\", \"2020-02-02\", \"2020-02-03\", \"2020-02-04\", \"2020-02-05\", \"2020-02-06\", \"2020-02-07\", \"2020-02-08\", \"2020-02-09\", \"2020-02-10\", \"2020-02-11\", \"2020-02-12\", \"2020-02-13\", \"2020-02-14\", \"2020-02-15\", \"2020-02-16\", \"2020-02-17\", \"2020-02-18\", \"2020-02-19\", \"2020-02-20\", \"2020-02-21\", \"2020-02-22\", \"2020-02-23\", \"2020-02-24\", \"2020-02-25\", \"2020-02-26\", \"2020-02-27\", \"2020-02-28\", \"2020-02-29\", \"2020-03-01\", \"2020-03-02\", \"2020-03-03\", \"2020-03-04\", \"2020-03-05\", \"2020-03-06\", \"2020-03-07\", \"2020-03-08\", \"2020-03-09\"], \"xaxis\": \"x\", \"y\": [0, 0, 0, 0, 0, 0, 0, 0, 0, 0, 0, 0, 4, 1, 2, 4, 1, 2, 0, 2, 2, 2, 0, 1, 2, 1, 0, 1, 0, 2, 3, 0, 1, 2, 1, 0, 0, 1, 1, 2, 3, 3, 6, 14, 8, 37, 25, 34, 30, 31, 28, 29, 26, 26, 28], \"yaxis\": \"y\"}, {\"marker\": {\"color\": \"#636efa\", \"size\": 6, \"symbol\": \"triangle-up\"}, \"mode\": \"markers+lines\", \"name\": \"CA_smooth\", \"type\": \"scatter\", \"x\": [\"2020-01-09\", \"2020-01-10\", \"2020-01-11\", \"2020-01-12\", \"2020-01-13\", \"2020-01-14\", \"2020-01-15\", \"2020-01-16\", \"2020-01-17\", \"2020-01-18\", \"2020-01-19\", \"2020-01-25\", \"2020-01-26\", \"2020-01-27\", \"2020-01-28\", \"2020-01-29\", \"2020-01-30\", \"2020-01-31\", \"2020-02-01\", \"2020-02-02\", \"2020-02-03\", \"2020-02-04\", \"2020-02-05\", \"2020-02-06\", \"2020-02-07\", \"2020-02-08\", \"2020-02-09\", \"2020-02-10\", \"2020-02-11\", \"2020-02-12\", \"2020-02-13\", \"2020-02-14\", \"2020-02-15\", \"2020-02-16\", \"2020-02-17\", \"2020-02-18\", \"2020-02-19\", \"2020-02-20\", \"2020-02-21\", \"2020-02-22\", \"2020-02-23\", \"2020-02-24\", \"2020-02-25\", \"2020-02-26\", \"2020-02-27\", \"2020-02-28\", \"2020-02-29\", \"2020-03-01\", \"2020-03-02\", \"2020-03-03\", \"2020-03-04\", \"2020-03-05\", \"2020-03-06\", \"2020-03-07\", \"2020-03-08\", \"2020-03-09\"], \"y\": [-0.18921568627446475, 1.0481792717087046, 1.4247145011850937, 1.1737987502693321, 0.5288407670760495, -0.2767507002801244, -1.0095669036845614, -1.4361990950226369, -0.5809954751131301, 1.7447963800905038, 4.6000000000000245, 8.371040723981949, 11.500452488687849, 14.418099547511396, 17.3737556561087, 18.458823529411873, 19.234389140271606, 18.815384615384726, 17.28868778280553, 14.33846153846162, 11.784615384615451, 8.76651583710412, 7.552941176470629, 6.6660633484163245, 6.009954751131254, 6.076018099547545, 5.415384615384645, 5.18914027149324, 5.439819004524916, 5.030769230769258, 5.668778280543018, 5.438914027149351, 5.873303167420847, 6.657918552036236, 6.8769230769231156, 6.733936651583747, 6.409954751131254, 5.45610859728509, 5.885972850678756, 9.86063348416294, 18.165610859728602, 25.711312217194713, 33.14841628959295, 38.91040723981922, 43.89049773755681, 47.24072398190071, 57.08506787330347, 72.69683257918594, 79.71131221719502, 88.3234647705236, 97.23528334410688, 106.55121741004095, 116.37571644042234, 126.81322990734756, 137.96820728291323, 149.94509803921582]}, {\"marker\": {\"color\": \"#EF553B\", \"size\": 6, \"symbol\": \"triangle-up\"}, \"mode\": \"markers+lines\", \"name\": \"NY_smooth\", \"type\": \"scatter\", \"x\": [\"2020-01-09\", \"2020-01-10\", \"2020-01-11\", \"2020-01-12\", \"2020-01-13\", \"2020-01-14\", \"2020-01-15\", \"2020-01-16\", \"2020-01-17\", \"2020-01-18\", \"2020-01-19\", \"2020-01-25\", \"2020-01-26\", \"2020-01-27\", \"2020-01-28\", \"2020-01-29\", \"2020-01-30\", \"2020-01-31\", \"2020-02-01\", \"2020-02-02\", \"2020-02-03\", \"2020-02-04\", \"2020-02-05\", \"2020-02-06\", \"2020-02-07\", \"2020-02-08\", \"2020-02-09\", \"2020-02-10\", \"2020-02-11\", \"2020-02-12\", \"2020-02-13\", \"2020-02-14\", \"2020-02-15\", \"2020-02-16\", \"2020-02-17\", \"2020-02-18\", \"2020-02-19\", \"2020-02-20\", \"2020-02-21\", \"2020-02-22\", \"2020-02-23\", \"2020-02-24\", \"2020-02-25\", \"2020-02-26\", \"2020-02-27\", \"2020-02-28\", \"2020-02-29\", \"2020-03-01\", \"2020-03-02\", \"2020-03-03\", \"2020-03-04\", \"2020-03-05\", \"2020-03-06\", \"2020-03-07\", \"2020-03-08\", \"2020-03-09\"], \"y\": [-0.43758169934639135, 0.16816059757236757, 0.4387919270272206, 0.4581483875601484, 0.3100660777131313, 0.0783810960281508, -0.15307045895281346, -0.3004524886877859, 0.03529411764705764, 0.10497737556560921, 1.4361990950226313, 2.919457013574677, 4.564705882352968, 5.776470588235328, 6.9773755656109, 8.047963800905025, 8.533936651583762, 8.940271493212723, 8.553846153846203, 7.756561085972896, 6.804524886877866, 5.560180995475144, 4.789140271493239, 3.7773755656108796, 4.086877828054321, 3.895022624434411, 3.6823529411764913, 3.0081447963801065, 3.197285067873321, 2.9266968325792018, 2.7737556561086123, 2.8271493212669845, 2.5574660633484303, 2.656108597285083, 2.172850678733043, 1.487782805429871, 1.2714932126696876, 0.41266968325791553, 1.4552036199095044, 3.206334841628971, 6.908597285067907, 10.517647058823583, 15.435294117647143, 20.304072398190158, 24.8615384615386, 30.19095022624451, 36.87782805429885, 45.2778280542989, 45.99819004524913, 48.56735617323853, 51.08768225238815, 53.83870573870577, 57.09996408819943, 61.15099475687717, 66.27133520074706, 72.74052287581712]}, {\"marker\": {\"color\": \"#00cc96\", \"size\": 6, \"symbol\": \"triangle-up\"}, \"mode\": \"markers+lines\", \"name\": \"WA_smooth\", \"type\": \"scatter\", \"x\": [\"2020-01-09\", \"2020-01-10\", \"2020-01-11\", \"2020-01-12\", \"2020-01-13\", \"2020-01-14\", \"2020-01-15\", \"2020-01-16\", \"2020-01-17\", \"2020-01-19\", \"2020-01-25\", \"2020-01-26\", \"2020-01-27\", \"2020-01-28\", \"2020-01-29\", \"2020-01-30\", \"2020-01-31\", \"2020-02-01\", \"2020-02-02\", \"2020-02-03\", \"2020-02-04\", \"2020-02-05\", \"2020-02-06\", \"2020-02-07\", \"2020-02-08\", \"2020-02-09\", \"2020-02-10\", \"2020-02-11\", \"2020-02-12\", \"2020-02-13\", \"2020-02-14\", \"2020-02-15\", \"2020-02-16\", \"2020-02-17\", \"2020-02-18\", \"2020-02-19\", \"2020-02-20\", \"2020-02-21\", \"2020-02-22\", \"2020-02-23\", \"2020-02-24\", \"2020-02-25\", \"2020-02-26\", \"2020-02-27\", \"2020-02-28\", \"2020-02-29\", \"2020-03-01\", \"2020-03-02\", \"2020-03-03\", \"2020-03-04\", \"2020-03-05\", \"2020-03-06\", \"2020-03-07\", \"2020-03-08\", \"2020-03-09\"], \"y\": [0.1006535947712423, 0.025723622782446665, -0.040587517058105066, -0.09136680313150886, -0.11970121381886081, -0.11867772750125691, -0.08138332255979314, -0.0009049773755659685, 0.047058823529411486, 0.47873303167421066, 0.7990950226244389, 1.2696832579185595, 1.4723981900452574, 1.6660633484162992, 1.8325791855203726, 2.0950226244344012, 2.105882352941189, 1.9239819004524998, 1.7402714932126797, 1.4778280542986506, 1.4814479638009133, 1.2895927601810029, 0.981900452488693, 0.9710407239819056, 1.0597285067873363, 1.121266968325798, 0.885067873303172, 0.9601809954751184, 1.1466063348416355, 1.3239819004524966, 1.1628959276018165, 1.0723981900452548, 1.0497737556561146, 0.953846153846159, 0.8371040723981944, 0.669683257918555, 0.047963800904975484, 0.723981900452491, -0.23710407239819636, 1.2334841628959299, 2.9628959276018216, 6.248868778280575, 10.004524886877881, 14.240723981900533, 18.288687782805535, 22.37466063348429, 25.786425339366666, 28.29502262443456, 29.867905623787987, 30.744871794871813, 30.918756733462644, 30.382396035337237, 29.128625296272375, 27.15028011204483, 24.440196078431377]}, {\"marker\": {\"color\": \"black\", \"size\": 16, \"symbol\": \"x\"}, \"mode\": \"lines\", \"name\": \"First American Death due to COVID-19\", \"showlegend\": false, \"type\": \"scatter\", \"x\": [\"2020-02-08\", \"2020-02-08\", \"2020-02-08\", \"2020-02-08\", \"2020-02-08\", \"2020-02-08\", \"2020-02-08\", \"2020-02-08\", \"2020-02-08\", \"2020-02-08\", \"2020-02-08\", \"2020-02-08\", \"2020-02-08\", \"2020-02-08\", \"2020-02-08\", \"2020-02-08\", \"2020-02-08\", \"2020-02-08\", \"2020-02-08\", \"2020-02-08\", \"2020-02-08\", \"2020-02-08\", \"2020-02-08\", \"2020-02-08\", \"2020-02-08\", \"2020-02-08\", \"2020-02-08\", \"2020-02-08\", \"2020-02-08\", \"2020-02-08\", \"2020-02-08\", \"2020-02-08\", \"2020-02-08\", \"2020-02-08\", \"2020-02-08\", \"2020-02-08\", \"2020-02-08\", \"2020-02-08\", \"2020-02-08\", \"2020-02-08\", \"2020-02-08\", \"2020-02-08\", \"2020-02-08\", \"2020-02-08\", \"2020-02-08\", \"2020-02-08\", \"2020-02-08\", \"2020-02-08\", \"2020-02-08\", \"2020-02-08\"], \"y\": [-21.676584997850455, -17.363254997938192, -13.049924998025928, -8.736594998113663, -4.4232649982014, -0.10993499828913755, 4.203395001623129, 8.516725001535391, 12.830055001447654, 17.143385001359917, 21.45671500127218, 25.770045001184442, 30.083375001096712, 34.396705001008975, 38.71003500092124, 43.02336500083349, 47.33669500074576, 51.65002500065803, 55.96335500057029, 60.27668500048256, 64.59001500039481, 68.90334500030708, 73.21667500021934, 77.53000500013161, 81.84333500004388, 86.15666499995613, 90.4699949998684, 94.78332499978066, 99.09665499969293, 103.40998499960519, 107.72331499951744, 112.03664499942971, 116.34997499934198, 120.66330499925425, 124.97663499916652, 129.28996499907876, 133.60329499899103, 137.9166249989033, 142.22995499881557, 146.5432849987278, 150.85661499864008, 155.16994499855235, 159.48327499846462, 163.7966049983769, 168.10993499828913, 172.4232649982014, 176.73659499811367, 181.04992499802594, 185.3632549979382, 189.67658499785045]}, {\"marker\": {\"color\": \"black\", \"size\": 16, \"symbol\": \"x\"}, \"mode\": \"lines\", \"name\": \"Announcing First COVID-19 Case\", \"showlegend\": false, \"type\": \"scatter\", \"x\": [\"2020-01-21\", \"2020-01-21\", \"2020-01-21\", \"2020-01-21\", \"2020-01-21\", \"2020-01-21\", \"2020-01-21\", \"2020-01-21\", \"2020-01-21\", \"2020-01-21\", \"2020-01-21\", \"2020-01-21\", \"2020-01-21\", \"2020-01-21\", \"2020-01-21\", \"2020-01-21\", \"2020-01-21\", \"2020-01-21\", \"2020-01-21\", \"2020-01-21\", \"2020-01-21\", \"2020-01-21\", \"2020-01-21\", \"2020-01-21\", \"2020-01-21\", \"2020-01-21\", \"2020-01-21\", \"2020-01-21\", \"2020-01-21\", \"2020-01-21\", \"2020-01-21\", \"2020-01-21\", \"2020-01-21\", \"2020-01-21\", \"2020-01-21\", \"2020-01-21\", \"2020-01-21\", \"2020-01-21\", \"2020-01-21\", \"2020-01-21\", \"2020-01-21\", \"2020-01-21\", \"2020-01-21\", \"2020-01-21\", \"2020-01-21\", \"2020-01-21\", \"2020-01-21\", \"2020-01-21\", \"2020-01-21\", \"2020-01-21\"], \"y\": [-21.676584997850455, -17.363254997938192, -13.049924998025928, -8.736594998113663, -4.4232649982014, -0.10993499828913755, 4.203395001623129, 8.516725001535391, 12.830055001447654, 17.143385001359917, 21.45671500127218, 25.770045001184442, 30.083375001096712, 34.396705001008975, 38.71003500092124, 43.02336500083349, 47.33669500074576, 51.65002500065803, 55.96335500057029, 60.27668500048256, 64.59001500039481, 68.90334500030708, 73.21667500021934, 77.53000500013161, 81.84333500004388, 86.15666499995613, 90.4699949998684, 94.78332499978066, 99.09665499969293, 103.40998499960519, 107.72331499951744, 112.03664499942971, 116.34997499934198, 120.66330499925425, 124.97663499916652, 129.28996499907876, 133.60329499899103, 137.9166249989033, 142.22995499881557, 146.5432849987278, 150.85661499864008, 155.16994499855235, 159.48327499846462, 163.7966049983769, 168.10993499828913, 172.4232649982014, 176.73659499811367, 181.04992499802594, 185.3632549979382, 189.67658499785045]}],                        {\"annotations\": [{\"arrowhead\": 1, \"showarrow\": true, \"text\": \"First American Death due to COVID-19\", \"x\": \"2020-02-08\", \"y\": 179.56084533218691}, {\"arrowhead\": 1, \"showarrow\": true, \"text\": \"Announcing First COVID-19 Case\", \"x\": \"2020-01-21\", \"y\": 179.56084533218691}], \"font\": {\"size\": 15}, \"legend\": {\"title\": {\"text\": \"state\"}, \"tracegroupgap\": 0}, \"margin\": {\"t\": 60}, \"template\": {\"data\": {\"bar\": [{\"error_x\": {\"color\": \"#2a3f5f\"}, \"error_y\": {\"color\": \"#2a3f5f\"}, \"marker\": {\"line\": {\"color\": \"white\", \"width\": 0.5}}, \"type\": \"bar\"}], \"barpolar\": [{\"marker\": {\"line\": {\"color\": \"white\", \"width\": 0.5}}, \"type\": \"barpolar\"}], \"carpet\": [{\"aaxis\": {\"endlinecolor\": \"#2a3f5f\", \"gridcolor\": \"#C8D4E3\", \"linecolor\": \"#C8D4E3\", \"minorgridcolor\": \"#C8D4E3\", \"startlinecolor\": \"#2a3f5f\"}, \"baxis\": {\"endlinecolor\": \"#2a3f5f\", \"gridcolor\": \"#C8D4E3\", \"linecolor\": \"#C8D4E3\", \"minorgridcolor\": \"#C8D4E3\", \"startlinecolor\": \"#2a3f5f\"}, \"type\": \"carpet\"}], \"choropleth\": [{\"colorbar\": {\"outlinewidth\": 0, \"ticks\": \"\"}, \"type\": \"choropleth\"}], \"contour\": [{\"colorbar\": {\"outlinewidth\": 0, \"ticks\": \"\"}, \"colorscale\": [[0.0, \"#0d0887\"], [0.1111111111111111, \"#46039f\"], [0.2222222222222222, \"#7201a8\"], [0.3333333333333333, \"#9c179e\"], [0.4444444444444444, \"#bd3786\"], [0.5555555555555556, \"#d8576b\"], [0.6666666666666666, \"#ed7953\"], [0.7777777777777778, \"#fb9f3a\"], [0.8888888888888888, \"#fdca26\"], [1.0, \"#f0f921\"]], \"type\": \"contour\"}], \"contourcarpet\": [{\"colorbar\": {\"outlinewidth\": 0, \"ticks\": \"\"}, \"type\": \"contourcarpet\"}], \"heatmap\": [{\"colorbar\": {\"outlinewidth\": 0, \"ticks\": \"\"}, \"colorscale\": [[0.0, \"#0d0887\"], [0.1111111111111111, \"#46039f\"], [0.2222222222222222, \"#7201a8\"], [0.3333333333333333, \"#9c179e\"], [0.4444444444444444, \"#bd3786\"], [0.5555555555555556, \"#d8576b\"], [0.6666666666666666, \"#ed7953\"], [0.7777777777777778, \"#fb9f3a\"], [0.8888888888888888, \"#fdca26\"], [1.0, \"#f0f921\"]], \"type\": \"heatmap\"}], \"heatmapgl\": [{\"colorbar\": {\"outlinewidth\": 0, \"ticks\": \"\"}, \"colorscale\": [[0.0, \"#0d0887\"], [0.1111111111111111, \"#46039f\"], [0.2222222222222222, \"#7201a8\"], [0.3333333333333333, \"#9c179e\"], [0.4444444444444444, \"#bd3786\"], [0.5555555555555556, \"#d8576b\"], [0.6666666666666666, \"#ed7953\"], [0.7777777777777778, \"#fb9f3a\"], [0.8888888888888888, \"#fdca26\"], [1.0, \"#f0f921\"]], \"type\": \"heatmapgl\"}], \"histogram\": [{\"marker\": {\"colorbar\": {\"outlinewidth\": 0, \"ticks\": \"\"}}, \"type\": \"histogram\"}], \"histogram2d\": [{\"colorbar\": {\"outlinewidth\": 0, \"ticks\": \"\"}, \"colorscale\": [[0.0, \"#0d0887\"], [0.1111111111111111, \"#46039f\"], [0.2222222222222222, \"#7201a8\"], [0.3333333333333333, \"#9c179e\"], [0.4444444444444444, \"#bd3786\"], [0.5555555555555556, \"#d8576b\"], [0.6666666666666666, \"#ed7953\"], [0.7777777777777778, \"#fb9f3a\"], [0.8888888888888888, \"#fdca26\"], [1.0, \"#f0f921\"]], \"type\": \"histogram2d\"}], \"histogram2dcontour\": [{\"colorbar\": {\"outlinewidth\": 0, \"ticks\": \"\"}, \"colorscale\": [[0.0, \"#0d0887\"], [0.1111111111111111, \"#46039f\"], [0.2222222222222222, \"#7201a8\"], [0.3333333333333333, \"#9c179e\"], [0.4444444444444444, \"#bd3786\"], [0.5555555555555556, \"#d8576b\"], [0.6666666666666666, \"#ed7953\"], [0.7777777777777778, \"#fb9f3a\"], [0.8888888888888888, \"#fdca26\"], [1.0, \"#f0f921\"]], \"type\": \"histogram2dcontour\"}], \"mesh3d\": [{\"colorbar\": {\"outlinewidth\": 0, \"ticks\": \"\"}, \"type\": \"mesh3d\"}], \"parcoords\": [{\"line\": {\"colorbar\": {\"outlinewidth\": 0, \"ticks\": \"\"}}, \"type\": \"parcoords\"}], \"pie\": [{\"automargin\": true, \"type\": \"pie\"}], \"scatter\": [{\"marker\": {\"colorbar\": {\"outlinewidth\": 0, \"ticks\": \"\"}}, \"type\": \"scatter\"}], \"scatter3d\": [{\"line\": {\"colorbar\": {\"outlinewidth\": 0, \"ticks\": \"\"}}, \"marker\": {\"colorbar\": {\"outlinewidth\": 0, \"ticks\": \"\"}}, \"type\": \"scatter3d\"}], \"scattercarpet\": [{\"marker\": {\"colorbar\": {\"outlinewidth\": 0, \"ticks\": \"\"}}, \"type\": \"scattercarpet\"}], \"scattergeo\": [{\"marker\": {\"colorbar\": {\"outlinewidth\": 0, \"ticks\": \"\"}}, \"type\": \"scattergeo\"}], \"scattergl\": [{\"marker\": {\"colorbar\": {\"outlinewidth\": 0, \"ticks\": \"\"}}, \"type\": \"scattergl\"}], \"scattermapbox\": [{\"marker\": {\"colorbar\": {\"outlinewidth\": 0, \"ticks\": \"\"}}, \"type\": \"scattermapbox\"}], \"scatterpolar\": [{\"marker\": {\"colorbar\": {\"outlinewidth\": 0, \"ticks\": \"\"}}, \"type\": \"scatterpolar\"}], \"scatterpolargl\": [{\"marker\": {\"colorbar\": {\"outlinewidth\": 0, \"ticks\": \"\"}}, \"type\": \"scatterpolargl\"}], \"scatterternary\": [{\"marker\": {\"colorbar\": {\"outlinewidth\": 0, \"ticks\": \"\"}}, \"type\": \"scatterternary\"}], \"surface\": [{\"colorbar\": {\"outlinewidth\": 0, \"ticks\": \"\"}, \"colorscale\": [[0.0, \"#0d0887\"], [0.1111111111111111, \"#46039f\"], [0.2222222222222222, \"#7201a8\"], [0.3333333333333333, \"#9c179e\"], [0.4444444444444444, \"#bd3786\"], [0.5555555555555556, \"#d8576b\"], [0.6666666666666666, \"#ed7953\"], [0.7777777777777778, \"#fb9f3a\"], [0.8888888888888888, \"#fdca26\"], [1.0, \"#f0f921\"]], \"type\": \"surface\"}], \"table\": [{\"cells\": {\"fill\": {\"color\": \"#EBF0F8\"}, \"line\": {\"color\": \"white\"}}, \"header\": {\"fill\": {\"color\": \"#C8D4E3\"}, \"line\": {\"color\": \"white\"}}, \"type\": \"table\"}]}, \"layout\": {\"annotationdefaults\": {\"arrowcolor\": \"#2a3f5f\", \"arrowhead\": 0, \"arrowwidth\": 1}, \"coloraxis\": {\"colorbar\": {\"outlinewidth\": 0, \"ticks\": \"\"}}, \"colorscale\": {\"diverging\": [[0, \"#8e0152\"], [0.1, \"#c51b7d\"], [0.2, \"#de77ae\"], [0.3, \"#f1b6da\"], [0.4, \"#fde0ef\"], [0.5, \"#f7f7f7\"], [0.6, \"#e6f5d0\"], [0.7, \"#b8e186\"], [0.8, \"#7fbc41\"], [0.9, \"#4d9221\"], [1, \"#276419\"]], \"sequential\": [[0.0, \"#0d0887\"], [0.1111111111111111, \"#46039f\"], [0.2222222222222222, \"#7201a8\"], [0.3333333333333333, \"#9c179e\"], [0.4444444444444444, \"#bd3786\"], [0.5555555555555556, \"#d8576b\"], [0.6666666666666666, \"#ed7953\"], [0.7777777777777778, \"#fb9f3a\"], [0.8888888888888888, \"#fdca26\"], [1.0, \"#f0f921\"]], \"sequentialminus\": [[0.0, \"#0d0887\"], [0.1111111111111111, \"#46039f\"], [0.2222222222222222, \"#7201a8\"], [0.3333333333333333, \"#9c179e\"], [0.4444444444444444, \"#bd3786\"], [0.5555555555555556, \"#d8576b\"], [0.6666666666666666, \"#ed7953\"], [0.7777777777777778, \"#fb9f3a\"], [0.8888888888888888, \"#fdca26\"], [1.0, \"#f0f921\"]]}, \"colorway\": [\"#636efa\", \"#EF553B\", \"#00cc96\", \"#ab63fa\", \"#FFA15A\", \"#19d3f3\", \"#FF6692\", \"#B6E880\", \"#FF97FF\", \"#FECB52\"], \"font\": {\"color\": \"#2a3f5f\"}, \"geo\": {\"bgcolor\": \"white\", \"lakecolor\": \"white\", \"landcolor\": \"white\", \"showlakes\": true, \"showland\": true, \"subunitcolor\": \"#C8D4E3\"}, \"hoverlabel\": {\"align\": \"left\"}, \"hovermode\": \"closest\", \"mapbox\": {\"style\": \"light\"}, \"paper_bgcolor\": \"white\", \"plot_bgcolor\": \"white\", \"polar\": {\"angularaxis\": {\"gridcolor\": \"#EBF0F8\", \"linecolor\": \"#EBF0F8\", \"ticks\": \"\"}, \"bgcolor\": \"white\", \"radialaxis\": {\"gridcolor\": \"#EBF0F8\", \"linecolor\": \"#EBF0F8\", \"ticks\": \"\"}}, \"scene\": {\"xaxis\": {\"backgroundcolor\": \"white\", \"gridcolor\": \"#DFE8F3\", \"gridwidth\": 2, \"linecolor\": \"#EBF0F8\", \"showbackground\": true, \"ticks\": \"\", \"zerolinecolor\": \"#EBF0F8\"}, \"yaxis\": {\"backgroundcolor\": \"white\", \"gridcolor\": \"#DFE8F3\", \"gridwidth\": 2, \"linecolor\": \"#EBF0F8\", \"showbackground\": true, \"ticks\": \"\", \"zerolinecolor\": \"#EBF0F8\"}, \"zaxis\": {\"backgroundcolor\": \"white\", \"gridcolor\": \"#DFE8F3\", \"gridwidth\": 2, \"linecolor\": \"#EBF0F8\", \"showbackground\": true, \"ticks\": \"\", \"zerolinecolor\": \"#EBF0F8\"}}, \"shapedefaults\": {\"line\": {\"color\": \"#2a3f5f\"}}, \"ternary\": {\"aaxis\": {\"gridcolor\": \"#DFE8F3\", \"linecolor\": \"#A2B1C6\", \"ticks\": \"\"}, \"baxis\": {\"gridcolor\": \"#DFE8F3\", \"linecolor\": \"#A2B1C6\", \"ticks\": \"\"}, \"bgcolor\": \"white\", \"caxis\": {\"gridcolor\": \"#DFE8F3\", \"linecolor\": \"#A2B1C6\", \"ticks\": \"\"}}, \"title\": {\"x\": 0.05}, \"xaxis\": {\"automargin\": true, \"gridcolor\": \"#EBF0F8\", \"linecolor\": \"#EBF0F8\", \"ticks\": \"\", \"title\": {\"standoff\": 15}, \"zerolinecolor\": \"#EBF0F8\", \"zerolinewidth\": 2}, \"yaxis\": {\"automargin\": true, \"gridcolor\": \"#EBF0F8\", \"linecolor\": \"#EBF0F8\", \"ticks\": \"\", \"title\": {\"standoff\": 15}, \"zerolinecolor\": \"#EBF0F8\", \"zerolinewidth\": 2}}}, \"title\": {\"text\": \"\"}, \"xaxis\": {\"anchor\": \"y\", \"domain\": [0.0, 1.0], \"title\": {\"text\": \"Date\"}}, \"yaxis\": {\"anchor\": \"x\", \"domain\": [0.0, 1.0], \"title\": {\"text\": \"Number of Potential Coronavirus Reports in Tweet\"}}},                        {\"responsive\": true}                    ).then(function(){\n",
       "                            \n",
       "var gd = document.getElementById('06fd59b7-ec4d-4939-96c7-84a308e23a55');\n",
       "var x = new MutationObserver(function (mutations, observer) {{\n",
       "        var display = window.getComputedStyle(gd).display;\n",
       "        if (!display || display === 'none') {{\n",
       "            console.log([gd, 'removed!']);\n",
       "            Plotly.purge(gd);\n",
       "            observer.disconnect();\n",
       "        }}\n",
       "}});\n",
       "\n",
       "// Listen for the removal of the full notebook cells\n",
       "var notebookContainer = gd.closest('#notebook-container');\n",
       "if (notebookContainer) {{\n",
       "    x.observe(notebookContainer, {childList: true});\n",
       "}}\n",
       "\n",
       "// Listen for the clearing of the current output cell\n",
       "var outputEl = gd.closest('.output');\n",
       "if (outputEl) {{\n",
       "    x.observe(outputEl, {childList: true});\n",
       "}}\n",
       "\n",
       "                        })                };                });            </script>        </div>"
      ]
     },
     "metadata": {},
     "output_type": "display_data"
    }
   ],
   "source": [
    "tmp_df2 = df.groupby(['state', 'date']).sum().reset_index().copy()\n",
    "tmp_df = tmp_df2[tmp_df2.state.isin(['CA', 'NY', 'WA'])]\n",
    "event = important_events[1]\n",
    "fig = get_go_figure(\n",
    "    tmp_df=tmp_df, \n",
    "    events=[important_events[1], important_events[0]],\n",
    "    half_window_days=30,\n",
    "    y='<covid_report>_count', \n",
    "    title='', \n",
    "    resolution='state',\n",
    "    mode='markers+lines', \n",
    "    line= (dict(dash='dash'), dict())\n",
    ")\n",
    "fig.layout.font.size=15\n",
    "fig.show()"
   ]
  },
  {
   "cell_type": "code",
   "execution_count": 36,
   "metadata": {},
   "outputs": [],
   "source": [
    "fig.write_image('trajectories/canywa_covid_reports.pdf', width=1500, height=500)"
   ]
  },
  {
   "cell_type": "code",
   "execution_count": 27,
   "metadata": {},
   "outputs": [
    {
     "data": {
      "application/vnd.plotly.v1+json": {
       "config": {
        "plotlyServerURL": "https://plot.ly"
       },
       "data": [
        {
         "hovertemplate": "state=CA<br>date=%{x}<br>hate_prob=%{y}<extra></extra>",
         "legendgroup": "CA",
         "line": {
          "dash": "dash"
         },
         "marker": {
          "color": "#636efa",
          "symbol": "circle"
         },
         "mode": "markers+lines",
         "name": "CA",
         "orientation": "v",
         "showlegend": true,
         "type": "scatter",
         "x": [
          "2020-03-08",
          "2020-03-09",
          "2020-03-10",
          "2020-03-11",
          "2020-03-12",
          "2020-03-13",
          "2020-03-14",
          "2020-03-15",
          "2020-03-16",
          "2020-03-17",
          "2020-03-18",
          "2020-03-19",
          "2020-03-20",
          "2020-03-21",
          "2020-03-22",
          "2020-03-23",
          "2020-03-24",
          "2020-03-25",
          "2020-03-26",
          "2020-03-27",
          "2020-03-28",
          "2020-03-29",
          "2020-03-30",
          "2020-03-31",
          "2020-04-01",
          "2020-04-02",
          "2020-04-03",
          "2020-04-04",
          "2020-04-05",
          "2020-04-06",
          "2020-04-07"
         ],
         "xaxis": "x",
         "y": [
          0.009769634832598479,
          0.013993395094907851,
          0.021840179940203014,
          0.015796113370603753,
          0.01740991265481066,
          0.01503394168215642,
          0.013550931955578351,
          0.010183911015136526,
          0.01738794742558849,
          0.026696106847398576,
          0.02930178510719855,
          0.028271316495795642,
          0.018791535274556417,
          0.013601333792697961,
          0.018130936861761964,
          0.015577262234809697,
          0.017799511379289118,
          0.011397166380631072,
          0.01122604681603407,
          0.013650306009207575,
          0.014690614374377593,
          0.012574835386997144,
          0.016845679469258697,
          0.013928919608687775,
          0.01624339162924461,
          0.012655873279185747,
          0.012593466924672326,
          0.012614878627547154,
          0.018496418900941926,
          0.012846902895772224,
          0.012875782236903116
         ],
         "yaxis": "y"
        },
        {
         "hovertemplate": "state=NJ<br>date=%{x}<br>hate_prob=%{y}<extra></extra>",
         "legendgroup": "NJ",
         "line": {
          "dash": "dash"
         },
         "marker": {
          "color": "#EF553B",
          "symbol": "circle"
         },
         "mode": "markers+lines",
         "name": "NJ",
         "orientation": "v",
         "showlegend": true,
         "type": "scatter",
         "x": [
          "2020-03-08",
          "2020-03-09",
          "2020-03-10",
          "2020-03-11",
          "2020-03-12",
          "2020-03-13",
          "2020-03-14",
          "2020-03-15",
          "2020-03-16",
          "2020-03-17",
          "2020-03-18",
          "2020-03-19",
          "2020-03-20",
          "2020-03-21",
          "2020-03-22",
          "2020-03-23",
          "2020-03-24",
          "2020-03-25",
          "2020-03-26",
          "2020-03-27",
          "2020-03-28",
          "2020-03-29",
          "2020-03-30",
          "2020-03-31",
          "2020-04-01",
          "2020-04-02",
          "2020-04-03",
          "2020-04-04",
          "2020-04-05",
          "2020-04-06",
          "2020-04-07"
         ],
         "xaxis": "x",
         "y": [
          0.010171302914774758,
          0.019503056648574747,
          0.013929184709316514,
          0.017405251250251295,
          0.016305874553935697,
          0.020334883780594067,
          0.014905650738454053,
          0.010459690563580286,
          0.010064976416196188,
          0.04375347968127125,
          0.047349933889554933,
          0.06196644611233046,
          0.03406879511058284,
          0.02720221804741926,
          0.03817703299019589,
          0.020405183233142787,
          0.011764031867768261,
          0.0079463305632136,
          0.02265146435267984,
          0.014641262279782125,
          0.013678042077531071,
          0.015624291300191733,
          0.019086763588055517,
          0.010676871526960827,
          0.027003120477859507,
          0.026596551038980596,
          0.012371707353121396,
          0.015703282463018883,
          0.01074765495066255,
          0.009223597269697296,
          0.016853049663557596
         ],
         "yaxis": "y"
        },
        {
         "hovertemplate": "state=NY<br>date=%{x}<br>hate_prob=%{y}<extra></extra>",
         "legendgroup": "NY",
         "line": {
          "dash": "dash"
         },
         "marker": {
          "color": "#00cc96",
          "symbol": "circle"
         },
         "mode": "markers+lines",
         "name": "NY",
         "orientation": "v",
         "showlegend": true,
         "type": "scatter",
         "x": [
          "2020-03-08",
          "2020-03-09",
          "2020-03-10",
          "2020-03-11",
          "2020-03-12",
          "2020-03-13",
          "2020-03-14",
          "2020-03-15",
          "2020-03-16",
          "2020-03-17",
          "2020-03-18",
          "2020-03-19",
          "2020-03-20",
          "2020-03-21",
          "2020-03-22",
          "2020-03-23",
          "2020-03-24",
          "2020-03-25",
          "2020-03-26",
          "2020-03-27",
          "2020-03-28",
          "2020-03-29",
          "2020-03-30",
          "2020-03-31",
          "2020-04-01",
          "2020-04-02",
          "2020-04-03",
          "2020-04-04",
          "2020-04-05",
          "2020-04-06",
          "2020-04-07"
         ],
         "xaxis": "x",
         "y": [
          0.009358378295661446,
          0.01103491519756621,
          0.01913550944172348,
          0.008584750487166658,
          0.015686019112273266,
          0.012977302290263275,
          0.012299649762139132,
          0.00931752644150496,
          0.012281342594361493,
          0.023350627704320046,
          0.025582859303537216,
          0.024155446250980057,
          0.015595182280541993,
          0.013840781836536364,
          0.014160298093461619,
          0.013429279094048894,
          0.012240889870158,
          0.009141532350922672,
          0.007993778140438076,
          0.011812259614369288,
          0.017402420315943395,
          0.01469362144863364,
          0.009473003449615077,
          0.009823665201083014,
          0.01206014247529016,
          0.011327493200683996,
          0.01109639781542681,
          0.008418354649654774,
          0.015538963646913888,
          0.008377624431151306,
          0.009978934630699826
         ],
         "yaxis": "y"
        },
        {
         "hovertemplate": "state=WA<br>date=%{x}<br>hate_prob=%{y}<extra></extra>",
         "legendgroup": "WA",
         "line": {
          "dash": "dash"
         },
         "marker": {
          "color": "#ab63fa",
          "symbol": "circle"
         },
         "mode": "markers+lines",
         "name": "WA",
         "orientation": "v",
         "showlegend": true,
         "type": "scatter",
         "x": [
          "2020-03-08",
          "2020-03-09",
          "2020-03-10",
          "2020-03-11",
          "2020-03-12",
          "2020-03-13",
          "2020-03-14",
          "2020-03-15",
          "2020-03-16",
          "2020-03-17",
          "2020-03-18",
          "2020-03-19",
          "2020-03-20",
          "2020-03-21",
          "2020-03-22",
          "2020-03-23",
          "2020-03-24",
          "2020-03-25",
          "2020-03-26",
          "2020-03-27",
          "2020-03-28",
          "2020-03-29",
          "2020-03-30",
          "2020-03-31",
          "2020-04-01",
          "2020-04-02",
          "2020-04-03",
          "2020-04-04",
          "2020-04-05",
          "2020-04-06",
          "2020-04-07"
         ],
         "xaxis": "x",
         "y": [
          0.0011862491280316412,
          0.01054190218376334,
          0.014899126941102913,
          0.005420716811232366,
          0.013390763689029105,
          0.021036842947359892,
          0.008612420044819194,
          0.010622942013890675,
          0.011319225845602089,
          0.030838860136561397,
          0.03761696140731888,
          0.02392175118352072,
          0.02284408147118541,
          0.017568941792392895,
          0.02071064094610266,
          0.025925767253175462,
          0.016848143201681515,
          0.012479521513169714,
          0.009342793138498007,
          0.01983378609072004,
          0.016515361144315142,
          0.017188825118143028,
          0.011725166285088155,
          0.014313072726426072,
          0.016506066601620635,
          0.013476111267187063,
          0.008443185982770668,
          0.008314663843860938,
          0.011182825096999076,
          0.013050946156129051,
          0.007429962429227046
         ],
         "yaxis": "y"
        },
        {
         "marker": {
          "color": "#636efa",
          "size": 6,
          "symbol": "triangle-up"
         },
         "mode": "markers+lines",
         "name": "CA_smooth",
         "type": "scatter",
         "x": [
          "2020-03-08",
          "2020-03-09",
          "2020-03-10",
          "2020-03-11",
          "2020-03-12",
          "2020-03-13",
          "2020-03-14",
          "2020-03-15",
          "2020-03-16",
          "2020-03-17",
          "2020-03-18",
          "2020-03-19",
          "2020-03-20",
          "2020-03-21",
          "2020-03-22",
          "2020-03-23",
          "2020-03-24",
          "2020-03-25",
          "2020-03-26",
          "2020-03-27",
          "2020-03-28",
          "2020-03-29",
          "2020-03-30",
          "2020-03-31",
          "2020-04-01",
          "2020-04-02",
          "2020-04-03",
          "2020-04-04",
          "2020-04-05",
          "2020-04-06",
          "2020-04-07"
         ],
         "y": [
          0.009353846701420403,
          0.015894705479973428,
          0.018513513143709717,
          0.018405439329483228,
          0.01736516392226149,
          0.013832689422050811,
          0.01264632284180948,
          0.013747019212266832,
          0.01833063685651223,
          0.02465199481909712,
          0.028375475918777204,
          0.025538747195556592,
          0.020977527447396276,
          0.016861300599316044,
          0.01582972897171729,
          0.016170660068037176,
          0.01523861060844027,
          0.01314157695695855,
          0.012858730669936046,
          0.012079892038700581,
          0.013988007422624394,
          0.014525733844472699,
          0.015101521223476218,
          0.015102896535823016,
          0.014816690946888478,
          0.012883783916481218,
          0.01383078888070207,
          0.01395778314948068,
          0.01542058696178698,
          0.015350904118077177,
          0.01217180278748501
         ]
        },
        {
         "marker": {
          "color": "#EF553B",
          "size": 6,
          "symbol": "triangle-up"
         },
         "mode": "markers+lines",
         "name": "NJ_smooth",
         "type": "scatter",
         "x": [
          "2020-03-08",
          "2020-03-09",
          "2020-03-10",
          "2020-03-11",
          "2020-03-12",
          "2020-03-13",
          "2020-03-14",
          "2020-03-15",
          "2020-03-16",
          "2020-03-17",
          "2020-03-18",
          "2020-03-19",
          "2020-03-20",
          "2020-03-21",
          "2020-03-22",
          "2020-03-23",
          "2020-03-24",
          "2020-03-25",
          "2020-03-26",
          "2020-03-27",
          "2020-03-28",
          "2020-03-29",
          "2020-03-30",
          "2020-03-31",
          "2020-04-01",
          "2020-04-02",
          "2020-04-03",
          "2020-04-04",
          "2020-04-05",
          "2020-04-06",
          "2020-04-07"
         ],
         "y": [
          0.011790515029189201,
          0.015030520970609671,
          0.016929978188620867,
          0.017743191824396258,
          0.017483854475315426,
          0.0173914210194746,
          0.011709623441979771,
          0.013714050970075158,
          0.019899902403840986,
          0.03667111133014593,
          0.04870698044508731,
          0.04946002719811562,
          0.04294081550204777,
          0.03584654530754196,
          0.026216979342795668,
          0.02068989517548371,
          0.01672646843936861,
          0.012549832269928798,
          0.01420728953790297,
          0.015689340438967095,
          0.017395614079258003,
          0.013457338326381523,
          0.01576105633847383,
          0.020278115868591823,
          0.02116107828751309,
          0.021042688054821568,
          0.019707254341718897,
          0.012780345509858834,
          0.009956441007331465,
          0.010681064634464579,
          0.016428705617498197
         ]
        },
        {
         "marker": {
          "color": "#00cc96",
          "size": 6,
          "symbol": "triangle-up"
         },
         "mode": "markers+lines",
         "name": "NY_smooth",
         "type": "scatter",
         "x": [
          "2020-03-08",
          "2020-03-09",
          "2020-03-10",
          "2020-03-11",
          "2020-03-12",
          "2020-03-13",
          "2020-03-14",
          "2020-03-15",
          "2020-03-16",
          "2020-03-17",
          "2020-03-18",
          "2020-03-19",
          "2020-03-20",
          "2020-03-21",
          "2020-03-22",
          "2020-03-23",
          "2020-03-24",
          "2020-03-25",
          "2020-03-26",
          "2020-03-27",
          "2020-03-28",
          "2020-03-29",
          "2020-03-30",
          "2020-03-31",
          "2020-04-01",
          "2020-04-02",
          "2020-04-03",
          "2020-04-04",
          "2020-04-05",
          "2020-04-06",
          "2020-04-07"
         ],
         "y": [
          0.009175499146305107,
          0.01280524942088681,
          0.014225697477209339,
          0.014178239099144502,
          0.01394166879923515,
          0.01188705980915059,
          0.01142370711726259,
          0.011388317732460362,
          0.015302873959524907,
          0.020727088538558362,
          0.023877591282151868,
          0.02261177716705995,
          0.018229204908721493,
          0.014882144418451088,
          0.013316986261239885,
          0.01305624300764177,
          0.011250821121943968,
          0.00942847208697523,
          0.010207777535607502,
          0.012530508704666514,
          0.014062960869322363,
          0.013757515521366045,
          0.01216775841853332,
          0.010430011411534532,
          0.01080058092077058,
          0.010615896167059304,
          0.01154974337676971,
          0.011132278571673985,
          0.011412613875386932,
          0.01101672413620691,
          0.009348958536376467
         ]
        },
        {
         "marker": {
          "color": "#ab63fa",
          "size": 6,
          "symbol": "triangle-up"
         },
         "mode": "markers+lines",
         "name": "WA_smooth",
         "type": "scatter",
         "x": [
          "2020-03-08",
          "2020-03-09",
          "2020-03-10",
          "2020-03-11",
          "2020-03-12",
          "2020-03-13",
          "2020-03-14",
          "2020-03-15",
          "2020-03-16",
          "2020-03-17",
          "2020-03-18",
          "2020-03-19",
          "2020-03-20",
          "2020-03-21",
          "2020-03-22",
          "2020-03-23",
          "2020-03-24",
          "2020-03-25",
          "2020-03-26",
          "2020-03-27",
          "2020-03-28",
          "2020-03-29",
          "2020-03-30",
          "2020-03-31",
          "2020-04-01",
          "2020-04-02",
          "2020-04-03",
          "2020-04-04",
          "2020-04-05",
          "2020-04-06",
          "2020-04-07"
         ],
         "y": [
          0.003086496520067375,
          0.007483933124581887,
          0.011031048278030222,
          0.013467774214623186,
          0.013365983663676941,
          0.013093870187455635,
          0.011993164989978286,
          0.011788672785658594,
          0.017941730948408584,
          0.026200486715889572,
          0.030380407243310505,
          0.029113437512339264,
          0.022395537163550985,
          0.020234441578217466,
          0.021534136643873762,
          0.020600224588393074,
          0.017320170547496096,
          0.01463471068971982,
          0.01300670123277037,
          0.015516373773919918,
          0.016541042145473885,
          0.016214657017839158,
          0.014453906646905951,
          0.0148407914908121,
          0.013894078526313905,
          0.012671215301111621,
          0.010389789994115797,
          0.009888944171138007,
          0.011210307744021052,
          0.011289038205250224,
          0.00822670585889819
         ]
        },
        {
         "marker": {
          "color": "black",
          "size": 16,
          "symbol": "x"
         },
         "mode": "lines",
         "name": "Stimulus Package #1 Approved by Senate",
         "showlegend": false,
         "type": "scatter",
         "x": [
          "2020-03-23",
          "2020-03-23",
          "2020-03-23",
          "2020-03-23",
          "2020-03-23",
          "2020-03-23",
          "2020-03-23",
          "2020-03-23",
          "2020-03-23",
          "2020-03-23",
          "2020-03-23",
          "2020-03-23",
          "2020-03-23",
          "2020-03-23",
          "2020-03-23",
          "2020-03-23",
          "2020-03-23",
          "2020-03-23",
          "2020-03-23",
          "2020-03-23",
          "2020-03-23",
          "2020-03-23",
          "2020-03-23",
          "2020-03-23",
          "2020-03-23",
          "2020-03-23",
          "2020-03-23",
          "2020-03-23",
          "2020-03-23",
          "2020-03-23",
          "2020-03-23",
          "2020-03-23",
          "2020-03-23",
          "2020-03-23",
          "2020-03-23",
          "2020-03-23",
          "2020-03-23",
          "2020-03-23",
          "2020-03-23",
          "2020-03-23",
          "2020-03-23",
          "2020-03-23",
          "2020-03-23",
          "2020-03-23",
          "2020-03-23",
          "2020-03-23",
          "2020-03-23",
          "2020-03-23",
          "2020-03-23",
          "2020-03-23"
         ],
         "y": [
          -0.005153959635216126,
          -0.0036547634207101188,
          -0.0021555672062041112,
          -0.0006563709916981037,
          0.0008428252228079034,
          0.0023420214373139105,
          0.0038412176518199184,
          0.005340413866325925,
          0.006839610080831933,
          0.00833880629533794,
          0.009838002509843947,
          0.011337198724349955,
          0.012836394938855963,
          0.01433559115336197,
          0.015834787367867975,
          0.017333983582373983,
          0.01883317979687999,
          0.020332376011386,
          0.021831572225892007,
          0.02333076844039801,
          0.02482996465490402,
          0.02632916086941003,
          0.027828357083916035,
          0.02932755329842204,
          0.03082674951292805,
          0.03232594572743405,
          0.03382514194194007,
          0.035324338156446075,
          0.03682353437095208,
          0.038322730585458084,
          0.03982192679996409,
          0.04132112301447011,
          0.04282031922897611,
          0.044319515443482116,
          0.04581871165798812,
          0.047317907872494125,
          0.04881710408700014,
          0.05031630030150615,
          0.05181549651601215,
          0.05331469273051816,
          0.05481388894502416,
          0.05631308515953018,
          0.057812281374036184,
          0.05931147758854219,
          0.06081067380304819,
          0.0623098700175542,
          0.0638090662320602,
          0.06530826244656622,
          0.06680745866107222,
          0.06830665487557823
         ]
        },
        {
         "marker": {
          "color": "black",
          "size": 16,
          "symbol": "x"
         },
         "mode": "lines",
         "name": "US State of Emergency",
         "showlegend": false,
         "type": "scatter",
         "x": [
          "2020-03-10",
          "2020-03-10",
          "2020-03-10",
          "2020-03-10",
          "2020-03-10",
          "2020-03-10",
          "2020-03-10",
          "2020-03-10",
          "2020-03-10",
          "2020-03-10",
          "2020-03-10",
          "2020-03-10",
          "2020-03-10",
          "2020-03-10",
          "2020-03-10",
          "2020-03-10",
          "2020-03-10",
          "2020-03-10",
          "2020-03-10",
          "2020-03-10",
          "2020-03-10",
          "2020-03-10",
          "2020-03-10",
          "2020-03-10",
          "2020-03-10",
          "2020-03-10",
          "2020-03-10",
          "2020-03-10",
          "2020-03-10",
          "2020-03-10",
          "2020-03-10",
          "2020-03-10",
          "2020-03-10",
          "2020-03-10",
          "2020-03-10",
          "2020-03-10",
          "2020-03-10",
          "2020-03-10",
          "2020-03-10",
          "2020-03-10",
          "2020-03-10",
          "2020-03-10",
          "2020-03-10",
          "2020-03-10",
          "2020-03-10",
          "2020-03-10",
          "2020-03-10",
          "2020-03-10",
          "2020-03-10",
          "2020-03-10"
         ],
         "y": [
          -0.005153959635216126,
          -0.0036547634207101188,
          -0.0021555672062041112,
          -0.0006563709916981037,
          0.0008428252228079034,
          0.0023420214373139105,
          0.0038412176518199184,
          0.005340413866325925,
          0.006839610080831933,
          0.00833880629533794,
          0.009838002509843947,
          0.011337198724349955,
          0.012836394938855963,
          0.01433559115336197,
          0.015834787367867975,
          0.017333983582373983,
          0.01883317979687999,
          0.020332376011386,
          0.021831572225892007,
          0.02333076844039801,
          0.02482996465490402,
          0.02632916086941003,
          0.027828357083916035,
          0.02932755329842204,
          0.03082674951292805,
          0.03232594572743405,
          0.03382514194194007,
          0.035324338156446075,
          0.03682353437095208,
          0.038322730585458084,
          0.03982192679996409,
          0.04132112301447011,
          0.04282031922897611,
          0.044319515443482116,
          0.04581871165798812,
          0.047317907872494125,
          0.04881710408700014,
          0.05031630030150615,
          0.05181549651601215,
          0.05331469273051816,
          0.05481388894502416,
          0.05631308515953018,
          0.057812281374036184,
          0.05931147758854219,
          0.06081067380304819,
          0.0623098700175542,
          0.0638090662320602,
          0.06530826244656622,
          0.06680745866107222,
          0.06830665487557823
         ]
        }
       ],
       "layout": {
        "annotations": [
         {
          "arrowhead": 1,
          "showarrow": true,
          "text": "Stimulus Package #1 Approved by Senate",
          "x": "2020-03-23",
          "y": 0.0653478907860626
         },
         {
          "arrowhead": 1,
          "showarrow": true,
          "text": "US State of Emergency",
          "x": "2020-03-10",
          "y": 0.0653478907860626
         }
        ],
        "autosize": true,
        "font": {
         "size": 15
        },
        "legend": {
         "title": {
          "text": "state"
         },
         "tracegroupgap": 0
        },
        "margin": {
         "t": 60
        },
        "template": {
         "data": {
          "bar": [
           {
            "error_x": {
             "color": "#2a3f5f"
            },
            "error_y": {
             "color": "#2a3f5f"
            },
            "marker": {
             "line": {
              "color": "white",
              "width": 0.5
             }
            },
            "type": "bar"
           }
          ],
          "barpolar": [
           {
            "marker": {
             "line": {
              "color": "white",
              "width": 0.5
             }
            },
            "type": "barpolar"
           }
          ],
          "carpet": [
           {
            "aaxis": {
             "endlinecolor": "#2a3f5f",
             "gridcolor": "#C8D4E3",
             "linecolor": "#C8D4E3",
             "minorgridcolor": "#C8D4E3",
             "startlinecolor": "#2a3f5f"
            },
            "baxis": {
             "endlinecolor": "#2a3f5f",
             "gridcolor": "#C8D4E3",
             "linecolor": "#C8D4E3",
             "minorgridcolor": "#C8D4E3",
             "startlinecolor": "#2a3f5f"
            },
            "type": "carpet"
           }
          ],
          "choropleth": [
           {
            "colorbar": {
             "outlinewidth": 0,
             "ticks": ""
            },
            "type": "choropleth"
           }
          ],
          "contour": [
           {
            "colorbar": {
             "outlinewidth": 0,
             "ticks": ""
            },
            "colorscale": [
             [
              0,
              "#0d0887"
             ],
             [
              0.1111111111111111,
              "#46039f"
             ],
             [
              0.2222222222222222,
              "#7201a8"
             ],
             [
              0.3333333333333333,
              "#9c179e"
             ],
             [
              0.4444444444444444,
              "#bd3786"
             ],
             [
              0.5555555555555556,
              "#d8576b"
             ],
             [
              0.6666666666666666,
              "#ed7953"
             ],
             [
              0.7777777777777778,
              "#fb9f3a"
             ],
             [
              0.8888888888888888,
              "#fdca26"
             ],
             [
              1,
              "#f0f921"
             ]
            ],
            "type": "contour"
           }
          ],
          "contourcarpet": [
           {
            "colorbar": {
             "outlinewidth": 0,
             "ticks": ""
            },
            "type": "contourcarpet"
           }
          ],
          "heatmap": [
           {
            "colorbar": {
             "outlinewidth": 0,
             "ticks": ""
            },
            "colorscale": [
             [
              0,
              "#0d0887"
             ],
             [
              0.1111111111111111,
              "#46039f"
             ],
             [
              0.2222222222222222,
              "#7201a8"
             ],
             [
              0.3333333333333333,
              "#9c179e"
             ],
             [
              0.4444444444444444,
              "#bd3786"
             ],
             [
              0.5555555555555556,
              "#d8576b"
             ],
             [
              0.6666666666666666,
              "#ed7953"
             ],
             [
              0.7777777777777778,
              "#fb9f3a"
             ],
             [
              0.8888888888888888,
              "#fdca26"
             ],
             [
              1,
              "#f0f921"
             ]
            ],
            "type": "heatmap"
           }
          ],
          "heatmapgl": [
           {
            "colorbar": {
             "outlinewidth": 0,
             "ticks": ""
            },
            "colorscale": [
             [
              0,
              "#0d0887"
             ],
             [
              0.1111111111111111,
              "#46039f"
             ],
             [
              0.2222222222222222,
              "#7201a8"
             ],
             [
              0.3333333333333333,
              "#9c179e"
             ],
             [
              0.4444444444444444,
              "#bd3786"
             ],
             [
              0.5555555555555556,
              "#d8576b"
             ],
             [
              0.6666666666666666,
              "#ed7953"
             ],
             [
              0.7777777777777778,
              "#fb9f3a"
             ],
             [
              0.8888888888888888,
              "#fdca26"
             ],
             [
              1,
              "#f0f921"
             ]
            ],
            "type": "heatmapgl"
           }
          ],
          "histogram": [
           {
            "marker": {
             "colorbar": {
              "outlinewidth": 0,
              "ticks": ""
             }
            },
            "type": "histogram"
           }
          ],
          "histogram2d": [
           {
            "colorbar": {
             "outlinewidth": 0,
             "ticks": ""
            },
            "colorscale": [
             [
              0,
              "#0d0887"
             ],
             [
              0.1111111111111111,
              "#46039f"
             ],
             [
              0.2222222222222222,
              "#7201a8"
             ],
             [
              0.3333333333333333,
              "#9c179e"
             ],
             [
              0.4444444444444444,
              "#bd3786"
             ],
             [
              0.5555555555555556,
              "#d8576b"
             ],
             [
              0.6666666666666666,
              "#ed7953"
             ],
             [
              0.7777777777777778,
              "#fb9f3a"
             ],
             [
              0.8888888888888888,
              "#fdca26"
             ],
             [
              1,
              "#f0f921"
             ]
            ],
            "type": "histogram2d"
           }
          ],
          "histogram2dcontour": [
           {
            "colorbar": {
             "outlinewidth": 0,
             "ticks": ""
            },
            "colorscale": [
             [
              0,
              "#0d0887"
             ],
             [
              0.1111111111111111,
              "#46039f"
             ],
             [
              0.2222222222222222,
              "#7201a8"
             ],
             [
              0.3333333333333333,
              "#9c179e"
             ],
             [
              0.4444444444444444,
              "#bd3786"
             ],
             [
              0.5555555555555556,
              "#d8576b"
             ],
             [
              0.6666666666666666,
              "#ed7953"
             ],
             [
              0.7777777777777778,
              "#fb9f3a"
             ],
             [
              0.8888888888888888,
              "#fdca26"
             ],
             [
              1,
              "#f0f921"
             ]
            ],
            "type": "histogram2dcontour"
           }
          ],
          "mesh3d": [
           {
            "colorbar": {
             "outlinewidth": 0,
             "ticks": ""
            },
            "type": "mesh3d"
           }
          ],
          "parcoords": [
           {
            "line": {
             "colorbar": {
              "outlinewidth": 0,
              "ticks": ""
             }
            },
            "type": "parcoords"
           }
          ],
          "pie": [
           {
            "automargin": true,
            "type": "pie"
           }
          ],
          "scatter": [
           {
            "marker": {
             "colorbar": {
              "outlinewidth": 0,
              "ticks": ""
             }
            },
            "type": "scatter"
           }
          ],
          "scatter3d": [
           {
            "line": {
             "colorbar": {
              "outlinewidth": 0,
              "ticks": ""
             }
            },
            "marker": {
             "colorbar": {
              "outlinewidth": 0,
              "ticks": ""
             }
            },
            "type": "scatter3d"
           }
          ],
          "scattercarpet": [
           {
            "marker": {
             "colorbar": {
              "outlinewidth": 0,
              "ticks": ""
             }
            },
            "type": "scattercarpet"
           }
          ],
          "scattergeo": [
           {
            "marker": {
             "colorbar": {
              "outlinewidth": 0,
              "ticks": ""
             }
            },
            "type": "scattergeo"
           }
          ],
          "scattergl": [
           {
            "marker": {
             "colorbar": {
              "outlinewidth": 0,
              "ticks": ""
             }
            },
            "type": "scattergl"
           }
          ],
          "scattermapbox": [
           {
            "marker": {
             "colorbar": {
              "outlinewidth": 0,
              "ticks": ""
             }
            },
            "type": "scattermapbox"
           }
          ],
          "scatterpolar": [
           {
            "marker": {
             "colorbar": {
              "outlinewidth": 0,
              "ticks": ""
             }
            },
            "type": "scatterpolar"
           }
          ],
          "scatterpolargl": [
           {
            "marker": {
             "colorbar": {
              "outlinewidth": 0,
              "ticks": ""
             }
            },
            "type": "scatterpolargl"
           }
          ],
          "scatterternary": [
           {
            "marker": {
             "colorbar": {
              "outlinewidth": 0,
              "ticks": ""
             }
            },
            "type": "scatterternary"
           }
          ],
          "surface": [
           {
            "colorbar": {
             "outlinewidth": 0,
             "ticks": ""
            },
            "colorscale": [
             [
              0,
              "#0d0887"
             ],
             [
              0.1111111111111111,
              "#46039f"
             ],
             [
              0.2222222222222222,
              "#7201a8"
             ],
             [
              0.3333333333333333,
              "#9c179e"
             ],
             [
              0.4444444444444444,
              "#bd3786"
             ],
             [
              0.5555555555555556,
              "#d8576b"
             ],
             [
              0.6666666666666666,
              "#ed7953"
             ],
             [
              0.7777777777777778,
              "#fb9f3a"
             ],
             [
              0.8888888888888888,
              "#fdca26"
             ],
             [
              1,
              "#f0f921"
             ]
            ],
            "type": "surface"
           }
          ],
          "table": [
           {
            "cells": {
             "fill": {
              "color": "#EBF0F8"
             },
             "line": {
              "color": "white"
             }
            },
            "header": {
             "fill": {
              "color": "#C8D4E3"
             },
             "line": {
              "color": "white"
             }
            },
            "type": "table"
           }
          ]
         },
         "layout": {
          "annotationdefaults": {
           "arrowcolor": "#2a3f5f",
           "arrowhead": 0,
           "arrowwidth": 1
          },
          "coloraxis": {
           "colorbar": {
            "outlinewidth": 0,
            "ticks": ""
           }
          },
          "colorscale": {
           "diverging": [
            [
             0,
             "#8e0152"
            ],
            [
             0.1,
             "#c51b7d"
            ],
            [
             0.2,
             "#de77ae"
            ],
            [
             0.3,
             "#f1b6da"
            ],
            [
             0.4,
             "#fde0ef"
            ],
            [
             0.5,
             "#f7f7f7"
            ],
            [
             0.6,
             "#e6f5d0"
            ],
            [
             0.7,
             "#b8e186"
            ],
            [
             0.8,
             "#7fbc41"
            ],
            [
             0.9,
             "#4d9221"
            ],
            [
             1,
             "#276419"
            ]
           ],
           "sequential": [
            [
             0,
             "#0d0887"
            ],
            [
             0.1111111111111111,
             "#46039f"
            ],
            [
             0.2222222222222222,
             "#7201a8"
            ],
            [
             0.3333333333333333,
             "#9c179e"
            ],
            [
             0.4444444444444444,
             "#bd3786"
            ],
            [
             0.5555555555555556,
             "#d8576b"
            ],
            [
             0.6666666666666666,
             "#ed7953"
            ],
            [
             0.7777777777777778,
             "#fb9f3a"
            ],
            [
             0.8888888888888888,
             "#fdca26"
            ],
            [
             1,
             "#f0f921"
            ]
           ],
           "sequentialminus": [
            [
             0,
             "#0d0887"
            ],
            [
             0.1111111111111111,
             "#46039f"
            ],
            [
             0.2222222222222222,
             "#7201a8"
            ],
            [
             0.3333333333333333,
             "#9c179e"
            ],
            [
             0.4444444444444444,
             "#bd3786"
            ],
            [
             0.5555555555555556,
             "#d8576b"
            ],
            [
             0.6666666666666666,
             "#ed7953"
            ],
            [
             0.7777777777777778,
             "#fb9f3a"
            ],
            [
             0.8888888888888888,
             "#fdca26"
            ],
            [
             1,
             "#f0f921"
            ]
           ]
          },
          "colorway": [
           "#636efa",
           "#EF553B",
           "#00cc96",
           "#ab63fa",
           "#FFA15A",
           "#19d3f3",
           "#FF6692",
           "#B6E880",
           "#FF97FF",
           "#FECB52"
          ],
          "font": {
           "color": "#2a3f5f"
          },
          "geo": {
           "bgcolor": "white",
           "lakecolor": "white",
           "landcolor": "white",
           "showlakes": true,
           "showland": true,
           "subunitcolor": "#C8D4E3"
          },
          "hoverlabel": {
           "align": "left"
          },
          "hovermode": "closest",
          "mapbox": {
           "style": "light"
          },
          "paper_bgcolor": "white",
          "plot_bgcolor": "white",
          "polar": {
           "angularaxis": {
            "gridcolor": "#EBF0F8",
            "linecolor": "#EBF0F8",
            "ticks": ""
           },
           "bgcolor": "white",
           "radialaxis": {
            "gridcolor": "#EBF0F8",
            "linecolor": "#EBF0F8",
            "ticks": ""
           }
          },
          "scene": {
           "xaxis": {
            "backgroundcolor": "white",
            "gridcolor": "#DFE8F3",
            "gridwidth": 2,
            "linecolor": "#EBF0F8",
            "showbackground": true,
            "ticks": "",
            "zerolinecolor": "#EBF0F8"
           },
           "yaxis": {
            "backgroundcolor": "white",
            "gridcolor": "#DFE8F3",
            "gridwidth": 2,
            "linecolor": "#EBF0F8",
            "showbackground": true,
            "ticks": "",
            "zerolinecolor": "#EBF0F8"
           },
           "zaxis": {
            "backgroundcolor": "white",
            "gridcolor": "#DFE8F3",
            "gridwidth": 2,
            "linecolor": "#EBF0F8",
            "showbackground": true,
            "ticks": "",
            "zerolinecolor": "#EBF0F8"
           }
          },
          "shapedefaults": {
           "line": {
            "color": "#2a3f5f"
           }
          },
          "ternary": {
           "aaxis": {
            "gridcolor": "#DFE8F3",
            "linecolor": "#A2B1C6",
            "ticks": ""
           },
           "baxis": {
            "gridcolor": "#DFE8F3",
            "linecolor": "#A2B1C6",
            "ticks": ""
           },
           "bgcolor": "white",
           "caxis": {
            "gridcolor": "#DFE8F3",
            "linecolor": "#A2B1C6",
            "ticks": ""
           }
          },
          "title": {
           "x": 0.05
          },
          "xaxis": {
           "automargin": true,
           "gridcolor": "#EBF0F8",
           "linecolor": "#EBF0F8",
           "ticks": "",
           "title": {
            "standoff": 15
           },
           "zerolinecolor": "#EBF0F8",
           "zerolinewidth": 2
          },
          "yaxis": {
           "automargin": true,
           "gridcolor": "#EBF0F8",
           "linecolor": "#EBF0F8",
           "ticks": "",
           "title": {
            "standoff": 15
           },
           "zerolinecolor": "#EBF0F8",
           "zerolinewidth": 2
          }
         }
        },
        "title": {
         "text": ""
        },
        "xaxis": {
         "anchor": "y",
         "autorange": true,
         "domain": [
          0,
          1
         ],
         "range": [
          "2020-03-06 04:53:22.4883",
          "2020-04-08 19:06:37.5117"
         ],
         "title": {
          "text": "Date"
         },
         "type": "date"
        },
        "yaxis": {
         "anchor": "x",
         "autorange": true,
         "domain": [
          0,
          1
         ],
         "range": [
          -0.009464723664919558,
          0.0767505569291491
         ],
         "title": {
          "text": "CLAWS Task: Hate Probability"
         },
         "type": "linear"
        }
       }
      },
      "image/png": "[encoded data removed]",
      "text/html": [
       "<div>                            <div id=\"43c62ab5-eff2-4dd6-a3ff-3fe690a3c167\" class=\"plotly-graph-div\" style=\"height:525px; width:100%;\"></div>            <script type=\"text/javascript\">                require([\"plotly\"], function(Plotly) {                    window.PLOTLYENV=window.PLOTLYENV || {};                                    if (document.getElementById(\"43c62ab5-eff2-4dd6-a3ff-3fe690a3c167\")) {                    Plotly.newPlot(                        \"43c62ab5-eff2-4dd6-a3ff-3fe690a3c167\",                        [{\"hovertemplate\": \"state=CA<br>date=%{x}<br>hate_prob=%{y}<extra></extra>\", \"legendgroup\": \"CA\", \"line\": {\"dash\": \"dash\"}, \"marker\": {\"color\": \"#636efa\", \"symbol\": \"circle\"}, \"mode\": \"markers+lines\", \"name\": \"CA\", \"orientation\": \"v\", \"showlegend\": true, \"type\": \"scatter\", \"x\": [\"2020-03-08\", \"2020-03-09\", \"2020-03-10\", \"2020-03-11\", \"2020-03-12\", \"2020-03-13\", \"2020-03-14\", \"2020-03-15\", \"2020-03-16\", \"2020-03-17\", \"2020-03-18\", \"2020-03-19\", \"2020-03-20\", \"2020-03-21\", \"2020-03-22\", \"2020-03-23\", \"2020-03-24\", \"2020-03-25\", \"2020-03-26\", \"2020-03-27\", \"2020-03-28\", \"2020-03-29\", \"2020-03-30\", \"2020-03-31\", \"2020-04-01\", \"2020-04-02\", \"2020-04-03\", \"2020-04-04\", \"2020-04-05\", \"2020-04-06\", \"2020-04-07\"], \"xaxis\": \"x\", \"y\": [0.009769634832598479, 0.013993395094907851, 0.021840179940203014, 0.015796113370603753, 0.01740991265481066, 0.01503394168215642, 0.013550931955578351, 0.010183911015136526, 0.01738794742558849, 0.026696106847398576, 0.02930178510719855, 0.028271316495795642, 0.018791535274556417, 0.013601333792697961, 0.018130936861761964, 0.015577262234809697, 0.017799511379289118, 0.011397166380631072, 0.01122604681603407, 0.013650306009207575, 0.014690614374377593, 0.012574835386997144, 0.016845679469258697, 0.013928919608687775, 0.01624339162924461, 0.012655873279185747, 0.012593466924672326, 0.012614878627547154, 0.018496418900941926, 0.012846902895772224, 0.012875782236903116], \"yaxis\": \"y\"}, {\"hovertemplate\": \"state=NJ<br>date=%{x}<br>hate_prob=%{y}<extra></extra>\", \"legendgroup\": \"NJ\", \"line\": {\"dash\": \"dash\"}, \"marker\": {\"color\": \"#EF553B\", \"symbol\": \"circle\"}, \"mode\": \"markers+lines\", \"name\": \"NJ\", \"orientation\": \"v\", \"showlegend\": true, \"type\": \"scatter\", \"x\": [\"2020-03-08\", \"2020-03-09\", \"2020-03-10\", \"2020-03-11\", \"2020-03-12\", \"2020-03-13\", \"2020-03-14\", \"2020-03-15\", \"2020-03-16\", \"2020-03-17\", \"2020-03-18\", \"2020-03-19\", \"2020-03-20\", \"2020-03-21\", \"2020-03-22\", \"2020-03-23\", \"2020-03-24\", \"2020-03-25\", \"2020-03-26\", \"2020-03-27\", \"2020-03-28\", \"2020-03-29\", \"2020-03-30\", \"2020-03-31\", \"2020-04-01\", \"2020-04-02\", \"2020-04-03\", \"2020-04-04\", \"2020-04-05\", \"2020-04-06\", \"2020-04-07\"], \"xaxis\": \"x\", \"y\": [0.010171302914774758, 0.019503056648574747, 0.013929184709316514, 0.017405251250251295, 0.016305874553935697, 0.020334883780594067, 0.014905650738454053, 0.010459690563580286, 0.010064976416196188, 0.04375347968127125, 0.047349933889554933, 0.06196644611233046, 0.03406879511058284, 0.02720221804741926, 0.03817703299019589, 0.020405183233142787, 0.011764031867768261, 0.0079463305632136, 0.02265146435267984, 0.014641262279782125, 0.013678042077531071, 0.015624291300191733, 0.019086763588055517, 0.010676871526960827, 0.027003120477859507, 0.026596551038980596, 0.012371707353121396, 0.015703282463018883, 0.01074765495066255, 0.009223597269697296, 0.016853049663557596], \"yaxis\": \"y\"}, {\"hovertemplate\": \"state=NY<br>date=%{x}<br>hate_prob=%{y}<extra></extra>\", \"legendgroup\": \"NY\", \"line\": {\"dash\": \"dash\"}, \"marker\": {\"color\": \"#00cc96\", \"symbol\": \"circle\"}, \"mode\": \"markers+lines\", \"name\": \"NY\", \"orientation\": \"v\", \"showlegend\": true, \"type\": \"scatter\", \"x\": [\"2020-03-08\", \"2020-03-09\", \"2020-03-10\", \"2020-03-11\", \"2020-03-12\", \"2020-03-13\", \"2020-03-14\", \"2020-03-15\", \"2020-03-16\", \"2020-03-17\", \"2020-03-18\", \"2020-03-19\", \"2020-03-20\", \"2020-03-21\", \"2020-03-22\", \"2020-03-23\", \"2020-03-24\", \"2020-03-25\", \"2020-03-26\", \"2020-03-27\", \"2020-03-28\", \"2020-03-29\", \"2020-03-30\", \"2020-03-31\", \"2020-04-01\", \"2020-04-02\", \"2020-04-03\", \"2020-04-04\", \"2020-04-05\", \"2020-04-06\", \"2020-04-07\"], \"xaxis\": \"x\", \"y\": [0.009358378295661446, 0.01103491519756621, 0.01913550944172348, 0.008584750487166658, 0.015686019112273266, 0.012977302290263275, 0.012299649762139132, 0.00931752644150496, 0.012281342594361493, 0.023350627704320046, 0.025582859303537216, 0.024155446250980057, 0.015595182280541993, 0.013840781836536364, 0.014160298093461619, 0.013429279094048894, 0.012240889870158, 0.009141532350922672, 0.007993778140438076, 0.011812259614369288, 0.017402420315943395, 0.01469362144863364, 0.009473003449615077, 0.009823665201083014, 0.01206014247529016, 0.011327493200683996, 0.01109639781542681, 0.008418354649654774, 0.015538963646913888, 0.008377624431151306, 0.009978934630699826], \"yaxis\": \"y\"}, {\"hovertemplate\": \"state=WA<br>date=%{x}<br>hate_prob=%{y}<extra></extra>\", \"legendgroup\": \"WA\", \"line\": {\"dash\": \"dash\"}, \"marker\": {\"color\": \"#ab63fa\", \"symbol\": \"circle\"}, \"mode\": \"markers+lines\", \"name\": \"WA\", \"orientation\": \"v\", \"showlegend\": true, \"type\": \"scatter\", \"x\": [\"2020-03-08\", \"2020-03-09\", \"2020-03-10\", \"2020-03-11\", \"2020-03-12\", \"2020-03-13\", \"2020-03-14\", \"2020-03-15\", \"2020-03-16\", \"2020-03-17\", \"2020-03-18\", \"2020-03-19\", \"2020-03-20\", \"2020-03-21\", \"2020-03-22\", \"2020-03-23\", \"2020-03-24\", \"2020-03-25\", \"2020-03-26\", \"2020-03-27\", \"2020-03-28\", \"2020-03-29\", \"2020-03-30\", \"2020-03-31\", \"2020-04-01\", \"2020-04-02\", \"2020-04-03\", \"2020-04-04\", \"2020-04-05\", \"2020-04-06\", \"2020-04-07\"], \"xaxis\": \"x\", \"y\": [0.0011862491280316412, 0.01054190218376334, 0.014899126941102913, 0.005420716811232366, 0.013390763689029105, 0.021036842947359892, 0.008612420044819194, 0.010622942013890675, 0.011319225845602089, 0.030838860136561397, 0.03761696140731888, 0.02392175118352072, 0.02284408147118541, 0.017568941792392895, 0.02071064094610266, 0.025925767253175462, 0.016848143201681515, 0.012479521513169714, 0.009342793138498007, 0.01983378609072004, 0.016515361144315142, 0.017188825118143028, 0.011725166285088155, 0.014313072726426072, 0.016506066601620635, 0.013476111267187063, 0.008443185982770668, 0.008314663843860938, 0.011182825096999076, 0.013050946156129051, 0.007429962429227046], \"yaxis\": \"y\"}, {\"marker\": {\"color\": \"#636efa\", \"size\": 6, \"symbol\": \"triangle-up\"}, \"mode\": \"markers+lines\", \"name\": \"CA_smooth\", \"type\": \"scatter\", \"x\": [\"2020-03-08\", \"2020-03-09\", \"2020-03-10\", \"2020-03-11\", \"2020-03-12\", \"2020-03-13\", \"2020-03-14\", \"2020-03-15\", \"2020-03-16\", \"2020-03-17\", \"2020-03-18\", \"2020-03-19\", \"2020-03-20\", \"2020-03-21\", \"2020-03-22\", \"2020-03-23\", \"2020-03-24\", \"2020-03-25\", \"2020-03-26\", \"2020-03-27\", \"2020-03-28\", \"2020-03-29\", \"2020-03-30\", \"2020-03-31\", \"2020-04-01\", \"2020-04-02\", \"2020-04-03\", \"2020-04-04\", \"2020-04-05\", \"2020-04-06\", \"2020-04-07\"], \"y\": [0.009353846701420403, 0.015894705479973428, 0.018513513143709717, 0.018405439329483228, 0.01736516392226149, 0.013832689422050811, 0.01264632284180948, 0.013747019212266832, 0.01833063685651223, 0.02465199481909712, 0.028375475918777204, 0.025538747195556592, 0.020977527447396276, 0.016861300599316044, 0.01582972897171729, 0.016170660068037176, 0.01523861060844027, 0.01314157695695855, 0.012858730669936046, 0.012079892038700581, 0.013988007422624394, 0.014525733844472699, 0.015101521223476218, 0.015102896535823016, 0.014816690946888478, 0.012883783916481218, 0.01383078888070207, 0.01395778314948068, 0.01542058696178698, 0.015350904118077177, 0.01217180278748501]}, {\"marker\": {\"color\": \"#EF553B\", \"size\": 6, \"symbol\": \"triangle-up\"}, \"mode\": \"markers+lines\", \"name\": \"NJ_smooth\", \"type\": \"scatter\", \"x\": [\"2020-03-08\", \"2020-03-09\", \"2020-03-10\", \"2020-03-11\", \"2020-03-12\", \"2020-03-13\", \"2020-03-14\", \"2020-03-15\", \"2020-03-16\", \"2020-03-17\", \"2020-03-18\", \"2020-03-19\", \"2020-03-20\", \"2020-03-21\", \"2020-03-22\", \"2020-03-23\", \"2020-03-24\", \"2020-03-25\", \"2020-03-26\", \"2020-03-27\", \"2020-03-28\", \"2020-03-29\", \"2020-03-30\", \"2020-03-31\", \"2020-04-01\", \"2020-04-02\", \"2020-04-03\", \"2020-04-04\", \"2020-04-05\", \"2020-04-06\", \"2020-04-07\"], \"y\": [0.011790515029189201, 0.015030520970609671, 0.016929978188620867, 0.017743191824396258, 0.017483854475315426, 0.0173914210194746, 0.011709623441979771, 0.013714050970075158, 0.019899902403840986, 0.03667111133014593, 0.04870698044508731, 0.04946002719811562, 0.04294081550204777, 0.03584654530754196, 0.026216979342795668, 0.02068989517548371, 0.01672646843936861, 0.012549832269928798, 0.01420728953790297, 0.015689340438967095, 0.017395614079258003, 0.013457338326381523, 0.01576105633847383, 0.020278115868591823, 0.02116107828751309, 0.021042688054821568, 0.019707254341718897, 0.012780345509858834, 0.009956441007331465, 0.010681064634464579, 0.016428705617498197]}, {\"marker\": {\"color\": \"#00cc96\", \"size\": 6, \"symbol\": \"triangle-up\"}, \"mode\": \"markers+lines\", \"name\": \"NY_smooth\", \"type\": \"scatter\", \"x\": [\"2020-03-08\", \"2020-03-09\", \"2020-03-10\", \"2020-03-11\", \"2020-03-12\", \"2020-03-13\", \"2020-03-14\", \"2020-03-15\", \"2020-03-16\", \"2020-03-17\", \"2020-03-18\", \"2020-03-19\", \"2020-03-20\", \"2020-03-21\", \"2020-03-22\", \"2020-03-23\", \"2020-03-24\", \"2020-03-25\", \"2020-03-26\", \"2020-03-27\", \"2020-03-28\", \"2020-03-29\", \"2020-03-30\", \"2020-03-31\", \"2020-04-01\", \"2020-04-02\", \"2020-04-03\", \"2020-04-04\", \"2020-04-05\", \"2020-04-06\", \"2020-04-07\"], \"y\": [0.009175499146305107, 0.01280524942088681, 0.014225697477209339, 0.014178239099144502, 0.01394166879923515, 0.01188705980915059, 0.01142370711726259, 0.011388317732460362, 0.015302873959524907, 0.020727088538558362, 0.023877591282151868, 0.02261177716705995, 0.018229204908721493, 0.014882144418451088, 0.013316986261239885, 0.01305624300764177, 0.011250821121943968, 0.00942847208697523, 0.010207777535607502, 0.012530508704666514, 0.014062960869322363, 0.013757515521366045, 0.01216775841853332, 0.010430011411534532, 0.01080058092077058, 0.010615896167059304, 0.01154974337676971, 0.011132278571673985, 0.011412613875386932, 0.01101672413620691, 0.009348958536376467]}, {\"marker\": {\"color\": \"#ab63fa\", \"size\": 6, \"symbol\": \"triangle-up\"}, \"mode\": \"markers+lines\", \"name\": \"WA_smooth\", \"type\": \"scatter\", \"x\": [\"2020-03-08\", \"2020-03-09\", \"2020-03-10\", \"2020-03-11\", \"2020-03-12\", \"2020-03-13\", \"2020-03-14\", \"2020-03-15\", \"2020-03-16\", \"2020-03-17\", \"2020-03-18\", \"2020-03-19\", \"2020-03-20\", \"2020-03-21\", \"2020-03-22\", \"2020-03-23\", \"2020-03-24\", \"2020-03-25\", \"2020-03-26\", \"2020-03-27\", \"2020-03-28\", \"2020-03-29\", \"2020-03-30\", \"2020-03-31\", \"2020-04-01\", \"2020-04-02\", \"2020-04-03\", \"2020-04-04\", \"2020-04-05\", \"2020-04-06\", \"2020-04-07\"], \"y\": [0.003086496520067375, 0.007483933124581887, 0.011031048278030222, 0.013467774214623186, 0.013365983663676941, 0.013093870187455635, 0.011993164989978286, 0.011788672785658594, 0.017941730948408584, 0.026200486715889572, 0.030380407243310505, 0.029113437512339264, 0.022395537163550985, 0.020234441578217466, 0.021534136643873762, 0.020600224588393074, 0.017320170547496096, 0.01463471068971982, 0.01300670123277037, 0.015516373773919918, 0.016541042145473885, 0.016214657017839158, 0.014453906646905951, 0.0148407914908121, 0.013894078526313905, 0.012671215301111621, 0.010389789994115797, 0.009888944171138007, 0.011210307744021052, 0.011289038205250224, 0.00822670585889819]}, {\"marker\": {\"color\": \"black\", \"size\": 16, \"symbol\": \"x\"}, \"mode\": \"lines\", \"name\": \"Stimulus Package #1 Approved by Senate\", \"showlegend\": false, \"type\": \"scatter\", \"x\": [\"2020-03-23\", \"2020-03-23\", \"2020-03-23\", \"2020-03-23\", \"2020-03-23\", \"2020-03-23\", \"2020-03-23\", \"2020-03-23\", \"2020-03-23\", \"2020-03-23\", \"2020-03-23\", \"2020-03-23\", \"2020-03-23\", \"2020-03-23\", \"2020-03-23\", \"2020-03-23\", \"2020-03-23\", \"2020-03-23\", \"2020-03-23\", \"2020-03-23\", \"2020-03-23\", \"2020-03-23\", \"2020-03-23\", \"2020-03-23\", \"2020-03-23\", \"2020-03-23\", \"2020-03-23\", \"2020-03-23\", \"2020-03-23\", \"2020-03-23\", \"2020-03-23\", \"2020-03-23\", \"2020-03-23\", \"2020-03-23\", \"2020-03-23\", \"2020-03-23\", \"2020-03-23\", \"2020-03-23\", \"2020-03-23\", \"2020-03-23\", \"2020-03-23\", \"2020-03-23\", \"2020-03-23\", \"2020-03-23\", \"2020-03-23\", \"2020-03-23\", \"2020-03-23\", \"2020-03-23\", \"2020-03-23\", \"2020-03-23\"], \"y\": [-0.005153959635216126, -0.0036547634207101188, -0.0021555672062041112, -0.0006563709916981037, 0.0008428252228079034, 0.0023420214373139105, 0.0038412176518199184, 0.005340413866325925, 0.006839610080831933, 0.00833880629533794, 0.009838002509843947, 0.011337198724349955, 0.012836394938855963, 0.01433559115336197, 0.015834787367867975, 0.017333983582373983, 0.01883317979687999, 0.020332376011386, 0.021831572225892007, 0.02333076844039801, 0.02482996465490402, 0.02632916086941003, 0.027828357083916035, 0.02932755329842204, 0.03082674951292805, 0.03232594572743405, 0.03382514194194007, 0.035324338156446075, 0.03682353437095208, 0.038322730585458084, 0.03982192679996409, 0.04132112301447011, 0.04282031922897611, 0.044319515443482116, 0.04581871165798812, 0.047317907872494125, 0.04881710408700014, 0.05031630030150615, 0.05181549651601215, 0.05331469273051816, 0.05481388894502416, 0.05631308515953018, 0.057812281374036184, 0.05931147758854219, 0.06081067380304819, 0.0623098700175542, 0.0638090662320602, 0.06530826244656622, 0.06680745866107222, 0.06830665487557823]}, {\"marker\": {\"color\": \"black\", \"size\": 16, \"symbol\": \"x\"}, \"mode\": \"lines\", \"name\": \"US State of Emergency\", \"showlegend\": false, \"type\": \"scatter\", \"x\": [\"2020-03-10\", \"2020-03-10\", \"2020-03-10\", \"2020-03-10\", \"2020-03-10\", \"2020-03-10\", \"2020-03-10\", \"2020-03-10\", \"2020-03-10\", \"2020-03-10\", \"2020-03-10\", \"2020-03-10\", \"2020-03-10\", \"2020-03-10\", \"2020-03-10\", \"2020-03-10\", \"2020-03-10\", \"2020-03-10\", \"2020-03-10\", \"2020-03-10\", \"2020-03-10\", \"2020-03-10\", \"2020-03-10\", \"2020-03-10\", \"2020-03-10\", \"2020-03-10\", \"2020-03-10\", \"2020-03-10\", \"2020-03-10\", \"2020-03-10\", \"2020-03-10\", \"2020-03-10\", \"2020-03-10\", \"2020-03-10\", \"2020-03-10\", \"2020-03-10\", \"2020-03-10\", \"2020-03-10\", \"2020-03-10\", \"2020-03-10\", \"2020-03-10\", \"2020-03-10\", \"2020-03-10\", \"2020-03-10\", \"2020-03-10\", \"2020-03-10\", \"2020-03-10\", \"2020-03-10\", \"2020-03-10\", \"2020-03-10\"], \"y\": [-0.005153959635216126, -0.0036547634207101188, -0.0021555672062041112, -0.0006563709916981037, 0.0008428252228079034, 0.0023420214373139105, 0.0038412176518199184, 0.005340413866325925, 0.006839610080831933, 0.00833880629533794, 0.009838002509843947, 0.011337198724349955, 0.012836394938855963, 0.01433559115336197, 0.015834787367867975, 0.017333983582373983, 0.01883317979687999, 0.020332376011386, 0.021831572225892007, 0.02333076844039801, 0.02482996465490402, 0.02632916086941003, 0.027828357083916035, 0.02932755329842204, 0.03082674951292805, 0.03232594572743405, 0.03382514194194007, 0.035324338156446075, 0.03682353437095208, 0.038322730585458084, 0.03982192679996409, 0.04132112301447011, 0.04282031922897611, 0.044319515443482116, 0.04581871165798812, 0.047317907872494125, 0.04881710408700014, 0.05031630030150615, 0.05181549651601215, 0.05331469273051816, 0.05481388894502416, 0.05631308515953018, 0.057812281374036184, 0.05931147758854219, 0.06081067380304819, 0.0623098700175542, 0.0638090662320602, 0.06530826244656622, 0.06680745866107222, 0.06830665487557823]}],                        {\"annotations\": [{\"arrowhead\": 1, \"showarrow\": true, \"text\": \"Stimulus Package #1 Approved by Senate\", \"x\": \"2020-03-23\", \"y\": 0.0653478907860626}, {\"arrowhead\": 1, \"showarrow\": true, \"text\": \"US State of Emergency\", \"x\": \"2020-03-10\", \"y\": 0.0653478907860626}], \"font\": {\"size\": 15}, \"legend\": {\"title\": {\"text\": \"state\"}, \"tracegroupgap\": 0}, \"margin\": {\"t\": 60}, \"template\": {\"data\": {\"bar\": [{\"error_x\": {\"color\": \"#2a3f5f\"}, \"error_y\": {\"color\": \"#2a3f5f\"}, \"marker\": {\"line\": {\"color\": \"white\", \"width\": 0.5}}, \"type\": \"bar\"}], \"barpolar\": [{\"marker\": {\"line\": {\"color\": \"white\", \"width\": 0.5}}, \"type\": \"barpolar\"}], \"carpet\": [{\"aaxis\": {\"endlinecolor\": \"#2a3f5f\", \"gridcolor\": \"#C8D4E3\", \"linecolor\": \"#C8D4E3\", \"minorgridcolor\": \"#C8D4E3\", \"startlinecolor\": \"#2a3f5f\"}, \"baxis\": {\"endlinecolor\": \"#2a3f5f\", \"gridcolor\": \"#C8D4E3\", \"linecolor\": \"#C8D4E3\", \"minorgridcolor\": \"#C8D4E3\", \"startlinecolor\": \"#2a3f5f\"}, \"type\": \"carpet\"}], \"choropleth\": [{\"colorbar\": {\"outlinewidth\": 0, \"ticks\": \"\"}, \"type\": \"choropleth\"}], \"contour\": [{\"colorbar\": {\"outlinewidth\": 0, \"ticks\": \"\"}, \"colorscale\": [[0.0, \"#0d0887\"], [0.1111111111111111, \"#46039f\"], [0.2222222222222222, \"#7201a8\"], [0.3333333333333333, \"#9c179e\"], [0.4444444444444444, \"#bd3786\"], [0.5555555555555556, \"#d8576b\"], [0.6666666666666666, \"#ed7953\"], [0.7777777777777778, \"#fb9f3a\"], [0.8888888888888888, \"#fdca26\"], [1.0, \"#f0f921\"]], \"type\": \"contour\"}], \"contourcarpet\": [{\"colorbar\": {\"outlinewidth\": 0, \"ticks\": \"\"}, \"type\": \"contourcarpet\"}], \"heatmap\": [{\"colorbar\": {\"outlinewidth\": 0, \"ticks\": \"\"}, \"colorscale\": [[0.0, \"#0d0887\"], [0.1111111111111111, \"#46039f\"], [0.2222222222222222, \"#7201a8\"], [0.3333333333333333, \"#9c179e\"], [0.4444444444444444, \"#bd3786\"], [0.5555555555555556, \"#d8576b\"], [0.6666666666666666, \"#ed7953\"], [0.7777777777777778, \"#fb9f3a\"], [0.8888888888888888, \"#fdca26\"], [1.0, \"#f0f921\"]], \"type\": \"heatmap\"}], \"heatmapgl\": [{\"colorbar\": {\"outlinewidth\": 0, \"ticks\": \"\"}, \"colorscale\": [[0.0, \"#0d0887\"], [0.1111111111111111, \"#46039f\"], [0.2222222222222222, \"#7201a8\"], [0.3333333333333333, \"#9c179e\"], [0.4444444444444444, \"#bd3786\"], [0.5555555555555556, \"#d8576b\"], [0.6666666666666666, \"#ed7953\"], [0.7777777777777778, \"#fb9f3a\"], [0.8888888888888888, \"#fdca26\"], [1.0, \"#f0f921\"]], \"type\": \"heatmapgl\"}], \"histogram\": [{\"marker\": {\"colorbar\": {\"outlinewidth\": 0, \"ticks\": \"\"}}, \"type\": \"histogram\"}], \"histogram2d\": [{\"colorbar\": {\"outlinewidth\": 0, \"ticks\": \"\"}, \"colorscale\": [[0.0, \"#0d0887\"], [0.1111111111111111, \"#46039f\"], [0.2222222222222222, \"#7201a8\"], [0.3333333333333333, \"#9c179e\"], [0.4444444444444444, \"#bd3786\"], [0.5555555555555556, \"#d8576b\"], [0.6666666666666666, \"#ed7953\"], [0.7777777777777778, \"#fb9f3a\"], [0.8888888888888888, \"#fdca26\"], [1.0, \"#f0f921\"]], \"type\": \"histogram2d\"}], \"histogram2dcontour\": [{\"colorbar\": {\"outlinewidth\": 0, \"ticks\": \"\"}, \"colorscale\": [[0.0, \"#0d0887\"], [0.1111111111111111, \"#46039f\"], [0.2222222222222222, \"#7201a8\"], [0.3333333333333333, \"#9c179e\"], [0.4444444444444444, \"#bd3786\"], [0.5555555555555556, \"#d8576b\"], [0.6666666666666666, \"#ed7953\"], [0.7777777777777778, \"#fb9f3a\"], [0.8888888888888888, \"#fdca26\"], [1.0, \"#f0f921\"]], \"type\": \"histogram2dcontour\"}], \"mesh3d\": [{\"colorbar\": {\"outlinewidth\": 0, \"ticks\": \"\"}, \"type\": \"mesh3d\"}], \"parcoords\": [{\"line\": {\"colorbar\": {\"outlinewidth\": 0, \"ticks\": \"\"}}, \"type\": \"parcoords\"}], \"pie\": [{\"automargin\": true, \"type\": \"pie\"}], \"scatter\": [{\"marker\": {\"colorbar\": {\"outlinewidth\": 0, \"ticks\": \"\"}}, \"type\": \"scatter\"}], \"scatter3d\": [{\"line\": {\"colorbar\": {\"outlinewidth\": 0, \"ticks\": \"\"}}, \"marker\": {\"colorbar\": {\"outlinewidth\": 0, \"ticks\": \"\"}}, \"type\": \"scatter3d\"}], \"scattercarpet\": [{\"marker\": {\"colorbar\": {\"outlinewidth\": 0, \"ticks\": \"\"}}, \"type\": \"scattercarpet\"}], \"scattergeo\": [{\"marker\": {\"colorbar\": {\"outlinewidth\": 0, \"ticks\": \"\"}}, \"type\": \"scattergeo\"}], \"scattergl\": [{\"marker\": {\"colorbar\": {\"outlinewidth\": 0, \"ticks\": \"\"}}, \"type\": \"scattergl\"}], \"scattermapbox\": [{\"marker\": {\"colorbar\": {\"outlinewidth\": 0, \"ticks\": \"\"}}, \"type\": \"scattermapbox\"}], \"scatterpolar\": [{\"marker\": {\"colorbar\": {\"outlinewidth\": 0, \"ticks\": \"\"}}, \"type\": \"scatterpolar\"}], \"scatterpolargl\": [{\"marker\": {\"colorbar\": {\"outlinewidth\": 0, \"ticks\": \"\"}}, \"type\": \"scatterpolargl\"}], \"scatterternary\": [{\"marker\": {\"colorbar\": {\"outlinewidth\": 0, \"ticks\": \"\"}}, \"type\": \"scatterternary\"}], \"surface\": [{\"colorbar\": {\"outlinewidth\": 0, \"ticks\": \"\"}, \"colorscale\": [[0.0, \"#0d0887\"], [0.1111111111111111, \"#46039f\"], [0.2222222222222222, \"#7201a8\"], [0.3333333333333333, \"#9c179e\"], [0.4444444444444444, \"#bd3786\"], [0.5555555555555556, \"#d8576b\"], [0.6666666666666666, \"#ed7953\"], [0.7777777777777778, \"#fb9f3a\"], [0.8888888888888888, \"#fdca26\"], [1.0, \"#f0f921\"]], \"type\": \"surface\"}], \"table\": [{\"cells\": {\"fill\": {\"color\": \"#EBF0F8\"}, \"line\": {\"color\": \"white\"}}, \"header\": {\"fill\": {\"color\": \"#C8D4E3\"}, \"line\": {\"color\": \"white\"}}, \"type\": \"table\"}]}, \"layout\": {\"annotationdefaults\": {\"arrowcolor\": \"#2a3f5f\", \"arrowhead\": 0, \"arrowwidth\": 1}, \"coloraxis\": {\"colorbar\": {\"outlinewidth\": 0, \"ticks\": \"\"}}, \"colorscale\": {\"diverging\": [[0, \"#8e0152\"], [0.1, \"#c51b7d\"], [0.2, \"#de77ae\"], [0.3, \"#f1b6da\"], [0.4, \"#fde0ef\"], [0.5, \"#f7f7f7\"], [0.6, \"#e6f5d0\"], [0.7, \"#b8e186\"], [0.8, \"#7fbc41\"], [0.9, \"#4d9221\"], [1, \"#276419\"]], \"sequential\": [[0.0, \"#0d0887\"], [0.1111111111111111, \"#46039f\"], [0.2222222222222222, \"#7201a8\"], [0.3333333333333333, \"#9c179e\"], [0.4444444444444444, \"#bd3786\"], [0.5555555555555556, \"#d8576b\"], [0.6666666666666666, \"#ed7953\"], [0.7777777777777778, \"#fb9f3a\"], [0.8888888888888888, \"#fdca26\"], [1.0, \"#f0f921\"]], \"sequentialminus\": [[0.0, \"#0d0887\"], [0.1111111111111111, \"#46039f\"], [0.2222222222222222, \"#7201a8\"], [0.3333333333333333, \"#9c179e\"], [0.4444444444444444, \"#bd3786\"], [0.5555555555555556, \"#d8576b\"], [0.6666666666666666, \"#ed7953\"], [0.7777777777777778, \"#fb9f3a\"], [0.8888888888888888, \"#fdca26\"], [1.0, \"#f0f921\"]]}, \"colorway\": [\"#636efa\", \"#EF553B\", \"#00cc96\", \"#ab63fa\", \"#FFA15A\", \"#19d3f3\", \"#FF6692\", \"#B6E880\", \"#FF97FF\", \"#FECB52\"], \"font\": {\"color\": \"#2a3f5f\"}, \"geo\": {\"bgcolor\": \"white\", \"lakecolor\": \"white\", \"landcolor\": \"white\", \"showlakes\": true, \"showland\": true, \"subunitcolor\": \"#C8D4E3\"}, \"hoverlabel\": {\"align\": \"left\"}, \"hovermode\": \"closest\", \"mapbox\": {\"style\": \"light\"}, \"paper_bgcolor\": \"white\", \"plot_bgcolor\": \"white\", \"polar\": {\"angularaxis\": {\"gridcolor\": \"#EBF0F8\", \"linecolor\": \"#EBF0F8\", \"ticks\": \"\"}, \"bgcolor\": \"white\", \"radialaxis\": {\"gridcolor\": \"#EBF0F8\", \"linecolor\": \"#EBF0F8\", \"ticks\": \"\"}}, \"scene\": {\"xaxis\": {\"backgroundcolor\": \"white\", \"gridcolor\": \"#DFE8F3\", \"gridwidth\": 2, \"linecolor\": \"#EBF0F8\", \"showbackground\": true, \"ticks\": \"\", \"zerolinecolor\": \"#EBF0F8\"}, \"yaxis\": {\"backgroundcolor\": \"white\", \"gridcolor\": \"#DFE8F3\", \"gridwidth\": 2, \"linecolor\": \"#EBF0F8\", \"showbackground\": true, \"ticks\": \"\", \"zerolinecolor\": \"#EBF0F8\"}, \"zaxis\": {\"backgroundcolor\": \"white\", \"gridcolor\": \"#DFE8F3\", \"gridwidth\": 2, \"linecolor\": \"#EBF0F8\", \"showbackground\": true, \"ticks\": \"\", \"zerolinecolor\": \"#EBF0F8\"}}, \"shapedefaults\": {\"line\": {\"color\": \"#2a3f5f\"}}, \"ternary\": {\"aaxis\": {\"gridcolor\": \"#DFE8F3\", \"linecolor\": \"#A2B1C6\", \"ticks\": \"\"}, \"baxis\": {\"gridcolor\": \"#DFE8F3\", \"linecolor\": \"#A2B1C6\", \"ticks\": \"\"}, \"bgcolor\": \"white\", \"caxis\": {\"gridcolor\": \"#DFE8F3\", \"linecolor\": \"#A2B1C6\", \"ticks\": \"\"}}, \"title\": {\"x\": 0.05}, \"xaxis\": {\"automargin\": true, \"gridcolor\": \"#EBF0F8\", \"linecolor\": \"#EBF0F8\", \"ticks\": \"\", \"title\": {\"standoff\": 15}, \"zerolinecolor\": \"#EBF0F8\", \"zerolinewidth\": 2}, \"yaxis\": {\"automargin\": true, \"gridcolor\": \"#EBF0F8\", \"linecolor\": \"#EBF0F8\", \"ticks\": \"\", \"title\": {\"standoff\": 15}, \"zerolinecolor\": \"#EBF0F8\", \"zerolinewidth\": 2}}}, \"title\": {\"text\": \"\"}, \"xaxis\": {\"anchor\": \"y\", \"domain\": [0.0, 1.0], \"title\": {\"text\": \"Date\"}}, \"yaxis\": {\"anchor\": \"x\", \"domain\": [0.0, 1.0], \"title\": {\"text\": \"CLAWS Task: Hate Probability\"}}},                        {\"responsive\": true}                    ).then(function(){\n",
       "                            \n",
       "var gd = document.getElementById('43c62ab5-eff2-4dd6-a3ff-3fe690a3c167');\n",
       "var x = new MutationObserver(function (mutations, observer) {{\n",
       "        var display = window.getComputedStyle(gd).display;\n",
       "        if (!display || display === 'none') {{\n",
       "            console.log([gd, 'removed!']);\n",
       "            Plotly.purge(gd);\n",
       "            observer.disconnect();\n",
       "        }}\n",
       "}});\n",
       "\n",
       "// Listen for the removal of the full notebook cells\n",
       "var notebookContainer = gd.closest('#notebook-container');\n",
       "if (notebookContainer) {{\n",
       "    x.observe(notebookContainer, {childList: true});\n",
       "}}\n",
       "\n",
       "// Listen for the clearing of the current output cell\n",
       "var outputEl = gd.closest('.output');\n",
       "if (outputEl) {{\n",
       "    x.observe(outputEl, {childList: true});\n",
       "}}\n",
       "\n",
       "                        })                };                });            </script>        </div>"
      ]
     },
     "metadata": {},
     "output_type": "display_data"
    }
   ],
   "source": [
    "tmp_df = tmp_dfs['per_state_mean'].copy()\n",
    "tmp_df = tmp_df[tmp_df.state.isin(['CA', 'NY', 'WA', 'NJ'])]\n",
    "event = important_events[2]\n",
    "fig = get_go_figure(\n",
    "    tmp_df=tmp_df, \n",
    "    events=[event, important_events[3]],\n",
    "    half_window_days=15,\n",
    "    y='hate_prob', \n",
    "    title='', \n",
    "    resolution='state',\n",
    "    mode='markers+lines', \n",
    "    line= (dict(dash='dash'), dict())\n",
    ")\n",
    "fig.layout.font.size=15\n",
    "fig.show()"
   ]
  },
  {
   "cell_type": "code",
   "execution_count": 28,
   "metadata": {},
   "outputs": [],
   "source": [
    "fig.write_image('trajectories/hateprob_in_onset_and_stimulus.pdf', width=1500, height=500)"
   ]
  },
  {
   "cell_type": "code",
   "execution_count": null,
   "metadata": {},
   "outputs": [],
   "source": []
  },
  {
   "cell_type": "code",
   "execution_count": null,
   "metadata": {},
   "outputs": [],
   "source": []
  },
  {
   "cell_type": "code",
   "execution_count": null,
   "metadata": {},
   "outputs": [],
   "source": [
    "tmp_df = df.sort_values(by=['<covid_report>_count'], ascending=False).copy()"
   ]
  },
  {
   "cell_type": "code",
   "execution_count": null,
   "metadata": {},
   "outputs": [],
   "source": [
    "tmp_df.iloc[11]['<covid_report>']"
   ]
  },
  {
   "cell_type": "code",
   "execution_count": null,
   "metadata": {},
   "outputs": [],
   "source": [
    "tmp_df.iloc[11]['tweet']"
   ]
  },
  {
   "cell_type": "markdown",
   "metadata": {},
   "source": [
    "## Trajectories"
   ]
  },
  {
   "cell_type": "code",
   "execution_count": 46,
   "metadata": {},
   "outputs": [
    {
     "data": {
      "application/vnd.plotly.v1+json": {
       "config": {
        "plotlyServerURL": "https://plot.ly"
       },
       "data": [
        {
         "alignmentgroup": "True",
         "hovertemplate": "month=%{x}<br>Number of Tweets=%{y}<extra></extra>",
         "legendgroup": "",
         "marker": {
          "color": "#636efa"
         },
         "name": "",
         "offsetgroup": "",
         "orientation": "v",
         "showlegend": false,
         "textposition": "auto",
         "type": "bar",
         "x": [
          "2020-01-01",
          "2020-02-01",
          "2020-03-01",
          "2020-04-01",
          "2020-05-01",
          "2020-06-01",
          "2020-07-01",
          "2020-08-01",
          "2020-09-01",
          "2020-10-01"
         ],
         "xaxis": "x",
         "y": [
          16371,
          61721,
          1041834,
          862041,
          460504,
          267927,
          353865,
          237445,
          203232,
          1458
         ],
         "yaxis": "y"
        }
       ],
       "layout": {
        "autosize": true,
        "barmode": "relative",
        "font": {
         "size": 15
        },
        "legend": {
         "tracegroupgap": 0
        },
        "margin": {
         "t": 60
        },
        "template": {
         "data": {
          "bar": [
           {
            "error_x": {
             "color": "#2a3f5f"
            },
            "error_y": {
             "color": "#2a3f5f"
            },
            "marker": {
             "line": {
              "color": "white",
              "width": 0.5
             }
            },
            "type": "bar"
           }
          ],
          "barpolar": [
           {
            "marker": {
             "line": {
              "color": "white",
              "width": 0.5
             }
            },
            "type": "barpolar"
           }
          ],
          "carpet": [
           {
            "aaxis": {
             "endlinecolor": "#2a3f5f",
             "gridcolor": "#C8D4E3",
             "linecolor": "#C8D4E3",
             "minorgridcolor": "#C8D4E3",
             "startlinecolor": "#2a3f5f"
            },
            "baxis": {
             "endlinecolor": "#2a3f5f",
             "gridcolor": "#C8D4E3",
             "linecolor": "#C8D4E3",
             "minorgridcolor": "#C8D4E3",
             "startlinecolor": "#2a3f5f"
            },
            "type": "carpet"
           }
          ],
          "choropleth": [
           {
            "colorbar": {
             "outlinewidth": 0,
             "ticks": ""
            },
            "type": "choropleth"
           }
          ],
          "contour": [
           {
            "colorbar": {
             "outlinewidth": 0,
             "ticks": ""
            },
            "colorscale": [
             [
              0,
              "#0d0887"
             ],
             [
              0.1111111111111111,
              "#46039f"
             ],
             [
              0.2222222222222222,
              "#7201a8"
             ],
             [
              0.3333333333333333,
              "#9c179e"
             ],
             [
              0.4444444444444444,
              "#bd3786"
             ],
             [
              0.5555555555555556,
              "#d8576b"
             ],
             [
              0.6666666666666666,
              "#ed7953"
             ],
             [
              0.7777777777777778,
              "#fb9f3a"
             ],
             [
              0.8888888888888888,
              "#fdca26"
             ],
             [
              1,
              "#f0f921"
             ]
            ],
            "type": "contour"
           }
          ],
          "contourcarpet": [
           {
            "colorbar": {
             "outlinewidth": 0,
             "ticks": ""
            },
            "type": "contourcarpet"
           }
          ],
          "heatmap": [
           {
            "colorbar": {
             "outlinewidth": 0,
             "ticks": ""
            },
            "colorscale": [
             [
              0,
              "#0d0887"
             ],
             [
              0.1111111111111111,
              "#46039f"
             ],
             [
              0.2222222222222222,
              "#7201a8"
             ],
             [
              0.3333333333333333,
              "#9c179e"
             ],
             [
              0.4444444444444444,
              "#bd3786"
             ],
             [
              0.5555555555555556,
              "#d8576b"
             ],
             [
              0.6666666666666666,
              "#ed7953"
             ],
             [
              0.7777777777777778,
              "#fb9f3a"
             ],
             [
              0.8888888888888888,
              "#fdca26"
             ],
             [
              1,
              "#f0f921"
             ]
            ],
            "type": "heatmap"
           }
          ],
          "heatmapgl": [
           {
            "colorbar": {
             "outlinewidth": 0,
             "ticks": ""
            },
            "colorscale": [
             [
              0,
              "#0d0887"
             ],
             [
              0.1111111111111111,
              "#46039f"
             ],
             [
              0.2222222222222222,
              "#7201a8"
             ],
             [
              0.3333333333333333,
              "#9c179e"
             ],
             [
              0.4444444444444444,
              "#bd3786"
             ],
             [
              0.5555555555555556,
              "#d8576b"
             ],
             [
              0.6666666666666666,
              "#ed7953"
             ],
             [
              0.7777777777777778,
              "#fb9f3a"
             ],
             [
              0.8888888888888888,
              "#fdca26"
             ],
             [
              1,
              "#f0f921"
             ]
            ],
            "type": "heatmapgl"
           }
          ],
          "histogram": [
           {
            "marker": {
             "colorbar": {
              "outlinewidth": 0,
              "ticks": ""
             }
            },
            "type": "histogram"
           }
          ],
          "histogram2d": [
           {
            "colorbar": {
             "outlinewidth": 0,
             "ticks": ""
            },
            "colorscale": [
             [
              0,
              "#0d0887"
             ],
             [
              0.1111111111111111,
              "#46039f"
             ],
             [
              0.2222222222222222,
              "#7201a8"
             ],
             [
              0.3333333333333333,
              "#9c179e"
             ],
             [
              0.4444444444444444,
              "#bd3786"
             ],
             [
              0.5555555555555556,
              "#d8576b"
             ],
             [
              0.6666666666666666,
              "#ed7953"
             ],
             [
              0.7777777777777778,
              "#fb9f3a"
             ],
             [
              0.8888888888888888,
              "#fdca26"
             ],
             [
              1,
              "#f0f921"
             ]
            ],
            "type": "histogram2d"
           }
          ],
          "histogram2dcontour": [
           {
            "colorbar": {
             "outlinewidth": 0,
             "ticks": ""
            },
            "colorscale": [
             [
              0,
              "#0d0887"
             ],
             [
              0.1111111111111111,
              "#46039f"
             ],
             [
              0.2222222222222222,
              "#7201a8"
             ],
             [
              0.3333333333333333,
              "#9c179e"
             ],
             [
              0.4444444444444444,
              "#bd3786"
             ],
             [
              0.5555555555555556,
              "#d8576b"
             ],
             [
              0.6666666666666666,
              "#ed7953"
             ],
             [
              0.7777777777777778,
              "#fb9f3a"
             ],
             [
              0.8888888888888888,
              "#fdca26"
             ],
             [
              1,
              "#f0f921"
             ]
            ],
            "type": "histogram2dcontour"
           }
          ],
          "mesh3d": [
           {
            "colorbar": {
             "outlinewidth": 0,
             "ticks": ""
            },
            "type": "mesh3d"
           }
          ],
          "parcoords": [
           {
            "line": {
             "colorbar": {
              "outlinewidth": 0,
              "ticks": ""
             }
            },
            "type": "parcoords"
           }
          ],
          "pie": [
           {
            "automargin": true,
            "type": "pie"
           }
          ],
          "scatter": [
           {
            "marker": {
             "colorbar": {
              "outlinewidth": 0,
              "ticks": ""
             }
            },
            "type": "scatter"
           }
          ],
          "scatter3d": [
           {
            "line": {
             "colorbar": {
              "outlinewidth": 0,
              "ticks": ""
             }
            },
            "marker": {
             "colorbar": {
              "outlinewidth": 0,
              "ticks": ""
             }
            },
            "type": "scatter3d"
           }
          ],
          "scattercarpet": [
           {
            "marker": {
             "colorbar": {
              "outlinewidth": 0,
              "ticks": ""
             }
            },
            "type": "scattercarpet"
           }
          ],
          "scattergeo": [
           {
            "marker": {
             "colorbar": {
              "outlinewidth": 0,
              "ticks": ""
             }
            },
            "type": "scattergeo"
           }
          ],
          "scattergl": [
           {
            "marker": {
             "colorbar": {
              "outlinewidth": 0,
              "ticks": ""
             }
            },
            "type": "scattergl"
           }
          ],
          "scattermapbox": [
           {
            "marker": {
             "colorbar": {
              "outlinewidth": 0,
              "ticks": ""
             }
            },
            "type": "scattermapbox"
           }
          ],
          "scatterpolar": [
           {
            "marker": {
             "colorbar": {
              "outlinewidth": 0,
              "ticks": ""
             }
            },
            "type": "scatterpolar"
           }
          ],
          "scatterpolargl": [
           {
            "marker": {
             "colorbar": {
              "outlinewidth": 0,
              "ticks": ""
             }
            },
            "type": "scatterpolargl"
           }
          ],
          "scatterternary": [
           {
            "marker": {
             "colorbar": {
              "outlinewidth": 0,
              "ticks": ""
             }
            },
            "type": "scatterternary"
           }
          ],
          "surface": [
           {
            "colorbar": {
             "outlinewidth": 0,
             "ticks": ""
            },
            "colorscale": [
             [
              0,
              "#0d0887"
             ],
             [
              0.1111111111111111,
              "#46039f"
             ],
             [
              0.2222222222222222,
              "#7201a8"
             ],
             [
              0.3333333333333333,
              "#9c179e"
             ],
             [
              0.4444444444444444,
              "#bd3786"
             ],
             [
              0.5555555555555556,
              "#d8576b"
             ],
             [
              0.6666666666666666,
              "#ed7953"
             ],
             [
              0.7777777777777778,
              "#fb9f3a"
             ],
             [
              0.8888888888888888,
              "#fdca26"
             ],
             [
              1,
              "#f0f921"
             ]
            ],
            "type": "surface"
           }
          ],
          "table": [
           {
            "cells": {
             "fill": {
              "color": "#EBF0F8"
             },
             "line": {
              "color": "white"
             }
            },
            "header": {
             "fill": {
              "color": "#C8D4E3"
             },
             "line": {
              "color": "white"
             }
            },
            "type": "table"
           }
          ]
         },
         "layout": {
          "annotationdefaults": {
           "arrowcolor": "#2a3f5f",
           "arrowhead": 0,
           "arrowwidth": 1
          },
          "coloraxis": {
           "colorbar": {
            "outlinewidth": 0,
            "ticks": ""
           }
          },
          "colorscale": {
           "diverging": [
            [
             0,
             "#8e0152"
            ],
            [
             0.1,
             "#c51b7d"
            ],
            [
             0.2,
             "#de77ae"
            ],
            [
             0.3,
             "#f1b6da"
            ],
            [
             0.4,
             "#fde0ef"
            ],
            [
             0.5,
             "#f7f7f7"
            ],
            [
             0.6,
             "#e6f5d0"
            ],
            [
             0.7,
             "#b8e186"
            ],
            [
             0.8,
             "#7fbc41"
            ],
            [
             0.9,
             "#4d9221"
            ],
            [
             1,
             "#276419"
            ]
           ],
           "sequential": [
            [
             0,
             "#0d0887"
            ],
            [
             0.1111111111111111,
             "#46039f"
            ],
            [
             0.2222222222222222,
             "#7201a8"
            ],
            [
             0.3333333333333333,
             "#9c179e"
            ],
            [
             0.4444444444444444,
             "#bd3786"
            ],
            [
             0.5555555555555556,
             "#d8576b"
            ],
            [
             0.6666666666666666,
             "#ed7953"
            ],
            [
             0.7777777777777778,
             "#fb9f3a"
            ],
            [
             0.8888888888888888,
             "#fdca26"
            ],
            [
             1,
             "#f0f921"
            ]
           ],
           "sequentialminus": [
            [
             0,
             "#0d0887"
            ],
            [
             0.1111111111111111,
             "#46039f"
            ],
            [
             0.2222222222222222,
             "#7201a8"
            ],
            [
             0.3333333333333333,
             "#9c179e"
            ],
            [
             0.4444444444444444,
             "#bd3786"
            ],
            [
             0.5555555555555556,
             "#d8576b"
            ],
            [
             0.6666666666666666,
             "#ed7953"
            ],
            [
             0.7777777777777778,
             "#fb9f3a"
            ],
            [
             0.8888888888888888,
             "#fdca26"
            ],
            [
             1,
             "#f0f921"
            ]
           ]
          },
          "colorway": [
           "#636efa",
           "#EF553B",
           "#00cc96",
           "#ab63fa",
           "#FFA15A",
           "#19d3f3",
           "#FF6692",
           "#B6E880",
           "#FF97FF",
           "#FECB52"
          ],
          "font": {
           "color": "#2a3f5f"
          },
          "geo": {
           "bgcolor": "white",
           "lakecolor": "white",
           "landcolor": "white",
           "showlakes": true,
           "showland": true,
           "subunitcolor": "#C8D4E3"
          },
          "hoverlabel": {
           "align": "left"
          },
          "hovermode": "closest",
          "mapbox": {
           "style": "light"
          },
          "paper_bgcolor": "white",
          "plot_bgcolor": "white",
          "polar": {
           "angularaxis": {
            "gridcolor": "#EBF0F8",
            "linecolor": "#EBF0F8",
            "ticks": ""
           },
           "bgcolor": "white",
           "radialaxis": {
            "gridcolor": "#EBF0F8",
            "linecolor": "#EBF0F8",
            "ticks": ""
           }
          },
          "scene": {
           "xaxis": {
            "backgroundcolor": "white",
            "gridcolor": "#DFE8F3",
            "gridwidth": 2,
            "linecolor": "#EBF0F8",
            "showbackground": true,
            "ticks": "",
            "zerolinecolor": "#EBF0F8"
           },
           "yaxis": {
            "backgroundcolor": "white",
            "gridcolor": "#DFE8F3",
            "gridwidth": 2,
            "linecolor": "#EBF0F8",
            "showbackground": true,
            "ticks": "",
            "zerolinecolor": "#EBF0F8"
           },
           "zaxis": {
            "backgroundcolor": "white",
            "gridcolor": "#DFE8F3",
            "gridwidth": 2,
            "linecolor": "#EBF0F8",
            "showbackground": true,
            "ticks": "",
            "zerolinecolor": "#EBF0F8"
           }
          },
          "shapedefaults": {
           "line": {
            "color": "#2a3f5f"
           }
          },
          "ternary": {
           "aaxis": {
            "gridcolor": "#DFE8F3",
            "linecolor": "#A2B1C6",
            "ticks": ""
           },
           "baxis": {
            "gridcolor": "#DFE8F3",
            "linecolor": "#A2B1C6",
            "ticks": ""
           },
           "bgcolor": "white",
           "caxis": {
            "gridcolor": "#DFE8F3",
            "linecolor": "#A2B1C6",
            "ticks": ""
           }
          },
          "title": {
           "x": 0.05
          },
          "xaxis": {
           "automargin": true,
           "gridcolor": "#EBF0F8",
           "linecolor": "#EBF0F8",
           "ticks": "",
           "title": {
            "standoff": 15
           },
           "zerolinecolor": "#EBF0F8",
           "zerolinewidth": 2
          },
          "yaxis": {
           "automargin": true,
           "gridcolor": "#EBF0F8",
           "linecolor": "#EBF0F8",
           "ticks": "",
           "title": {
            "standoff": 15
           },
           "zerolinecolor": "#EBF0F8",
           "zerolinewidth": 2
          }
         }
        },
        "xaxis": {
         "anchor": "y",
         "autorange": true,
         "domain": [
          0,
          1
         ],
         "range": [
          "2019-12-17 12:00",
          "2020-10-15 12:00"
         ],
         "title": {
          "text": "Month"
         },
         "type": "date"
        },
        "yaxis": {
         "anchor": "x",
         "autorange": true,
         "domain": [
          0,
          1
         ],
         "range": [
          0,
          1096667.3684210526
         ],
         "title": {
          "text": "Number of Tweets"
         },
         "type": "linear"
        }
       }
      },
      "image/png": "[encoded data removed]",
      "text/html": [
       "<div>                            <div id=\"d3a2e51d-5aad-4e67-9852-ad4c3a1b5762\" class=\"plotly-graph-div\" style=\"height:525px; width:100%;\"></div>            <script type=\"text/javascript\">                require([\"plotly\"], function(Plotly) {                    window.PLOTLYENV=window.PLOTLYENV || {};                                    if (document.getElementById(\"d3a2e51d-5aad-4e67-9852-ad4c3a1b5762\")) {                    Plotly.newPlot(                        \"d3a2e51d-5aad-4e67-9852-ad4c3a1b5762\",                        [{\"alignmentgroup\": \"True\", \"hovertemplate\": \"month=%{x}<br>Number of Tweets=%{y}<extra></extra>\", \"legendgroup\": \"\", \"marker\": {\"color\": \"#636efa\"}, \"name\": \"\", \"offsetgroup\": \"\", \"orientation\": \"v\", \"showlegend\": false, \"textposition\": \"auto\", \"type\": \"bar\", \"x\": [\"2020-01-01\", \"2020-02-01\", \"2020-03-01\", \"2020-04-01\", \"2020-05-01\", \"2020-06-01\", \"2020-07-01\", \"2020-08-01\", \"2020-09-01\", \"2020-10-01\"], \"xaxis\": \"x\", \"y\": [16371, 61721, 1041834, 862041, 460504, 267927, 353865, 237445, 203232, 1458], \"yaxis\": \"y\"}],                        {\"barmode\": \"relative\", \"font\": {\"size\": 15}, \"legend\": {\"tracegroupgap\": 0}, \"margin\": {\"t\": 60}, \"template\": {\"data\": {\"bar\": [{\"error_x\": {\"color\": \"#2a3f5f\"}, \"error_y\": {\"color\": \"#2a3f5f\"}, \"marker\": {\"line\": {\"color\": \"white\", \"width\": 0.5}}, \"type\": \"bar\"}], \"barpolar\": [{\"marker\": {\"line\": {\"color\": \"white\", \"width\": 0.5}}, \"type\": \"barpolar\"}], \"carpet\": [{\"aaxis\": {\"endlinecolor\": \"#2a3f5f\", \"gridcolor\": \"#C8D4E3\", \"linecolor\": \"#C8D4E3\", \"minorgridcolor\": \"#C8D4E3\", \"startlinecolor\": \"#2a3f5f\"}, \"baxis\": {\"endlinecolor\": \"#2a3f5f\", \"gridcolor\": \"#C8D4E3\", \"linecolor\": \"#C8D4E3\", \"minorgridcolor\": \"#C8D4E3\", \"startlinecolor\": \"#2a3f5f\"}, \"type\": \"carpet\"}], \"choropleth\": [{\"colorbar\": {\"outlinewidth\": 0, \"ticks\": \"\"}, \"type\": \"choropleth\"}], \"contour\": [{\"colorbar\": {\"outlinewidth\": 0, \"ticks\": \"\"}, \"colorscale\": [[0.0, \"#0d0887\"], [0.1111111111111111, \"#46039f\"], [0.2222222222222222, \"#7201a8\"], [0.3333333333333333, \"#9c179e\"], [0.4444444444444444, \"#bd3786\"], [0.5555555555555556, \"#d8576b\"], [0.6666666666666666, \"#ed7953\"], [0.7777777777777778, \"#fb9f3a\"], [0.8888888888888888, \"#fdca26\"], [1.0, \"#f0f921\"]], \"type\": \"contour\"}], \"contourcarpet\": [{\"colorbar\": {\"outlinewidth\": 0, \"ticks\": \"\"}, \"type\": \"contourcarpet\"}], \"heatmap\": [{\"colorbar\": {\"outlinewidth\": 0, \"ticks\": \"\"}, \"colorscale\": [[0.0, \"#0d0887\"], [0.1111111111111111, \"#46039f\"], [0.2222222222222222, \"#7201a8\"], [0.3333333333333333, \"#9c179e\"], [0.4444444444444444, \"#bd3786\"], [0.5555555555555556, \"#d8576b\"], [0.6666666666666666, \"#ed7953\"], [0.7777777777777778, \"#fb9f3a\"], [0.8888888888888888, \"#fdca26\"], [1.0, \"#f0f921\"]], \"type\": \"heatmap\"}], \"heatmapgl\": [{\"colorbar\": {\"outlinewidth\": 0, \"ticks\": \"\"}, \"colorscale\": [[0.0, \"#0d0887\"], [0.1111111111111111, \"#46039f\"], [0.2222222222222222, \"#7201a8\"], [0.3333333333333333, \"#9c179e\"], [0.4444444444444444, \"#bd3786\"], [0.5555555555555556, \"#d8576b\"], [0.6666666666666666, \"#ed7953\"], [0.7777777777777778, \"#fb9f3a\"], [0.8888888888888888, \"#fdca26\"], [1.0, \"#f0f921\"]], \"type\": \"heatmapgl\"}], \"histogram\": [{\"marker\": {\"colorbar\": {\"outlinewidth\": 0, \"ticks\": \"\"}}, \"type\": \"histogram\"}], \"histogram2d\": [{\"colorbar\": {\"outlinewidth\": 0, \"ticks\": \"\"}, \"colorscale\": [[0.0, \"#0d0887\"], [0.1111111111111111, \"#46039f\"], [0.2222222222222222, \"#7201a8\"], [0.3333333333333333, \"#9c179e\"], [0.4444444444444444, \"#bd3786\"], [0.5555555555555556, \"#d8576b\"], [0.6666666666666666, \"#ed7953\"], [0.7777777777777778, \"#fb9f3a\"], [0.8888888888888888, \"#fdca26\"], [1.0, \"#f0f921\"]], \"type\": \"histogram2d\"}], \"histogram2dcontour\": [{\"colorbar\": {\"outlinewidth\": 0, \"ticks\": \"\"}, \"colorscale\": [[0.0, \"#0d0887\"], [0.1111111111111111, \"#46039f\"], [0.2222222222222222, \"#7201a8\"], [0.3333333333333333, \"#9c179e\"], [0.4444444444444444, \"#bd3786\"], [0.5555555555555556, \"#d8576b\"], [0.6666666666666666, \"#ed7953\"], [0.7777777777777778, \"#fb9f3a\"], [0.8888888888888888, \"#fdca26\"], [1.0, \"#f0f921\"]], \"type\": \"histogram2dcontour\"}], \"mesh3d\": [{\"colorbar\": {\"outlinewidth\": 0, \"ticks\": \"\"}, \"type\": \"mesh3d\"}], \"parcoords\": [{\"line\": {\"colorbar\": {\"outlinewidth\": 0, \"ticks\": \"\"}}, \"type\": \"parcoords\"}], \"pie\": [{\"automargin\": true, \"type\": \"pie\"}], \"scatter\": [{\"marker\": {\"colorbar\": {\"outlinewidth\": 0, \"ticks\": \"\"}}, \"type\": \"scatter\"}], \"scatter3d\": [{\"line\": {\"colorbar\": {\"outlinewidth\": 0, \"ticks\": \"\"}}, \"marker\": {\"colorbar\": {\"outlinewidth\": 0, \"ticks\": \"\"}}, \"type\": \"scatter3d\"}], \"scattercarpet\": [{\"marker\": {\"colorbar\": {\"outlinewidth\": 0, \"ticks\": \"\"}}, \"type\": \"scattercarpet\"}], \"scattergeo\": [{\"marker\": {\"colorbar\": {\"outlinewidth\": 0, \"ticks\": \"\"}}, \"type\": \"scattergeo\"}], \"scattergl\": [{\"marker\": {\"colorbar\": {\"outlinewidth\": 0, \"ticks\": \"\"}}, \"type\": \"scattergl\"}], \"scattermapbox\": [{\"marker\": {\"colorbar\": {\"outlinewidth\": 0, \"ticks\": \"\"}}, \"type\": \"scattermapbox\"}], \"scatterpolar\": [{\"marker\": {\"colorbar\": {\"outlinewidth\": 0, \"ticks\": \"\"}}, \"type\": \"scatterpolar\"}], \"scatterpolargl\": [{\"marker\": {\"colorbar\": {\"outlinewidth\": 0, \"ticks\": \"\"}}, \"type\": \"scatterpolargl\"}], \"scatterternary\": [{\"marker\": {\"colorbar\": {\"outlinewidth\": 0, \"ticks\": \"\"}}, \"type\": \"scatterternary\"}], \"surface\": [{\"colorbar\": {\"outlinewidth\": 0, \"ticks\": \"\"}, \"colorscale\": [[0.0, \"#0d0887\"], [0.1111111111111111, \"#46039f\"], [0.2222222222222222, \"#7201a8\"], [0.3333333333333333, \"#9c179e\"], [0.4444444444444444, \"#bd3786\"], [0.5555555555555556, \"#d8576b\"], [0.6666666666666666, \"#ed7953\"], [0.7777777777777778, \"#fb9f3a\"], [0.8888888888888888, \"#fdca26\"], [1.0, \"#f0f921\"]], \"type\": \"surface\"}], \"table\": [{\"cells\": {\"fill\": {\"color\": \"#EBF0F8\"}, \"line\": {\"color\": \"white\"}}, \"header\": {\"fill\": {\"color\": \"#C8D4E3\"}, \"line\": {\"color\": \"white\"}}, \"type\": \"table\"}]}, \"layout\": {\"annotationdefaults\": {\"arrowcolor\": \"#2a3f5f\", \"arrowhead\": 0, \"arrowwidth\": 1}, \"coloraxis\": {\"colorbar\": {\"outlinewidth\": 0, \"ticks\": \"\"}}, \"colorscale\": {\"diverging\": [[0, \"#8e0152\"], [0.1, \"#c51b7d\"], [0.2, \"#de77ae\"], [0.3, \"#f1b6da\"], [0.4, \"#fde0ef\"], [0.5, \"#f7f7f7\"], [0.6, \"#e6f5d0\"], [0.7, \"#b8e186\"], [0.8, \"#7fbc41\"], [0.9, \"#4d9221\"], [1, \"#276419\"]], \"sequential\": [[0.0, \"#0d0887\"], [0.1111111111111111, \"#46039f\"], [0.2222222222222222, \"#7201a8\"], [0.3333333333333333, \"#9c179e\"], [0.4444444444444444, \"#bd3786\"], [0.5555555555555556, \"#d8576b\"], [0.6666666666666666, \"#ed7953\"], [0.7777777777777778, \"#fb9f3a\"], [0.8888888888888888, \"#fdca26\"], [1.0, \"#f0f921\"]], \"sequentialminus\": [[0.0, \"#0d0887\"], [0.1111111111111111, \"#46039f\"], [0.2222222222222222, \"#7201a8\"], [0.3333333333333333, \"#9c179e\"], [0.4444444444444444, \"#bd3786\"], [0.5555555555555556, \"#d8576b\"], [0.6666666666666666, \"#ed7953\"], [0.7777777777777778, \"#fb9f3a\"], [0.8888888888888888, \"#fdca26\"], [1.0, \"#f0f921\"]]}, \"colorway\": [\"#636efa\", \"#EF553B\", \"#00cc96\", \"#ab63fa\", \"#FFA15A\", \"#19d3f3\", \"#FF6692\", \"#B6E880\", \"#FF97FF\", \"#FECB52\"], \"font\": {\"color\": \"#2a3f5f\"}, \"geo\": {\"bgcolor\": \"white\", \"lakecolor\": \"white\", \"landcolor\": \"white\", \"showlakes\": true, \"showland\": true, \"subunitcolor\": \"#C8D4E3\"}, \"hoverlabel\": {\"align\": \"left\"}, \"hovermode\": \"closest\", \"mapbox\": {\"style\": \"light\"}, \"paper_bgcolor\": \"white\", \"plot_bgcolor\": \"white\", \"polar\": {\"angularaxis\": {\"gridcolor\": \"#EBF0F8\", \"linecolor\": \"#EBF0F8\", \"ticks\": \"\"}, \"bgcolor\": \"white\", \"radialaxis\": {\"gridcolor\": \"#EBF0F8\", \"linecolor\": \"#EBF0F8\", \"ticks\": \"\"}}, \"scene\": {\"xaxis\": {\"backgroundcolor\": \"white\", \"gridcolor\": \"#DFE8F3\", \"gridwidth\": 2, \"linecolor\": \"#EBF0F8\", \"showbackground\": true, \"ticks\": \"\", \"zerolinecolor\": \"#EBF0F8\"}, \"yaxis\": {\"backgroundcolor\": \"white\", \"gridcolor\": \"#DFE8F3\", \"gridwidth\": 2, \"linecolor\": \"#EBF0F8\", \"showbackground\": true, \"ticks\": \"\", \"zerolinecolor\": \"#EBF0F8\"}, \"zaxis\": {\"backgroundcolor\": \"white\", \"gridcolor\": \"#DFE8F3\", \"gridwidth\": 2, \"linecolor\": \"#EBF0F8\", \"showbackground\": true, \"ticks\": \"\", \"zerolinecolor\": \"#EBF0F8\"}}, \"shapedefaults\": {\"line\": {\"color\": \"#2a3f5f\"}}, \"ternary\": {\"aaxis\": {\"gridcolor\": \"#DFE8F3\", \"linecolor\": \"#A2B1C6\", \"ticks\": \"\"}, \"baxis\": {\"gridcolor\": \"#DFE8F3\", \"linecolor\": \"#A2B1C6\", \"ticks\": \"\"}, \"bgcolor\": \"white\", \"caxis\": {\"gridcolor\": \"#DFE8F3\", \"linecolor\": \"#A2B1C6\", \"ticks\": \"\"}}, \"title\": {\"x\": 0.05}, \"xaxis\": {\"automargin\": true, \"gridcolor\": \"#EBF0F8\", \"linecolor\": \"#EBF0F8\", \"ticks\": \"\", \"title\": {\"standoff\": 15}, \"zerolinecolor\": \"#EBF0F8\", \"zerolinewidth\": 2}, \"yaxis\": {\"automargin\": true, \"gridcolor\": \"#EBF0F8\", \"linecolor\": \"#EBF0F8\", \"ticks\": \"\", \"title\": {\"standoff\": 15}, \"zerolinecolor\": \"#EBF0F8\", \"zerolinewidth\": 2}}}, \"xaxis\": {\"anchor\": \"y\", \"domain\": [0.0, 1.0], \"title\": {\"text\": \"Month\"}}, \"yaxis\": {\"anchor\": \"x\", \"domain\": [0.0, 1.0], \"title\": {\"text\": \"Number of Tweets\"}}},                        {\"responsive\": true}                    ).then(function(){\n",
       "                            \n",
       "var gd = document.getElementById('d3a2e51d-5aad-4e67-9852-ad4c3a1b5762');\n",
       "var x = new MutationObserver(function (mutations, observer) {{\n",
       "        var display = window.getComputedStyle(gd).display;\n",
       "        if (!display || display === 'none') {{\n",
       "            console.log([gd, 'removed!']);\n",
       "            Plotly.purge(gd);\n",
       "            observer.disconnect();\n",
       "        }}\n",
       "}});\n",
       "\n",
       "// Listen for the removal of the full notebook cells\n",
       "var notebookContainer = gd.closest('#notebook-container');\n",
       "if (notebookContainer) {{\n",
       "    x.observe(notebookContainer, {childList: true});\n",
       "}}\n",
       "\n",
       "// Listen for the clearing of the current output cell\n",
       "var outputEl = gd.closest('.output');\n",
       "if (outputEl) {{\n",
       "    x.observe(outputEl, {childList: true});\n",
       "}}\n",
       "\n",
       "                        })                };                });            </script>        </div>"
      ]
     },
     "metadata": {},
     "output_type": "display_data"
    }
   ],
   "source": [
    "tmp_df = df.loc[:, ['month']].copy()\n",
    "tmp_df['Number of Tweets'] = 1\n",
    "tmp_df = tmp_df.groupby('month').sum().reset_index()\n",
    "\n",
    "fig = px.bar(tmp_df, x='month', y='Number of Tweets')\n",
    "fig.update_layout(yaxis_title='Number of Tweets', xaxis_title='Month', template='plotly_white')\n",
    "fig.layout.font.size=15\n",
    "fig.show()"
   ]
  },
  {
   "cell_type": "code",
   "execution_count": 50,
   "metadata": {},
   "outputs": [],
   "source": [
    "fig.write_image('covid_tweet_per_month_distribution_fixedfont.pdf', width=500, height=500)"
   ]
  },
  {
   "cell_type": "code",
   "execution_count": null,
   "metadata": {},
   "outputs": [],
   "source": []
  }
 ],
 "metadata": {
  "kernelspec": {
   "display_name": "Python 3",
   "language": "python",
   "name": "python3"
  },
  "language_info": {
   "codemirror_mode": {
    "name": "ipython",
    "version": 3
   },
   "file_extension": ".py",
   "mimetype": "text/x-python",
   "name": "python",
   "nbconvert_exporter": "python",
   "pygments_lexer": "ipython3",
   "version": "3.7.3"
  }
 },
 "nbformat": 4,
 "nbformat_minor": 4
}
